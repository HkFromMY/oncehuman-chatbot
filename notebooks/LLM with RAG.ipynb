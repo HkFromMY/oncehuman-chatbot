{
 "cells": [
  {
   "cell_type": "code",
   "execution_count": 1,
   "metadata": {},
   "outputs": [
    {
     "data": {
      "text/plain": [
       "True"
      ]
     },
     "execution_count": 1,
     "metadata": {},
     "output_type": "execute_result"
    }
   ],
   "source": [
    "import os \n",
    "from dotenv import load_dotenv, find_dotenv\n",
    "\n",
    "load_dotenv(find_dotenv())\n"
   ]
  },
  {
   "cell_type": "markdown",
   "metadata": {},
   "source": [
    "### Connecting to Groq for LLMs"
   ]
  },
  {
   "cell_type": "code",
   "execution_count": 2,
   "metadata": {},
   "outputs": [
    {
     "data": {
      "text/plain": [
       "AIMessage(content='Hello. How can I assist you today?', additional_kwargs={}, response_metadata={'token_usage': {'completion_tokens': 10, 'prompt_tokens': 52, 'total_tokens': 62, 'completion_time': 0.040073665, 'prompt_time': 0.011983758, 'queue_time': 0.0056710300000000005, 'total_time': 0.052057423}, 'model_name': 'llama-3.1-70b-versatile', 'system_fingerprint': 'fp_b3ae7e594e', 'finish_reason': 'stop', 'logprobs': None}, id='run-b6fdd06f-173f-4fa5-be8b-0664a6b966c6-0', usage_metadata={'input_tokens': 52, 'output_tokens': 10, 'total_tokens': 62})"
      ]
     },
     "execution_count": 2,
     "metadata": {},
     "output_type": "execute_result"
    }
   ],
   "source": [
    "from langchain_groq import ChatGroq \n",
    "\n",
    "llm = ChatGroq(\n",
    "    model='llama-3.1-70b-versatile', # 70 billion parameters with maximum of 8192 tokens\n",
    "    temperature=0.5,\n",
    "    max_tokens=4096, # maximum 8000\n",
    "    timeout=None,\n",
    "    max_retries=3,\n",
    ")\n",
    "\n",
    "messages = [\n",
    "    ('system', 'You are a helpful assistant that can answer the questions from the users.'),\n",
    "    ('human', 'Hello there!')\n",
    "]\n",
    "\n",
    "response = llm.invoke(messages)\n",
    "response"
   ]
  },
  {
   "cell_type": "code",
   "execution_count": 46,
   "metadata": {},
   "outputs": [
    {
     "name": "stdout",
     "output_type": "stream",
     "text": [
      "Hello. It's nice to meet you. Is there something I can help you with or would you like to chat?"
     ]
    }
   ],
   "source": [
    "import time \n",
    "\n",
    "for chunk in llm.stream(messages):\n",
    "    time.sleep(0.1)\n",
    "    print(chunk.content, end='')\n"
   ]
  },
  {
   "cell_type": "markdown",
   "metadata": {},
   "source": [
    "### Connecting to Pinecone (Vector Store)"
   ]
  },
  {
   "cell_type": "code",
   "execution_count": 3,
   "metadata": {},
   "outputs": [
    {
     "name": "stderr",
     "output_type": "stream",
     "text": [
      "c:\\Users\\Usrer\\Desktop\\OnceHuman Chatbot\\venv\\lib\\site-packages\\pinecone\\data\\index.py:1: TqdmWarning: IProgress not found. Please update jupyter and ipywidgets. See https://ipywidgets.readthedocs.io/en/stable/user_install.html\n",
      "  from tqdm.autonotebook import tqdm\n"
     ]
    }
   ],
   "source": [
    "import getpass\n",
    "import os\n",
    "import time\n",
    "\n",
    "from pinecone import Pinecone, ServerlessSpec\n",
    "\n",
    "if not os.getenv(\"PINECONE_API_KEY\"):\n",
    "    raise ValueError(\"Please set the PINECONE_API_KEY environment variable.\")\n",
    "\n",
    "pinecone_api_key = os.environ.get(\"PINECONE_API_KEY\")\n",
    "\n",
    "pc = Pinecone(api_key=pinecone_api_key)"
   ]
  },
  {
   "cell_type": "code",
   "execution_count": 4,
   "metadata": {},
   "outputs": [],
   "source": [
    "import time\n",
    "\n",
    "index_name = \"oncehuman-vector-store\"  # change if desired\n",
    "\n",
    "existing_indexes = [index_info[\"name\"] for index_info in pc.list_indexes()]\n",
    "\n",
    "if index_name not in existing_indexes:\n",
    "    pc.create_index(\n",
    "        name=index_name,\n",
    "        dimension=3072,\n",
    "        metric=\"cosine\",\n",
    "        spec=ServerlessSpec(cloud=\"aws\", region=\"us-east-1\"),\n",
    "    )\n",
    "    while not pc.describe_index(index_name).status[\"ready\"]:\n",
    "        time.sleep(1)\n",
    "\n",
    "index = pc.Index(index_name)"
   ]
  },
  {
   "cell_type": "code",
   "execution_count": 5,
   "metadata": {},
   "outputs": [],
   "source": [
    "from langchain_huggingface.embeddings.huggingface_endpoint import HuggingFaceEndpointEmbeddings\n",
    "from langchain_pinecone import PineconeVectorStore\n",
    "\n",
    "embedding = HuggingFaceEndpointEmbeddings(model='sentence-transformers/all-mpnet-base-v2')\n",
    "vector_store = PineconeVectorStore(index=index, embedding=embedding)\n",
    "retriever = vector_store.as_retriever(search_type='mmr', search_kwargs={ 'k': 5, 'top_k': 25, 'lambda_mult': 0.5 })"
   ]
  },
  {
   "cell_type": "code",
   "execution_count": 6,
   "metadata": {},
   "outputs": [
    {
     "name": "stdout",
     "output_type": "stream",
     "text": [
      "This article is about **Solar Drill** the Tool, did you mean:Solar Drill (Memetic Specialization)?\n",
      "> An upgraded Electric Rock Drill that offers greatly increased Mining efficiency. It runs entirely on solar power.\n",
      "Solar Drill\n",
      "-----------\n",
      "[![Solar Drill](https://static.wikia.nocookie.net/once-human/images/0/09/Solar_Drill.png/revision/latest?cb=20240917123207)](https://static.wikia.nocookie.net/once-human/images/0/09/Solar_Drill.png/revision/latest?cb=20240917123207 \"Solar Drill\")\n",
      "### Rarity\n",
      "[Legendary](/wiki/Category:Legendary \"Category:Legendary\")\n",
      "### Type\n",
      "[Tools](/wiki/Category:Tools \"Category:Tools\")\n",
      "### Weight\n",
      "1\\.000\n",
      "### Durability\n",
      "50\n",
      "How To Get\n",
      "----------\n",
      "**Memetic Specialization**:Solar Drill (Memetic Specialization)**Crafted**:[Intermediate Supplies Workbench](/wiki/Intermediate_Supplies_Workbench \"Intermediate Supplies Workbench\")  \n",
      "[Advanced Supplies Workbench](/wiki/Advanced_Supplies_Workbench \"Advanced Supplies Workbench\")  \n",
      "Contents\n",
      "--------\n",
      "* [1 Summary](#Summary)\n",
      "* [2 How To Get](#How_To_Get)\n",
      "\t+ [2\\.1 Formulas](#Formulas)\n",
      "* [3 Tips](#Tips)\n",
      "Summary\\[]\n",
      "----------\n",
      "This tool makes Mining significantly easier, as it is capable of mining entire Aluminum and Tungsten Ore nodes in seconds.\n",
      "The Solar Drill charges itself on sunny days and the yields of [Copper Ore](/wiki/Copper_Ore \"Copper Ore\"), [Tin Ore](/wiki/Tin_Ore \"Tin Ore\"), [Iron Ore](/wiki/Iron_Ore \"Iron Ore\"), [Aluminum Ore](/wiki/Aluminum_Ore \"Aluminum Ore\"), and [Tungsten Ore](/wiki/Tungsten_Ore \"Tungsten Ore\") increase by 15% (Aluminum), 25% (Tungsten), and 40% (Gold) depending on the materials used.\n",
      "How To Get\\[]\n",
      "-------------\n",
      "**Solar Drills** can be crafted on an [Intermediate Supplies Workbench](/wiki/Intermediate_Supplies_Workbench \"Intermediate Supplies Workbench\") or [Advanced Supplies Workbench](/wiki/Advanced_Supplies_Workbench \"Advanced Supplies Workbench\").\n",
      "### Formulas\\[]\n"
     ]
    }
   ],
   "source": [
    "relevant_docs = retriever.invoke('What is a solar drill?')\n",
    "print(relevant_docs[0].page_content)"
   ]
  },
  {
   "cell_type": "markdown",
   "metadata": {},
   "source": [
    "### Creating history-aware retriever and conversational model"
   ]
  },
  {
   "cell_type": "code",
   "execution_count": 7,
   "metadata": {},
   "outputs": [],
   "source": [
    "from langchain.chains import create_history_aware_retriever, create_retrieval_chain \n",
    "from langchain_core.prompts import ChatPromptTemplate, MessagesPlaceholder\n",
    "from langchain.chains.combine_documents import create_stuff_documents_chain\n",
    "from langchain_community.chat_message_histories import ChatMessageHistory\n",
    "from langchain_core.runnables.history import RunnableWithMessageHistory\n",
    "\n",
    "HISTORY_AWARE_PROMPT = \"\"\"Given a chat history and the latest user question \\\n",
    "which might reference context in the chat history, formulate a standalone question \\\n",
    "which can be understood without the chat history. Do NOT answer the question, \\\n",
    "just reformulate it if needed and otherwise return it as is.\"\"\"\n",
    "\n",
    "HISTORY_AWARE_PROMPT_TEMPLATE = ChatPromptTemplate.from_messages([\n",
    "    ('system', HISTORY_AWARE_PROMPT),\n",
    "    MessagesPlaceholder('chat_history'),\n",
    "    ('human', '{input}'),\n",
    "])\n",
    "\n",
    "history_aware_retriever = create_history_aware_retriever(llm=llm, retriever=retriever, prompt=HISTORY_AWARE_PROMPT_TEMPLATE)\n",
    "\n",
    "RAG_SYSTEM_PROMPT = \"\"\"You are an assistant for question-answering tasks. \\\n",
    "Use the following pieces of retrieved context to answer the question. \\\n",
    "If you don't know the answer, just say that you don't know. \\\n",
    "Use three sentences maximum and keep the answer concise.\\\n",
    "Just return answer to the question directly. Do not try to make up the next question and answer. \\\n",
    "\n",
    "Context: {context}\"\"\"\n",
    "\n",
    "RAG_SYSTEM_PROMPT_TEMPLATE = ChatPromptTemplate.from_messages([\n",
    "    ('system', RAG_SYSTEM_PROMPT),\n",
    "    MessagesPlaceholder('chat_history'),\n",
    "    ('human', '{input}'),\n",
    "])\n",
    "\n",
    "qa_chain = create_stuff_documents_chain(llm=llm, prompt=RAG_SYSTEM_PROMPT_TEMPLATE)\n",
    "rag_chain = create_retrieval_chain(\n",
    "    retriever=history_aware_retriever,\n",
    "    combine_docs_chain=qa_chain,\n",
    ")\n"
   ]
  },
  {
   "cell_type": "code",
   "execution_count": 13,
   "metadata": {},
   "outputs": [],
   "source": [
    "store = {}\n",
    "\n",
    "def get_session_history(session_id):\n",
    "    if session_id not in store:\n",
    "        store[session_id] = ChatMessageHistory()\n",
    "    return store[session_id]\n",
    "\n",
    "conversational_rag_chain = RunnableWithMessageHistory(\n",
    "    rag_chain,\n",
    "    get_session_history,\n",
    "    input_messages_key='input',\n",
    "    history_messages_key='chat_history',\n",
    "    output_messages_key='answer',\n",
    ")"
   ]
  },
  {
   "cell_type": "code",
   "execution_count": 18,
   "metadata": {},
   "outputs": [
    {
     "data": {
      "text/plain": [
       "{'input': 'Can you list down the items and mods required?',\n",
       " 'chat_history': [HumanMessage(content='What is the latest event in Once Human?', additional_kwargs={}, response_metadata={}),\n",
       "  AIMessage(content=\"I don't know the latest event in Once Human as the provided context only contains information up to October 2024.\", additional_kwargs={}, response_metadata={}),\n",
       "  HumanMessage(content='What is the best build in Once Human?', additional_kwargs={}, response_metadata={}),\n",
       "  AIMessage(content='There is no single \"best\" build mentioned in the context, as players have different preferences and builds for different playstyles, such as frost, burn, shock, unstable bomber, and fast gunner.', additional_kwargs={}, response_metadata={}),\n",
       "  HumanMessage(content='Okay, how to build unstable bomer build?', additional_kwargs={}, response_metadata={}),\n",
       "  AIMessage(content='The context doesn\\'t provide a detailed guide on how to build an unstable bomber, but it mentions a \"Quick And Dirty Unstable Bomber Build\" with infographics, and a discussion about using Reckless Bomber (RB) over Bombardier, which requires a high crit rate to be effective.', additional_kwargs={}, response_metadata={}),\n",
       "  HumanMessage(content='Can you elaborate more on this?', additional_kwargs={}, response_metadata={}),\n",
       "  AIMessage(content=\"The context mentions that Reckless Bomber (RB) outperforms Bombardier with high enough crit rate and damage, but doesn't provide a specific crit rate threshold. One user mentions getting close to RB being better than Bombardier with around 30% crit rate (before adding buffs).\", additional_kwargs={}, response_metadata={})],\n",
       " 'context': [Document(metadata={'created_at': '2024-10-14 05:43:20', 'id': '1fakl3r', 'source': 'reddit', 'source_url': 'https://reddit.com/r/OnceHumanOfficial/comments/1fakl3r/quick_and_dirty_unstable_bomber_build/'}, page_content=\"### Question\\nQuick And Dirty Unstable Bomber Build\\n\\nHaven't Seen Anyone With an Infographic so I hope this helps!\\n\\nhttps://preview.redd.it/702ook4z18nd1.png?width=1578&format=png&auto=webp&s=294ebd22412ef20916cab8ec7864496e13803cc4\\n\\nhttps://preview.redd.it/gtq8kkvh28nd1.png?width=1007&format=png&auto=webp&s=1008bb4c85daa20935e72648ce71f529f416f3c8\\n\\nLet me know if anyone wants more analysis on other aspects of the build\\n\\n  \\n\\\\*Certain Crit Ratio can bring Reckless Bomber too the top, guide more geared towards players building up to maxing build\\\\*\\n\\n###Discussion/Answer:\\nBombardier is lower dps than RB. You miss out on all the +dmg after reload. I’ve tested this extensively. With high enough crit rate/damage RB outperforms by a good margin\\n\\nThat's really helpful. \\n\\nWhat kind of moss are you running on your armor?\\n\\nI have no idea what those texts in pictures mean :D\\n\\nEven with a 20 shot mag? With a rapid shot calibration and lone wolf armor it's relatively easy to get the missing ~16% (I think, need to check for actual numbers) magazine capacity from mods to get 20 shots, which means the souvenir will grant 2 shots, so you'll effectively never have to reload.\\n\\nI can see that as a highly optimized build that some people could have, I can add a clause that it will require quite high Crit Rate since when starting out the build you would neuter yourself sticking with RB until you have those thresholds.\\n\\nDo you know the ratio of Crit Rate Needed/Damage when needing to use that?  \\nAt what Crit Rate do you need to hit before RB starts being better them Bombardier?\\n\\nI have gotten up to about \\\\~30% Crit Rate (Base before adding in all the buffs) and got pretty close for RB vs Bombardier.\\n\\nGlad to see this helping out, I can definitly get a infographic going for the armor pieces.\\n\\nWhich one lol\\n\\nPlay how you want but it’s a big dps loss.\\n\\nYa the never reload is really nice, I agree. Could see it insane for PVP.\"),\n",
       "  Document(metadata={'created_at': '2024-09-18 16:18:48', 'id': '1890155f-ef7b-4b4d-adc8-449ea300aa32', 'source': 'OnceHuman Wiki', 'source_url': 'https://once-human.fandom.com/wiki/Planter_Box'}, page_content='### Planter Box | Once Human Wiki | Fandom\\n\\nPlanter Box\\r\\n-----------\\r\\n### Facility\\r\\n[Gathering](/wiki/Category:Gathering \"Category:Gathering\")  \\r\\n([Production Processing](/wiki/Category:Production_Processing \"Category:Production Processing\"))\\r\\nHow To Get\\r\\n----------\\r\\n[Build Mode](/wiki/Build_Mode \"Build Mode\")[Memetic Unlock](/wiki/Memetics \"Memetics\")  \\r\\nThis article is a [stub](/wiki/Category:Article_stubs \"Category:Article stubs\").\\r\\nYou can help the Once Human Wiki by [expanding it](https://once-human.fandom.com/wiki/Planter_Box?action=edit).'),\n",
       "  Document(metadata={'created_at': '2024-09-18 16:17:44', 'id': '90098ace-3c20-4a29-ad1c-7b7ccaaa1891', 'source': 'OnceHuman Wiki', 'source_url': 'https://once-human.fandom.com/wiki/Memetics'}, page_content='| [ExplosiveThrowablesEchoBlast](https://static.wikia.nocookie.net/once-human/images/7/75/ExplosiveThrowablesEchoBlast.png/revision/latest?cb=20240801024018) | Explosive Throwables: Echo Blast | Demolition Expert | Improved Formula: Explosive Throwables | Increase the DMG of High\\\\-Explosive Grenades, Shrapnel Grenades, Molotov Cocktails, and Thermite DMG by 30%. The first target killed will trigger 1 extra explosion, dealing damage equal to 400% Psi Intensity. | 20/25/30/35 |\\r\\n| [GearWorkbenchCustomization](https://static.wikia.nocookie.net/once-human/images/5/5d/GearWorkbenchCustomization.png/revision/latest?cb=20240801024119) | Gear Workbench: Customization | Master Craftsman | Facility Boost: Gear Workbench | Weapons and Armor crafted using the Gear Workbench enjoy \\\\+30% Max Durability. | 5/10/15 |\\r\\n| [JumpBooster](https://static.wikia.nocookie.net/once-human/images/4/4b/JumpBooster.png/revision/latest?cb=20240801024214) | Jump Booster | Machinist | Unlock New Formula: Jump Booster | Use to gain the double jump ability for 30 seconds. Can use up to 5 times. | 5/10/15 |\\r\\n| [PortableMGTurretBarrageofBullets](https://static.wikia.nocookie.net/once-human/images/2/28/PortableMGTurretBarrageofBullets.png/revision/latest?cb=20240801024328) | Portable MG Turret: Barrage of Bullets | Machinist | Improved Formula: Portable MG Turret | Firing the MG Turret can trigger the Bounce effect, increasing HP and DMG by 30%. The MG Turret is now a reusable item, with up to 5 uses max. | 20/25/30/35 |\\r\\n| [PortableUpdraftDevice](https://static.wikia.nocookie.net/once-human/images/b/b4/PortableUpdraftDevice.png/revision/latest?cb=20240801024440) | Portable Updraft Device | Machinist | Unlock New Formula: Portable Updraft Device | Use to temporarily summon an updraft at the location for 30s. When inside the updraft, jump height is increased. Can use up to 10 times. | 20/25/30/35 |'),\n",
       "  Document(metadata={'created_at': '2024-09-18 16:18:04', 'id': '2b0b226b-ca82-4df9-af93-0d240de9aed1', 'source': 'OnceHuman Wiki', 'source_url': 'https://once-human.fandom.com/wiki/Vintage_Toy_Airplane'}, page_content='### Vintage Toy Airplane | Once Human Wiki | Fandom\\n\\n> A vintage\\\\-looking toy. Its previous owner once dreamed of soaring through the sky with it.\\r\\n>   \\r\\n> **Disassemble to obtain a large amount of materials.**\\r\\nVintage Toy Airplane\\r\\n--------------------\\r\\n### Rarity\\r\\n[Legendary](/wiki/Category:Legendary \"Category:Legendary\")\\r\\n### Type\\r\\n[Materials](/wiki/Category:Materials \"Category:Materials\")\\r\\n### Weight\\r\\n0\\\\.400\\r\\nHow To Get\\r\\n----------\\r\\nExplore the Wilderness  \\r\\nContents\\r\\n--------\\r\\n* [1 How To Use](#How_To_Use)\\r\\nHow To Use\\\\[]\\r\\n-------------\\r\\nVintage Toy Airplanes can be deconstructed in a [Disassembly Bench](/wiki/Disassembly_Bench \"Disassembly Bench\"), providing the following materials:\\r\\n[Disassembly Bench](/wiki/Disassembly_Bench \"Disassembly Bench\")\\r\\n| 24 | [Rusted Part](/wiki/Rusted_Part \"Rusted Part\") |\\r\\n| --- | --- |\\r\\n| 20 | [Shabby Fabric](/wiki/Shabby_Fabric \"Shabby Fabric\") |\\r\\n| 32 | [Waste Plastic](/wiki/Waste_Plastic \"Waste Plastic\") |\\r\\n| 7 | [Electronic Part](/wiki/Electronic_Part \"Electronic Part\") |'),\n",
       "  Document(metadata={'created_at': '2024-10-14 05:43:20', 'id': '1fe3nbd', 'source': 'reddit', 'source_url': 'https://reddit.com/r/OnceHumanOfficial/comments/1fe3nbd/this_wipe_shit_is_awesome/'}, page_content=\"Yes that's what I did, I thought I'd do more PvP stuff but just ended up doing PvE the whole time\\n\\nLots of videos on YT will give you a list of things but, fear not for what you're worried about.\\n\\nYou go in as a fresh character, level 1. You keep all your blueprints, mods, anything important really.\\n\\nYour seasonal backpack is where all your old stuff is stored and can be withdrawn with limited seasonal currency. Pull out important deviants and stuff. Resources can all easily be refarmed as you progress. \\n\\nI have my entire Unstable Bomber build currently built just in T1 gear and will upgrade as I progress. I have all my leveled mods, etc. and I can switch to my original power surge build at anytime I want because you keep ALL blueprints you've unlocked.\\n\\nYour base will be turned into a blueprint, you will just have to farm all those resources to rebuild it. For now I've created a small functional base as I unlock memetics and progress. Then probably roughly week 3 I'll disassemble everything, and place my blueprint back down once I've got all my resources required. In your blueprints, say your base is made of concrete, you can choose to make it something like wood so it's easier to have the resources available to build it.\\n\\nI strongly recommend looking up some videos and what's recommended to bring in with the limited currency, I brought what I found important with some to spare.\\n\\nEdit to add, I definitely started to feel like I was hitting a bit of a wall near the end of week 4 to week 5. Quickly would do phase stuff then wouldn't really know what to do, so feeling the sense of progression again even though it's the second time feels really nice and gives me an end game to once again work towards.\\n\\nOn phase 2 yes. On phase 1 it's locked.\\n5 minutes before phase 2 we had like 10-20 waiting near the wall to race for the spot. And that's only 1 world.\")],\n",
       " 'answer': \"No, I don't have that information. The provided context only contains a discussion about the build and some general information, but it doesn't include a specific list of required items and mods.\"}"
      ]
     },
     "execution_count": 18,
     "metadata": {},
     "output_type": "execute_result"
    }
   ],
   "source": [
    "# limitation: cannot use .stream() method due to version compatibility\n",
    "\n",
    "import time \n",
    "\n",
    "user_prompt = { 'input': 'Can you list down the items and mods required?' }\n",
    "config = { 'configurable': { 'session_id': '1' } }\n",
    "\n",
    "conversational_rag_chain.invoke(user_prompt, config=config)\n"
   ]
  },
  {
   "cell_type": "code",
   "execution_count": null,
   "metadata": {},
   "outputs": [],
   "source": []
  },
  {
   "cell_type": "code",
   "execution_count": null,
   "metadata": {},
   "outputs": [],
   "source": []
  }
 ],
 "metadata": {
  "kernelspec": {
   "display_name": "venv",
   "language": "python",
   "name": "python3"
  },
  "language_info": {
   "codemirror_mode": {
    "name": "ipython",
    "version": 3
   },
   "file_extension": ".py",
   "mimetype": "text/x-python",
   "name": "python",
   "nbconvert_exporter": "python",
   "pygments_lexer": "ipython3",
   "version": "3.10.9"
  }
 },
 "nbformat": 4,
 "nbformat_minor": 2
}
