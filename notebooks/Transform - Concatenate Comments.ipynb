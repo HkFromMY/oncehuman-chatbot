{
 "cells": [
  {
   "cell_type": "code",
   "execution_count": 27,
   "metadata": {},
   "outputs": [],
   "source": [
    "import pandas as pd \n",
    "from sqlalchemy import create_engine\n",
    "\n",
    "USERNAME = 'reddit'\n",
    "PASSWORD = 'reddit'\n",
    "DB = 'reddit'\n",
    "HOST = 'localhost'\n",
    "PORT = '5432'\n",
    "\n",
    "engine = create_engine(f'postgresql://{USERNAME}:{PASSWORD}@{HOST}:{PORT}/{DB}')\n",
    "\n",
    "comments_df = pd.read_sql_query('SELECT * FROM \"reddit_comments\";', engine)"
   ]
  },
  {
   "cell_type": "code",
   "execution_count": 28,
   "metadata": {},
   "outputs": [
    {
     "data": {
      "text/plain": [
       "Index(['id', 'post_id', 'text', 'created_utc', 'ups', 'downs', 'likes',\n",
       "       'created_at'],\n",
       "      dtype='object')"
      ]
     },
     "execution_count": 28,
     "metadata": {},
     "output_type": "execute_result"
    }
   ],
   "source": [
    "comments_df.columns"
   ]
  },
  {
   "cell_type": "code",
   "execution_count": 29,
   "metadata": {},
   "outputs": [],
   "source": [
    "comments_df['concatenated_comments_text'] = comments_df.groupby('post_id')['text'].transform(lambda x: '\\n\\n'.join(x))\n",
    "comments_df = comments_df[['post_id', 'concatenated_comments_text']].drop_duplicates()"
   ]
  },
  {
   "cell_type": "code",
   "execution_count": 30,
   "metadata": {},
   "outputs": [
    {
     "name": "stdout",
     "output_type": "stream",
     "text": [
      "I raised this issue before the release of this scenario. Who gets to keep these rare deviations if it's a whole hive/faction helping to cap and secure it? Unless one person did the entire cap/securing by themselves, the other players will feel a bit ripped off helping one person get the rarest deviation and spending 2+ hours doing it. Yes, there's faction points but that's not enough.\n",
      "\n",
      "The fact that people helping get nothing - while the popularity contest leaderboard toppers get literal thousands of starchrom - is just insult on top of the broken legs and stomped balls that is this scenario.\n",
      "\n",
      "Just another system that wasn't thought about or tested AT ALL before implementation...\n",
      "\n",
      "I can agree from a \"I caught every shiny not carrying about level\" because I'm a Pokemon fan and want one of each. From a gameplay stance, the likelihood of one of those dropping at lvl 5 is probably really damn rare overall. I'm not on that phase yet so feel free to tell me this part is wrong if so. But the idea is that you are trying to beat the other faction. I think we should get the variant option somehow, even if it's not prism though so people who like to collect can have one as well.\n",
      "Also agree with the other comment that the rewards being tied to a player are a trash system. This I believe more than the variant are causing fights, grieving and a loss of points for some factions because people want to rank.\n",
      "Here's hoping they do at least a few tweaks to the system.\n",
      "Side thought, the variant being rare could be used to keep people playing the scenario.\n",
      "\n",
      "Make it purchasable with a point system based on the purification and everyone wins. Hell, add some random items to buy so the winner also has something to buy.\n",
      "\n",
      "Sounds like the ole NM’s from FFXI!\n",
      "\n",
      "I really don't understand why people which are helping with purification get nothing. I don't think that points for faction are enough when only one lucky player gets points for ranking and deviation as well. Like am I sitting there for hours just to get 3 more gamba crates at the end?\n",
      "\n",
      "That is definitely a major downside . I'm not incentivized to help anyone capture , especially when it's gonna reach 2 hours ,capture time , at all . I'm mostly just chilling on prismverse for extra rewards but not much else .\n",
      "\n",
      "Read the reward page again. \n",
      "\n",
      "Everyone can claim the chest from the same faction. \n",
      "\n",
      "The top 10 actually only gets 1000 extra starchrom if the chest is claimed by more than 20 people.\n",
      "\n",
      "Yeah. It would be cool if everyone who was guarding or helping to defend the territory to get maybe 1 point? Since purifying the deviant nets u 10. Then everyone who helped defend also get something out of it\n",
      "\n",
      "def agree, that whole guarding sthick is so stupid. its already bad enough we have to drive over to these purification zones but there's no visible timer no rewards no nothing for helping defend the purification. at least make it trigger a zone so that we get points we can spend on deviants or a bit of starchrome for participating in the pvp event the whole scenario is suppose to be based around.\n"
     ]
    }
   ],
   "source": [
    "print(comments_df.iloc[0]['concatenated_comments_text'])"
   ]
  },
  {
   "cell_type": "code",
   "execution_count": 31,
   "metadata": {},
   "outputs": [
    {
     "data": {
      "text/plain": [
       "Index(['id', 'title', 'selftext', 'num_comments', 'created_utc',\n",
       "       'upvote_ratio', 'permalink', 'created_at'],\n",
       "      dtype='object')"
      ]
     },
     "execution_count": 31,
     "metadata": {},
     "output_type": "execute_result"
    }
   ],
   "source": [
    "posts_df = pd.read_sql_query('SELECT * FROM \"reddit_posts\";', con=engine)\n",
    "\n",
    "posts_df.columns"
   ]
  },
  {
   "cell_type": "code",
   "execution_count": 33,
   "metadata": {},
   "outputs": [
    {
     "data": {
      "text/html": [
       "<div>\n",
       "<style scoped>\n",
       "    .dataframe tbody tr th:only-of-type {\n",
       "        vertical-align: middle;\n",
       "    }\n",
       "\n",
       "    .dataframe tbody tr th {\n",
       "        vertical-align: top;\n",
       "    }\n",
       "\n",
       "    .dataframe thead th {\n",
       "        text-align: right;\n",
       "    }\n",
       "</style>\n",
       "<table border=\"1\" class=\"dataframe\">\n",
       "  <thead>\n",
       "    <tr style=\"text-align: right;\">\n",
       "      <th></th>\n",
       "      <th>id</th>\n",
       "      <th>title</th>\n",
       "      <th>selftext</th>\n",
       "      <th>num_comments</th>\n",
       "      <th>created_utc</th>\n",
       "      <th>upvote_ratio</th>\n",
       "      <th>permalink</th>\n",
       "      <th>created_at</th>\n",
       "      <th>post_id</th>\n",
       "      <th>concatenated_comments_text</th>\n",
       "    </tr>\n",
       "  </thead>\n",
       "  <tbody>\n",
       "    <tr>\n",
       "      <th>0</th>\n",
       "      <td>1ftzssg</td>\n",
       "      <td>Distribution system of Berserkosaurus Rex and ...</td>\n",
       "      <td>I was pretty hyped for Primaverse Clash scenar...</td>\n",
       "      <td>10</td>\n",
       "      <td>2024-10-01 21:35:14</td>\n",
       "      <td>0.98</td>\n",
       "      <td>/r/OnceHumanOfficial/comments/1ftzssg/distribu...</td>\n",
       "      <td>2024-10-02 07:06:08.854846</td>\n",
       "      <td>1ftzssg</td>\n",
       "      <td>I raised this issue before the release of this...</td>\n",
       "    </tr>\n",
       "    <tr>\n",
       "      <th>1</th>\n",
       "      <td>1fu2yhu</td>\n",
       "      <td>Man why do some people have to be douchey 😵‍💫</td>\n",
       "      <td>Dude built a base next to mine a few days ago ...</td>\n",
       "      <td>15</td>\n",
       "      <td>2024-10-01 23:59:59</td>\n",
       "      <td>0.77</td>\n",
       "      <td>/r/OnceHumanOfficial/comments/1fu2yhu/man_why_...</td>\n",
       "      <td>2024-10-02 07:06:08.854846</td>\n",
       "      <td>1fu2yhu</td>\n",
       "      <td>As far as I know the person cannot build on ot...</td>\n",
       "    </tr>\n",
       "    <tr>\n",
       "      <th>2</th>\n",
       "      <td>1ftm79i</td>\n",
       "      <td>Will the devs fix nutcrackers in PvP and ban t...</td>\n",
       "      <td>The people exploiting nutcrackers and territor...</td>\n",
       "      <td>53</td>\n",
       "      <td>2024-10-01 11:53:29</td>\n",
       "      <td>0.75</td>\n",
       "      <td>/r/OnceHumanOfficial/comments/1ftm79i/will_the...</td>\n",
       "      <td>2024-10-02 07:06:08.854846</td>\n",
       "      <td>1ftm79i</td>\n",
       "      <td>We stopped playing because the devs spent 0 mi...</td>\n",
       "    </tr>\n",
       "    <tr>\n",
       "      <th>3</th>\n",
       "      <td>1ftx33d</td>\n",
       "      <td>Is Prismverse worth it or should I stay on my ...</td>\n",
       "      <td>As someone who already doesn’t have much exper...</td>\n",
       "      <td>49</td>\n",
       "      <td>2024-10-01 19:42:16</td>\n",
       "      <td>0.93</td>\n",
       "      <td>/r/OnceHumanOfficial/comments/1ftx33d/is_prism...</td>\n",
       "      <td>2024-10-02 07:06:08.854846</td>\n",
       "      <td>1ftx33d</td>\n",
       "      <td>I’m going for Starchrom but honestly it’s been...</td>\n",
       "    </tr>\n",
       "    <tr>\n",
       "      <th>4</th>\n",
       "      <td>1ftyblc</td>\n",
       "      <td>Is hard mode worth it?</td>\n",
       "      <td>So the bosses do not seem hard per say, but I ...</td>\n",
       "      <td>19</td>\n",
       "      <td>2024-10-01 20:32:37</td>\n",
       "      <td>0.90</td>\n",
       "      <td>/r/OnceHumanOfficial/comments/1ftyblc/is_hard_...</td>\n",
       "      <td>2024-10-02 07:06:08.854846</td>\n",
       "      <td>1ftyblc</td>\n",
       "      <td>I wasn't close to being well geared by end of ...</td>\n",
       "    </tr>\n",
       "  </tbody>\n",
       "</table>\n",
       "</div>"
      ],
      "text/plain": [
       "        id                                              title  \\\n",
       "0  1ftzssg  Distribution system of Berserkosaurus Rex and ...   \n",
       "1  1fu2yhu      Man why do some people have to be douchey 😵‍💫   \n",
       "2  1ftm79i  Will the devs fix nutcrackers in PvP and ban t...   \n",
       "3  1ftx33d  Is Prismverse worth it or should I stay on my ...   \n",
       "4  1ftyblc                             Is hard mode worth it?   \n",
       "\n",
       "                                            selftext  num_comments  \\\n",
       "0  I was pretty hyped for Primaverse Clash scenar...            10   \n",
       "1  Dude built a base next to mine a few days ago ...            15   \n",
       "2  The people exploiting nutcrackers and territor...            53   \n",
       "3  As someone who already doesn’t have much exper...            49   \n",
       "4  So the bosses do not seem hard per say, but I ...            19   \n",
       "\n",
       "          created_utc  upvote_ratio  \\\n",
       "0 2024-10-01 21:35:14          0.98   \n",
       "1 2024-10-01 23:59:59          0.77   \n",
       "2 2024-10-01 11:53:29          0.75   \n",
       "3 2024-10-01 19:42:16          0.93   \n",
       "4 2024-10-01 20:32:37          0.90   \n",
       "\n",
       "                                           permalink  \\\n",
       "0  /r/OnceHumanOfficial/comments/1ftzssg/distribu...   \n",
       "1  /r/OnceHumanOfficial/comments/1fu2yhu/man_why_...   \n",
       "2  /r/OnceHumanOfficial/comments/1ftm79i/will_the...   \n",
       "3  /r/OnceHumanOfficial/comments/1ftx33d/is_prism...   \n",
       "4  /r/OnceHumanOfficial/comments/1ftyblc/is_hard_...   \n",
       "\n",
       "                  created_at  post_id  \\\n",
       "0 2024-10-02 07:06:08.854846  1ftzssg   \n",
       "1 2024-10-02 07:06:08.854846  1fu2yhu   \n",
       "2 2024-10-02 07:06:08.854846  1ftm79i   \n",
       "3 2024-10-02 07:06:08.854846  1ftx33d   \n",
       "4 2024-10-02 07:06:08.854846  1ftyblc   \n",
       "\n",
       "                          concatenated_comments_text  \n",
       "0  I raised this issue before the release of this...  \n",
       "1  As far as I know the person cannot build on ot...  \n",
       "2  We stopped playing because the devs spent 0 mi...  \n",
       "3  I’m going for Starchrom but honestly it’s been...  \n",
       "4  I wasn't close to being well geared by end of ...  "
      ]
     },
     "execution_count": 33,
     "metadata": {},
     "output_type": "execute_result"
    }
   ],
   "source": [
    "combined_df = pd.merge(posts_df, comments_df, left_on='id', right_on='post_id', how='left')\n",
    "\n",
    "combined_df.head(5)"
   ]
  },
  {
   "cell_type": "code",
   "execution_count": 35,
   "metadata": {},
   "outputs": [
    {
     "data": {
      "text/html": [
       "<div>\n",
       "<style scoped>\n",
       "    .dataframe tbody tr th:only-of-type {\n",
       "        vertical-align: middle;\n",
       "    }\n",
       "\n",
       "    .dataframe tbody tr th {\n",
       "        vertical-align: top;\n",
       "    }\n",
       "\n",
       "    .dataframe thead th {\n",
       "        text-align: right;\n",
       "    }\n",
       "</style>\n",
       "<table border=\"1\" class=\"dataframe\">\n",
       "  <thead>\n",
       "    <tr style=\"text-align: right;\">\n",
       "      <th></th>\n",
       "      <th>id</th>\n",
       "      <th>title</th>\n",
       "      <th>selftext</th>\n",
       "      <th>concatenated_comments_text</th>\n",
       "    </tr>\n",
       "  </thead>\n",
       "  <tbody>\n",
       "    <tr>\n",
       "      <th>0</th>\n",
       "      <td>1ftzssg</td>\n",
       "      <td>Distribution system of Berserkosaurus Rex and ...</td>\n",
       "      <td>I was pretty hyped for Primaverse Clash scenar...</td>\n",
       "      <td>I raised this issue before the release of this...</td>\n",
       "    </tr>\n",
       "    <tr>\n",
       "      <th>1</th>\n",
       "      <td>1fu2yhu</td>\n",
       "      <td>Man why do some people have to be douchey 😵‍💫</td>\n",
       "      <td>Dude built a base next to mine a few days ago ...</td>\n",
       "      <td>As far as I know the person cannot build on ot...</td>\n",
       "    </tr>\n",
       "    <tr>\n",
       "      <th>2</th>\n",
       "      <td>1ftm79i</td>\n",
       "      <td>Will the devs fix nutcrackers in PvP and ban t...</td>\n",
       "      <td>The people exploiting nutcrackers and territor...</td>\n",
       "      <td>We stopped playing because the devs spent 0 mi...</td>\n",
       "    </tr>\n",
       "    <tr>\n",
       "      <th>3</th>\n",
       "      <td>1ftx33d</td>\n",
       "      <td>Is Prismverse worth it or should I stay on my ...</td>\n",
       "      <td>As someone who already doesn’t have much exper...</td>\n",
       "      <td>I’m going for Starchrom but honestly it’s been...</td>\n",
       "    </tr>\n",
       "    <tr>\n",
       "      <th>4</th>\n",
       "      <td>1ftyblc</td>\n",
       "      <td>Is hard mode worth it?</td>\n",
       "      <td>So the bosses do not seem hard per say, but I ...</td>\n",
       "      <td>I wasn't close to being well geared by end of ...</td>\n",
       "    </tr>\n",
       "  </tbody>\n",
       "</table>\n",
       "</div>"
      ],
      "text/plain": [
       "        id                                              title  \\\n",
       "0  1ftzssg  Distribution system of Berserkosaurus Rex and ...   \n",
       "1  1fu2yhu      Man why do some people have to be douchey 😵‍💫   \n",
       "2  1ftm79i  Will the devs fix nutcrackers in PvP and ban t...   \n",
       "3  1ftx33d  Is Prismverse worth it or should I stay on my ...   \n",
       "4  1ftyblc                             Is hard mode worth it?   \n",
       "\n",
       "                                            selftext  \\\n",
       "0  I was pretty hyped for Primaverse Clash scenar...   \n",
       "1  Dude built a base next to mine a few days ago ...   \n",
       "2  The people exploiting nutcrackers and territor...   \n",
       "3  As someone who already doesn’t have much exper...   \n",
       "4  So the bosses do not seem hard per say, but I ...   \n",
       "\n",
       "                          concatenated_comments_text  \n",
       "0  I raised this issue before the release of this...  \n",
       "1  As far as I know the person cannot build on ot...  \n",
       "2  We stopped playing because the devs spent 0 mi...  \n",
       "3  I’m going for Starchrom but honestly it’s been...  \n",
       "4  I wasn't close to being well geared by end of ...  "
      ]
     },
     "execution_count": 35,
     "metadata": {},
     "output_type": "execute_result"
    }
   ],
   "source": [
    "combined_df[['id', 'title', 'selftext', 'concatenated_comments_text']].head(5)"
   ]
  },
  {
   "cell_type": "code",
   "execution_count": 37,
   "metadata": {},
   "outputs": [
    {
     "data": {
      "text/html": [
       "<div>\n",
       "<style scoped>\n",
       "    .dataframe tbody tr th:only-of-type {\n",
       "        vertical-align: middle;\n",
       "    }\n",
       "\n",
       "    .dataframe tbody tr th {\n",
       "        vertical-align: top;\n",
       "    }\n",
       "\n",
       "    .dataframe thead th {\n",
       "        text-align: right;\n",
       "    }\n",
       "</style>\n",
       "<table border=\"1\" class=\"dataframe\">\n",
       "  <thead>\n",
       "    <tr style=\"text-align: right;\">\n",
       "      <th></th>\n",
       "      <th>id</th>\n",
       "      <th>document</th>\n",
       "    </tr>\n",
       "  </thead>\n",
       "  <tbody>\n",
       "    <tr>\n",
       "      <th>0</th>\n",
       "      <td>1ftzssg</td>\n",
       "      <td>Distribution system of Berserkosaurus Rex and ...</td>\n",
       "    </tr>\n",
       "    <tr>\n",
       "      <th>1</th>\n",
       "      <td>1fu2yhu</td>\n",
       "      <td>Man why do some people have to be douchey 😵‍💫\\...</td>\n",
       "    </tr>\n",
       "    <tr>\n",
       "      <th>2</th>\n",
       "      <td>1ftm79i</td>\n",
       "      <td>Will the devs fix nutcrackers in PvP and ban t...</td>\n",
       "    </tr>\n",
       "    <tr>\n",
       "      <th>3</th>\n",
       "      <td>1ftx33d</td>\n",
       "      <td>Is Prismverse worth it or should I stay on my ...</td>\n",
       "    </tr>\n",
       "    <tr>\n",
       "      <th>4</th>\n",
       "      <td>1ftyblc</td>\n",
       "      <td>Is hard mode worth it?\\n\\nSo the bosses do not...</td>\n",
       "    </tr>\n",
       "  </tbody>\n",
       "</table>\n",
       "</div>"
      ],
      "text/plain": [
       "        id                                           document\n",
       "0  1ftzssg  Distribution system of Berserkosaurus Rex and ...\n",
       "1  1fu2yhu  Man why do some people have to be douchey 😵‍💫\\...\n",
       "2  1ftm79i  Will the devs fix nutcrackers in PvP and ban t...\n",
       "3  1ftx33d  Is Prismverse worth it or should I stay on my ...\n",
       "4  1ftyblc  Is hard mode worth it?\\n\\nSo the bosses do not..."
      ]
     },
     "execution_count": 37,
     "metadata": {},
     "output_type": "execute_result"
    }
   ],
   "source": [
    "combined_df['document'] = '### Question\\n' + combined_df['title'] + '\\n\\n' + combined_df['selftext'] + '\\n\\n###Discussion/Answer:\\n' + combined_df['concatenated_comments_text']\n",
    "combined_df[['id', 'document']].head(5)"
   ]
  },
  {
   "cell_type": "code",
   "execution_count": 39,
   "metadata": {},
   "outputs": [
    {
     "data": {
      "text/html": [
       "<div>\n",
       "<style scoped>\n",
       "    .dataframe tbody tr th:only-of-type {\n",
       "        vertical-align: middle;\n",
       "    }\n",
       "\n",
       "    .dataframe tbody tr th {\n",
       "        vertical-align: top;\n",
       "    }\n",
       "\n",
       "    .dataframe thead th {\n",
       "        text-align: right;\n",
       "    }\n",
       "</style>\n",
       "<table border=\"1\" class=\"dataframe\">\n",
       "  <thead>\n",
       "    <tr style=\"text-align: right;\">\n",
       "      <th></th>\n",
       "      <th>doc_id</th>\n",
       "      <th>document</th>\n",
       "    </tr>\n",
       "  </thead>\n",
       "  <tbody>\n",
       "    <tr>\n",
       "      <th>0</th>\n",
       "      <td>1ftzssg</td>\n",
       "      <td>Distribution system of Berserkosaurus Rex and ...</td>\n",
       "    </tr>\n",
       "    <tr>\n",
       "      <th>1</th>\n",
       "      <td>1fu2yhu</td>\n",
       "      <td>Man why do some people have to be douchey 😵‍💫\\...</td>\n",
       "    </tr>\n",
       "    <tr>\n",
       "      <th>2</th>\n",
       "      <td>1ftm79i</td>\n",
       "      <td>Will the devs fix nutcrackers in PvP and ban t...</td>\n",
       "    </tr>\n",
       "    <tr>\n",
       "      <th>3</th>\n",
       "      <td>1ftx33d</td>\n",
       "      <td>Is Prismverse worth it or should I stay on my ...</td>\n",
       "    </tr>\n",
       "    <tr>\n",
       "      <th>4</th>\n",
       "      <td>1ftyblc</td>\n",
       "      <td>Is hard mode worth it?\\n\\nSo the bosses do not...</td>\n",
       "    </tr>\n",
       "  </tbody>\n",
       "</table>\n",
       "</div>"
      ],
      "text/plain": [
       "    doc_id                                           document\n",
       "0  1ftzssg  Distribution system of Berserkosaurus Rex and ...\n",
       "1  1fu2yhu  Man why do some people have to be douchey 😵‍💫\\...\n",
       "2  1ftm79i  Will the devs fix nutcrackers in PvP and ban t...\n",
       "3  1ftx33d  Is Prismverse worth it or should I stay on my ...\n",
       "4  1ftyblc  Is hard mode worth it?\\n\\nSo the bosses do not..."
      ]
     },
     "execution_count": 39,
     "metadata": {},
     "output_type": "execute_result"
    }
   ],
   "source": [
    "combined_df = combined_df.rename(columns={'id': 'doc_id'})[['doc_id', 'document']]\n",
    "combined_df.head(5)"
   ]
  },
  {
   "cell_type": "code",
   "execution_count": 40,
   "metadata": {},
   "outputs": [
    {
     "data": {
      "text/plain": [
       "177"
      ]
     },
     "execution_count": 40,
     "metadata": {},
     "output_type": "execute_result"
    }
   ],
   "source": [
    "combined_df.to_sql(name=\"reddit_docs\", con=engine, if_exists='append', index=False, chunksize=100)"
   ]
  },
  {
   "cell_type": "code",
   "execution_count": null,
   "metadata": {},
   "outputs": [],
   "source": []
  },
  {
   "cell_type": "code",
   "execution_count": null,
   "metadata": {},
   "outputs": [],
   "source": []
  }
 ],
 "metadata": {
  "kernelspec": {
   "display_name": "venv",
   "language": "python",
   "name": "python3"
  },
  "language_info": {
   "codemirror_mode": {
    "name": "ipython",
    "version": 3
   },
   "file_extension": ".py",
   "mimetype": "text/x-python",
   "name": "python",
   "nbconvert_exporter": "python",
   "pygments_lexer": "ipython3",
   "version": "3.10.9"
  }
 },
 "nbformat": 4,
 "nbformat_minor": 2
}
