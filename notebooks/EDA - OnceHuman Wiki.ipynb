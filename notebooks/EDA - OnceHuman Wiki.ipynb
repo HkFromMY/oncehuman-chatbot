{
 "cells": [
  {
   "cell_type": "code",
   "execution_count": 2,
   "metadata": {},
   "outputs": [],
   "source": [
    "import numpy as np \n",
    "import pandas as pd \n",
    "import json "
   ]
  },
  {
   "cell_type": "code",
   "execution_count": 3,
   "metadata": {},
   "outputs": [
    {
     "name": "stdout",
     "output_type": "stream",
     "text": [
      "[{'date_scraped': '2024-09-18 16:17:40', 'title': 'Once Human Wiki | Fandom', 'source_url': 'https://once-human.fandom.com/wiki/Main_Page', 'text': '**Welcome to the Once Human Wiki**\\\\[]\\r\\n=====================================\\r\\n***[Once Human](/wiki/Once_Human \"Once Human\")*** is a sandbox survival game. Unleashed after the opening of a mysterious inter\\\\-dimensional silver door, a substance called **Stardust** has polluted the world, twisting it into a horrific landscape. Following a new style, Once Human combines the rationality in science with the mysteries of the unknown. The open\\\\-world environment challenges you to survive under the pressure of extreme conditions, otherworldly creatures, and vicious humanity. Gathering resources, building homes, fighting against aberrant monsters, and more make it possible to survive in the wildness. Use lethal weapons and unleash destructive skills to fight your way out. You stand as the Beyonders/Meta\\\\-Humans confronting all of these ever\\\\-changing and still unknown enemies. Explore and earn your spot in a post\\\\-apocalyptic world.\\r\\n**BACKGROUND STORY**\\\\[]\\r\\n-----------------------\\r\\nThere have been countless organizations secretly researching the origin of species and civilizations in human history. The most successful organization in modern times is the \"Rosetta\", whose predecessor was the Rosetta Institute established in 1967 by French human historian Professor Rachael·Pierre·Luberni(Professor Luberni discovered the Rosetta Stone). Rosetta was dedicated to the study of pre\\\\-human civilization and pan\\\\-cosmology. Then it gradually became a multinational giant in the communication and information industry in public perception, and secretly extended all around the world. Professor Luberni devoted himself to the research on the evolution of ancient human civilizations in his early years. He believed that in human history, there was a civilization that clearly transcended the boundaries of human thinking and ability at that time. Exploring the secrets behind these civilizations would help mankind bring new changes to the modern civilization that had been completely stagnant. With the support of his friend and collaborator Samuel Lowe, Luberni obtained the Rosetta Stone in 1967 and deduced the material from it that did not belong to the Earth.\\r\\nAfter extracting the substance, some of the researchers who did not take strict protection were infected and mutated. This substance was the Stardust that would bring catastrophe in the future. It turned out that they have appeared on the earth a long time ago and affected human beings. At the urging of Samuel, Luberni launched Rosetta\\'s space physics project. They reorganized the Rosetta Society into the Rosetta Technology Group apparently and increased funding to Nalcott University in order to conduct their research. In secret, they led the \"Silver Key Project\", trying to open and strengthen the influence of heterospace on Stardust.\\r\\n[CONTINUE READING...](/wiki/Once_Human \"Once Human\")\\r\\n \\r\\n \\r\\n![BOSS3](https://static.wikia.nocookie.net/once-human/images/c/cd/BOSS3.png/revision/latest/scale-to-width-down/670?cb=20220608113246) \\r\\n![Scene](https://static.wikia.nocookie.net/once-human/images/0/04/Scene.png/revision/latest/scale-to-width-down/670?cb=20220608113245) \\r\\n![PVP](data:image/gif;base64,R0lGODlhAQABAIABAAAAAP///yH5BAEAAAEALAAAAAABAAEAQAICTAEAOw%3D%3D) \\r\\n![概念KV-红蓝-改-无字](data:image/gif;base64,R0lGODlhAQABAIABAAAAAP///yH5BAEAAAEALAAAAAABAAEAQAICTAEAOw%3D%3D) \\r\\n![BOSS3](https://static.wikia.nocookie.net/once-human/images/c/cd/BOSS3.png/revision/latest/scale-to-width-down/89?cb=20220608113246) \\r\\n![Scene](data:image/gif;base64,R0lGODlhAQABAIABAAAAAP///yH5BAEAAAEALAAAAAABAAEAQAICTAEAOw%3D%3D) \\r\\n![PVP](data:image/gif;base64,R0lGODlhAQABAIABAAAAAP///yH5BAEAAAEALAAAAAABAAEAQAICTAEAOw%3D%3D) \\r\\n![概念KV-红蓝-改-无字](data:image/gif;base64,R0lGODlhAQABAIABAAAAAP///yH5BAEAAAEALAAAAAABAAEAQAICTAEAOw%3D%3D) \\r\\n  \\r\\n**GAME BASICS**\\\\[]\\r\\n------------------\\r\\n[![Nalcott](https://static.wikia.nocookie.net/once-human/images/a/a8/Nalcott_Map_Thumbnail.png/revision/latest/scale-to-width-down/100?cb=20240831030536 \"Nalcott (15 KB)\")![Nalcott](data:image/gif;base64,R0lGODlhAQABAIABAAAAAP///yH5BAEAAAEALAAAAAABAAEAQAICTAEAOw%3D%3D \"Nalcott (15 KB)\")](/wiki/Nalcott \"Nalcott (15 KB)\")**[Nalcott](/wiki/Nalcott \"Nalcott\")**[![Deviations](https://static.wikia.nocookie.net/once-human/images/8/85/Butterfly%27s_Emissary.png/revision/latest/scale-to-width-down/100?cb=20240816184249 \"Deviations (36 KB)\")![Deviations](data:image/gif;base64,R0lGODlhAQABAIABAAAAAP///yH5BAEAAAEALAAAAAABAAEAQAICTAEAOw%3D%3D \"Deviations (36 KB)\")](/wiki/Deviations \"Deviations (36 KB)\")**[Deviations](/wiki/Deviations \"Deviations\")**[![Weapons](https://static.wikia.nocookie.net/once-human/images/a/ae/Weapons.png/revision/latest/scale-to-width-down/100?cb=20240831030141 \"Weapons (18 KB)\")![Weapons](data:image/gif;base64,R0lGODlhAQABAIABAAAAAP///yH5BAEAAAEALAAAAAABAAEAQAICTAEAOw%3D%3D \"Weapons (18 KB)\")](/wiki/Weapons \"Weapons (18 KB)\")**[Weapons](/wiki/Weapons \"Weapons\")**[![Armor](https://static.wikia.nocookie.net/once-human/images/0/06/Armor.png/revision/latest/scale-to-width-down/100?cb=20240831024811 \"Armor (23 KB)\")![Armor](data:image/gif;base64,R0lGODlhAQABAIABAAAAAP///yH5BAEAAAEALAAAAAABAAEAQAICTAEAOw%3D%3D \"Armor (23 KB)\")](/wiki/Armor \"Armor (23 KB)\")**[Armor](/wiki/Armor \"Armor\")**[![Tools](https://static.wikia.nocookie.net/once-human/images/d/d1/Steel_Pickaxe.png/revision/latest/scale-to-width-down/100?cb=20240819111529 \"Tools (36 KB)\")![Tools](data:image/gif;base64,R0lGODlhAQABAIABAAAAAP///yH5BAEAAAEALAAAAAABAAEAQAICTAEAOw%3D%3D \"Tools (36 KB)\")](/wiki/Tools \"Tools (36 KB)\")**[Tools](/wiki/Tools \"Tools\")**[![Fashion](https://static.wikia.nocookie.net/once-human/images/b/ba/Outfit_Skins.png/revision/latest/scale-to-width-down/100?cb=20230524072808 \"Fashion (23 KB)\")![Fashion](data:image/gif;base64,R0lGODlhAQABAIABAAAAAP///yH5BAEAAAEALAAAAAABAAEAQAICTAEAOw%3D%3D \"Fashion (23 KB)\")](/wiki/Fashion \"Fashion (23 KB)\")**[Fashion](/wiki/Fashion \"Fashion\")**[![Vehicles](https://static.wikia.nocookie.net/once-human/images/0/0a/Motorbike.png/revision/latest/scale-to-width-down/100?cb=20240831025906 \"Vehicle (37 KB)\")![Vehicles](data:image/gif;base64,R0lGODlhAQABAIABAAAAAP///yH5BAEAAAEALAAAAAABAAEAQAICTAEAOw%3D%3D \"Vehicle (37 KB)\")](/wiki/Vehicle \"Vehicle (37 KB)\")**[Vehicles](/wiki/Vehicle \"Vehicle\")**[![Building](https://static.wikia.nocookie.net/once-human/images/3/39/Advanced_Supplies_Workbench.png/revision/latest/scale-to-width-down/100?cb=20240810095900 \"Territory (51 KB)\")![Building](data:image/gif;base64,R0lGODlhAQABAIABAAAAAP///yH5BAEAAAEALAAAAAABAAEAQAICTAEAOw%3D%3D \"Territory (51 KB)\")](/wiki/Territory \"Territory (51 KB)\")**[Building](/wiki/Build_Mode \"Build Mode\")**[![Food and Water](https://static.wikia.nocookie.net/once-human/images/7/7e/Consumables.png/revision/latest/scale-to-width-down/100?cb=20230524072556 \"Food and Water (21 KB)\")![Food and Water](data:image/gif;base64,R0lGODlhAQABAIABAAAAAP///yH5BAEAAAEALAAAAAABAAEAQAICTAEAOw%3D%3D \"Food and Water (21 KB)\")](/wiki/Food_and_Water \"Food and Water (21 KB)\")**[Food and Water](/wiki/Food_and_Water \"Food and Water\")**[![Boss & Monsters](https://static.wikia.nocookie.net/once-human/images/6/61/Boss_%26_Monsters.png/revision/latest/scale-to-width-down/100?cb=20230524072523 \"Boss & Monsters (36 KB)\")![Boss & Monsters](data:image/gif;base64,R0lGODlhAQABAIABAAAAAP///yH5BAEAAAEALAAAAAABAAEAQAICTAEAOw%3D%3D \"Boss & Monsters (36 KB)\")](/wiki/Boss_%26_Monsters \"Boss & Monsters (36 KB)\")**[Boss \\\\& Monsters](/wiki/Boss_%26_Monsters \"Boss & Monsters\")**[![Memetics](https://static.wikia.nocookie.net/once-human/images/d/df/Memetics.png/revision/latest/scale-to-width-down/101?cb=20240731154646 \"Memetics (114 KB)\")![Memetics](data:image/gif;base64,R0lGODlhAQABAIABAAAAAP///yH5BAEAAAEALAAAAAABAAEAQAICTAEAOw%3D%3D \"Memetics (114 KB)\")](/wiki/Memetics \"Memetics (114 KB)\")**[Memetics](/wiki/Memetics \"Memetics\")**[![Mods](https://static.wikia.nocookie.net/once-human/images/8/89/Game_design.png/revision/latest/scale-to-width-down/100?cb=20230524072630 \"Mods (84 KB)\")![Mods](data:image/gif;base64,R0lGODlhAQABAIABAAAAAP///yH5BAEAAAEALAAAAAABAAEAQAICTAEAOw%3D%3D \"Mods (84 KB)\")](/wiki/Mods \"Mods (84 KB)\")**[Mods](/wiki/Mods \"Mods\")**[![Wish Machine](https://static.wikia.nocookie.net/once-human/images/1/10/Wish_Machine.png/revision/latest/scale-to-width-down/100?cb=20240819110322 \"Wish Machine (33 KB)\")![Wish Machine](data:image/gif;base64,R0lGODlhAQABAIABAAAAAP///yH5BAEAAAEALAAAAAABAAEAQAICTAEAOw%3D%3D \"Wish Machine (33 KB)\")](/wiki/Wish_Machine \"Wish Machine (33 KB)\")**[Wish Machine](/wiki/Wish_Machine \"Wish Machine\")**\\r\\n**ACTIVITIES**\\\\[]\\r\\n-----------------\\r\\n[![Monoliths](https://static.wikia.nocookie.net/once-human/images/a/aa/Monolith_Map_Icon.png/revision/latest?cb=20240824200425 \"Monolith (7 KB)\")![Monoliths](data:image/gif;base64,R0lGODlhAQABAIABAAAAAP///yH5BAEAAAEALAAAAAABAAEAQAICTAEAOw%3D%3D \"Monolith (7 KB)\")](/wiki/Monolith \"Monolith (7 KB)\")**[Monoliths](/wiki/Monolith \"Monolith\")**[![Securement Silos](https://static.wikia.nocookie.net/once-human/images/a/aa/Securement_Silo_Map_Icon.png/revision/latest?cb=20240916055027 \"Securement Silo (3 KB)\")![Securement Silos](data:image/gif;base64,R0lGODlhAQABAIABAAAAAP///yH5BAEAAAEALAAAAAABAAEAQAICTAEAOw%3D%3D \"Securement Silo (3 KB)\")](/wiki/Securement_Silo \"Securement Silo (3 KB)\")**[Securement Silos](/wiki/Securement_Silo \"Securement Silo\")**[![Workshop Defense](https://static.wikia.nocookie.net/once-human/images/f/fb/Workshop_Map_Icon.png/revision/latest?cb=20240822030500 \"Workshop Defense (5 KB)\")![Workshop Defense](data:image/gif;base64,R0lGODlhAQABAIABAAAAAP///yH5BAEAAAEALAAAAAABAAEAQAICTAEAOw%3D%3D \"Workshop Defense (5 KB)\")](/wiki/Workshop_Defense \"Workshop Defense (5 KB)\")**[Workshop Defense](/wiki/Workshop_Defense \"Workshop Defense\")**[Territory Purification.png](/wiki/Special:Upload?wpDestFile=Territory+Purification.png \"Territory Purification.png\")**Territory Purification**[Prime War Map Icon.png](/wiki/Special:Upload?wpDestFile=Prime+War+Map+Icon.png \"Prime War Map Icon.png\")**[The Prime War](/wiki/The_Prime_War \"The Prime War\")**[![Public Crisis Events](https://static.wikia.nocookie.net/once-human/images/2/22/Public_Crisis_Event_Map_Icon.png/revision/latest?cb=20240817161755 \"Public Crisis Event (2 KB)\")![Public Crisis Events](data:image/gif;base64,R0lGODlhAQABAIABAAAAAP///yH5BAEAAAEALAAAAAABAAEAQAICTAEAOw%3D%3D \"Public Crisis Event (2 KB)\")](/wiki/Public_Crisis_Event \"Public Crisis Event (2 KB)\")**[Public Crisis Events](/wiki/Category:Public_Crisis_Event \"Category:Public Crisis Event\")**[![Cargo Scramble](https://static.wikia.nocookie.net/once-human/images/2/2c/Cargo_Scramble_Map_Icon.png/revision/latest?cb=20240831004229 \"Cargo Scramble (2 KB)\")![Cargo Scramble](data:image/gif;base64,R0lGODlhAQABAIABAAAAAP///yH5BAEAAAEALAAAAAABAAEAQAICTAEAOw%3D%3D \"Cargo Scramble (2 KB)\")](/wiki/Cargo_Scramble \"Cargo Scramble (2 KB)\")**Cargo Scramble**[![Fishing](https://static.wikia.nocookie.net/once-human/images/0/04/Surge_of_Fish_Map_Icon.png/revision/latest?cb=20240817161928 \"Fishing (2 KB)\")![Fishing](data:image/gif;base64,R0lGODlhAQABAIABAAAAAP///yH5BAEAAAEALAAAAAABAAEAQAICTAEAOw%3D%3D \"Fishing (2 KB)\")](/wiki/Fishing \"Fishing (2 KB)\")**[Fishing](/wiki/Fishing \"Fishing\")**[Highway Pursuit.png](/wiki/Special:Upload?wpDestFile=Highway+Pursuit.png \"Highway Pursuit.png\")**Highway Pursuit**\\r\\n**GUIDES**\\\\[]\\r\\n-------------\\r\\n[![Story](https://static.wikia.nocookie.net/once-human/images/0/08/Story.png/revision/latest/scale-to-width-down/100?cb=20230524072911 \"Story (84 KB)\")![Story](data:image/gif;base64,R0lGODlhAQABAIABAAAAAP///yH5BAEAAAEALAAAAAABAAEAQAICTAEAOw%3D%3D \"Story (84 KB)\")](/wiki/Story \"Story (84 KB)\")**[Story](/wiki/Story \"Story\")**[Gameplay.png](/wiki/Special:Upload?wpDestFile=Gameplay.png \"Gameplay.png\")**[Gameplay](/wiki/Gameplay \"Gameplay\")**[![Areas](https://static.wikia.nocookie.net/once-human/images/a/a9/Areas.png/revision/latest/scale-to-width-down/100?cb=20230524072354 \"Areas (17 KB)\")![Areas](data:image/gif;base64,R0lGODlhAQABAIABAAAAAP///yH5BAEAAAEALAAAAAABAAEAQAICTAEAOw%3D%3D \"Areas (17 KB)\")](/wiki/Areas \"Areas (17 KB)\")**[Areas](/wiki/Areas \"Areas\")**[![Resources](https://static.wikia.nocookie.net/once-human/images/a/aa/Resources.png/revision/latest/scale-to-width-down/100?cb=20230524072838 \"Resources (79 KB)\")![Resources](data:image/gif;base64,R0lGODlhAQABAIABAAAAAP///yH5BAEAAAEALAAAAAABAAEAQAICTAEAOw%3D%3D \"Resources (79 KB)\")](/wiki/Resources \"Resources (79 KB)\")**[Resources](/wiki/Resources \"Resources\")**'}, {'date_scraped': '2024-09-18 16:17:41', 'title': 'Once Human | Once Human Wiki | Fandom', 'source_url': 'https://once-human.fandom.com/wiki/Once_Human', 'text': '**BACKGROUND STORY**\\\\[]\\r\\n-----------------------\\r\\nThere have been countless organizations secretly researching the origin of species and civilizations in human history. The most successful organization in modern times is the \"Rosetta\", whose predecessor was the Rosetta Institute established in 1967 by French human historian Professor Rachael·Pierre·Luberni(Professor Luberni discovered the Rosetta Stone). Rosetta was dedicated to the study of pre\\\\-human civilization and pan\\\\-cosmology. Then it gradually became a multinational giant in the communication and information industry in public perception, and secretly extended all around the world. Professor Luberni devoted himself to the research on the evolution of ancient human civilizations in his early years. He believed that in human history, there was a civilization that clearly transcended the boundaries of human thinking and ability at that time. Exploring the secrets behind these civilizations would help mankind bring new changes to the modern civilization that had been completely stagnant. With the support of his friend and collaborator Samuel Lowe, Luberni obtained the Rosetta Stone in 1967 and deduced the material from it that did not belong to the Earth.\\r\\nAfter extracting the substance, some of the researchers who did not take strict protection were infected and mutated. This substance was the Stardust that would bring catastrophe in the future. It turned out that they have appeared on the earth a long time ago and affected human beings. At the urging of Samuel, Luberni launched Rosetta\\'s space physics project. They reorganized the Rosetta Society into the Rosetta Technology Group apparently and increased funding to Nalcott University in order to conduct their research. In secret, they led the \"Silver Key Project\", trying to open and strengthen the influence of heterospace on Stardust.\\r\\nA few years later, the project \"Silver Key\" entered the final stage. The core laboratory of Rosetta located under the Nalcott city activated the quantum tunneling apparatus, trying to open up the superposition space connecting the heterospace. With the dazzling flash, a spherical bubble gradually appeared above the target area, and a large number of unprecedented energy fluctuations dissipated from the quantum tunneling apparatus. Then the accident happened immediately. The energy dissipated from the device was initially indistinguishable to humans, so the sleeping Stardust was instantly activated and began to infect, multiply, and spread. Then the Nalcott City incident occurred, and a large number of creatures and humans were infected and gradually turned into monsters. So far, the Rosetta organization still had time to close the \"Silver Gate\" to end this catastrophe, but its management, especially Samuel Lowe, was unwilling to stop it. This disaster proved that they have been fighting in the right direction, and it was important for them to hold the key to the future firmly. Having achieved energy control, Rosetta actually mastered the way to control Stardust. They chose to cut ties with governments around the world, allowing the stardust to wreak havoc and even lead it to spread. This also led to the collapse of humanity in the ensuing 30 years.\\r\\nThe collapse of the world did not end Rosetta\\'s ultimate goal, but instead made them achieve unprecedented results. They deeply integrated with stardust and heterospace energy, then gave birth to a new type of human being called Beyonder. The Beyongders had physical qualities far beyond that of normal humans and can control extraordinary powers. The nine most important Beyonders called “The Nine”，which means the flesh of God.\\r\\nHowever, Rosetta could not destroy the free will of human beings. Several members of The Nine and technicians escaped from Rosetta and formed the organization \"Mayfly\" to fight against Rosetta\\'s conspiracy, Until now, they keep helping the human who are struggling to survive. They also try to save the Beyonders samples from Rosetta, inviting them to join the mayfly to grow their organization. Our player is one of the rescued Beyonders.\\r\\n**ABOUT THE GAME**\\\\[]\\r\\n---------------------\\r\\nFeaturing a new weird style, we are committed to creating a unique, grand, and eerie open\\\\-world game set in a post\\\\-apocalyptic environment.\\r\\nWe have endeavored to bring Beyonders into a world ravaged by a horrendous calamity through scenes, characters, narratives, and other elements. It is a future where grotesque monsters and deformed mutations of unknown origins dominate our world, while our civilization, the fruit of human ingenuity, crumbled overnight, succumbing to distorted evolution. The whole environment had been transformed into Impasse due to the Stardust pollution.\\r\\nThe new weird genre has been reconciling the contradiction between science’s rationality and unexplored mysteries. However, the endeavor of reconciliation is precisely where the genre’s charm lies, as it keeps swinging back and forth between one end and the other.\\r\\nThis becomes our source of inspiration in terms of artistic style. We attempt to bring the products of high\\\\-level scientific technologies, representing the absolute rationality of human civilization, the beautifully eerie organisms of unidentified sources, and unnatural phenomena into collision, providing our players with powerful visual spectacles.\\r\\nWe have great faith in the tenacity of human subjectivity from the outset. Surviving and thriving over the total annihilation wrought by the cataclysm, we believe that humans would eventually develop a new evolution route for biological forms and scientific technologies by exploring the most incredible catastrophe humans have met so far. Hence, our world is comprised of scientific establishments, the Cradle device that contains the aberrant and escalates human physical strength, and the Veil of Tranquility resisting organic pollution that erodes human sanity. This is a ground\\\\-breaking era of human evolution.'}, {'date_scraped': '2024-09-18 16:17:43', 'title': 'Wish Machine | Once Human Wiki | Fandom', 'source_url': 'https://once-human.fandom.com/wiki/Wish_Machine', 'text': '> \"Behold, mortal, before you is the great will of the Great One, the almighty Wish Machine! He enjoys granting the wishes of others and has taken interest in the ravings of the Ancient One in Chaotic Cortex.\"\\r\\nWish Machine\\r\\n------------\\r\\n[![Wish Machine](https://static.wikia.nocookie.net/once-human/images/1/10/Wish_Machine.png/revision/latest?cb=20240819110322)](https://static.wikia.nocookie.net/once-human/images/1/10/Wish_Machine.png/revision/latest?cb=20240819110322 \"Wish Machine\")\\r\\n### Facility\\r\\n[Special](/wiki/Category:Special_Function_Facility \"Category:Special Function Facility\")  \\r\\n([Function Facility](/wiki/Category:Function_Facility \"Category:Function Facility\"))\\r\\nHow To Get\\r\\n----------\\r\\n[Build Mode](/wiki/Build_Mode \"Build Mode\")[Memetic Unlock](/wiki/Memetics \"Memetics\")  \\r\\nContents\\r\\n--------\\r\\n* [1 How To Get](#How_To_Get)\\r\\n\\t+ [1\\\\.1 Formula Requirements](#Formula_Requirements)\\r\\n* [2 How To Use](#How_To_Use)\\r\\nHow To Get\\\\[]\\r\\n-------------\\r\\nUnlock Memetic in the Logistics sub\\\\-tab\\r\\nTo unlock memetic you would need\\r\\n1. 3 Ciphers\\r\\n2. 200 Energy Links\\r\\n#### Formula Requirements\\\\[]\\r\\n[Build Mode](/wiki/Build_Mode \"Build Mode\")\\r\\n| 25 | [Copper Ingot](/wiki/Copper_Ingot \"Copper Ingot\") |\\r\\n| --- | --- |\\r\\n| 10 | [Rusted Part](/wiki/Rusted_Part \"Rusted Part\") |\\r\\n| 5 | [Metal Scraps](/wiki/Metal_Scraps \"Metal Scraps\") |\\r\\n| 3 | [Rubber](/wiki/Rubber \"Rubber\") |\\r\\n| 5 | [Glass](/wiki/Glass \"Glass\") |\\r\\nHow To Use\\\\[]\\r\\n-------------\\r\\nThis article is a [stub](/wiki/Category:Article_stubs \"Category:Article stubs\").\\r\\nYou can help the Once Human Wiki by [expanding it](https://once-human.fandom.com/wiki/Wish_Machine?action=edit).'}, {'date_scraped': '2024-09-18 16:17:44', 'title': 'Memetics | Once Human Wiki | Fandom', 'source_url': 'https://once-human.fandom.com/wiki/Memetics', 'text': 'Memetics grant Formulas that players can use to build and craft in [Once Human](/wiki/Once_Human \"Once Human\").\\r\\nMemetics are obtained by spending Meme Points (also known as Ciphers), which players earn by Leveling, completing Season Goals (Phase Rewards), and occasionally by completing [Story Tasks](/wiki/Category:Story_Task \"Category:Story Task\").\\r\\nContents\\r\\n--------\\r\\n* [1 Memetics](#Memetics)\\r\\n* [2 Memetic Specializations](#Memetic_Specializations)\\r\\n\\t+ [2\\\\.1 Identities](#Identities)\\r\\n\\t+ [2\\\\.2 Specialization Branches](#Specialization_Branches)\\r\\n\\t\\t- [2\\\\.2\\\\.1 Building](#Building)\\r\\n\\t\\t- [2\\\\.2\\\\.2 Crafting](#Crafting)\\r\\n\\t\\t- [2\\\\.2\\\\.3 Gathering](#Gathering)\\r\\n\\t\\t- [2\\\\.2\\\\.4 Management](#Management)\\r\\nMemetics\\\\[]\\r\\n-----------\\r\\nWork In Progress..\\r\\nThis is a \"Work In Progress\" and may display incomplete, partial, or inaccurate information.\\r\\n  \\r\\n[Memetic Specializations](/wiki/Memetic_Specialization \"Memetic Specialization\")\\\\[]\\r\\n-----------------------------------------------------------------------------------\\r\\nThere are four branches of [Memetic Specializations](/wiki/Memetic_Specialization \"Memetic Specialization\"): Building, Crafting, Gathering, and Management. \\r\\nEvery 5 levels, a [Memetic Specialization](/wiki/Memetic_Specialization \"Memetic Specialization\") node will be unlocked, which offers a choice among 4 randomly generated [Specializations](/wiki/Category:Memetic_Specialization \"Category:Memetic Specialization\").\\r\\n### Identities\\\\[]\\r\\nUnlocking 2 [Memetic Specializations](/wiki/Memetic_Specialization \"Memetic Specialization\") within the same branch grants you a unique \"Identity\" related to that branch, which you can showcase to other players.\\r\\n| Specialization Branch | Identities |\\r\\n| --- | --- |\\r\\n| Building | Tinkerer, Artillery Marshal |\\r\\n| Crafting | Machinist, Demolition Expert, Master Craftsman |\\r\\n| Gathering | Prospector, Smelter |\\r\\n| Management | Child of Earth, Sparksmith, Hydro Engineer, Star Chef |\\r\\n### Specialization Branches\\\\[]\\r\\n#### Building\\\\[]\\r\\n| Image | Name | Category | Effect | Details | Possible levels |\\r\\n| --- | --- | --- | --- | --- | --- |\\r\\n| [BasicDefenseBattleHardened](https://static.wikia.nocookie.net/once-human/images/2/27/BasicDefenseBattleHardened.png/revision/latest?cb=20240801021734) | Basic Defense: Battle\\\\-Hardened | Artillery Marshall | Facility Boost: Basic Defense | Sandbags, Shelters, and High Fortifications gain the Battle\\\\-Hardened effect, Durability \\\\+100%. When your Territory exits combat, Durability recovers to 100%. | 5/10/15 |\\r\\n| [BedAPlacetoCallHome](https://static.wikia.nocookie.net/once-human/images/e/ef/BedAPlacetoCallHome.png/revision/latest?cb=20240801021917) | Bed: A Place to Call Home | Tinkerer | Facility Boost: Bed | Sleep for more than 10s to cure all diseases and reduce Stamina depletion for the next 10 minutes. | 5/10/15 |\\r\\n| [DeluxeStorageCrate](https://static.wikia.nocookie.net/once-human/images/1/1d/DeluxeStorageCrate.png/revision/latest?cb=20240801022201) | Deluxe Storage Crate | Tinkerer | Unlock New Facility: Deluxe Storage Crate | A large Storage Crate with 64 item slots. | 5/10/15 |\\r\\n| [FlamethrowerTrapScorchingBlast](https://static.wikia.nocookie.net/once-human/images/b/ba/FlamethrowerTrapScorchingBlast.png/revision/latest?cb=20240801022316) | Flamethrower Trap: Scorching Blast | Artillery Marshall | Facility Boost: Flamethrower Trap | Flamethrower Trap DMG \\\\+30%. When the Flamethrower Trap kills an enemy, an explosion is triggered, dealing AoE Blast DMG to all nearby units (1s cooldown). | 5/10/15 |\\r\\n| [FurnaceSintering](https://static.wikia.nocookie.net/once-human/images/2/23/FurnaceSintering.png/revision/latest?cb=20240801022426) | Furnace: Sintering | Tinkerer | Facility Boost: Furnace | Sintered Brick and Glass Crafting Time \\\\-50%, Yield \\\\+100%. | 20/25/30/35 |\\r\\n| [GravitationalGripBondsofGuidance](https://static.wikia.nocookie.net/once-human/images/6/6f/GravitationalGripBondsofGuidance.png/revision/latest?cb=20240801022556) | Gravitational Grip: Bonds of Guidance | Artillery Marshall | Facility Boost: Gravitational Grip | When the Gravitational Grip trap is triggered by an enemy, there\\'s a 20% chance that it will also inflict \"The Bull\\'s Eye\". | 20/25/30/35 |\\r\\n| [RifleTurretTwoBirdsOneStone](https://static.wikia.nocookie.net/once-human/images/d/d0/RifleTurretTwoBirdsOneStone.png/revision/latest?cb=20240801022658) | Rifle Turret: Two Birds One Stone | Artillery Marshall | Facility Boost: Rifle Turret | Rifle Turret DMG \\\\+30%, Durability \\\\+ 30%, and attacks on target trigger a Bounce effect. | 40/45/50 |\\r\\n| [RoboticsFacilitySkilledMechanician](https://static.wikia.nocookie.net/once-human/images/d/d6/RoboticsFacilitySkilledMechanician.png/revision/latest?cb=20240801022759) | Robotics Facility: Skilled Mechanician | Artillery Marshall | Facility Boost: Robotics Facility | Increase the Durability of Traps and Rifle Turret type facilities by 50%. | 5/10/15 |\\r\\n| [ShotgunTurretVolleyFire](https://static.wikia.nocookie.net/once-human/images/3/37/ShotgunTurretVolleyFire.png/revision/latest?cb=20240801022911) | Shotgun Turret: Volley Fire | Artillery Marshall | Facility Boost: Shotgun Turret | Shotgun Turret DMG \\\\+30%, Power Consumption \\\\-30%, with a 30% chance to trigger the shrapnel effect. | 20/25/30/35 |\\r\\n| [UpdraftDeviceGravityLite](https://static.wikia.nocookie.net/once-human/images/6/65/UpdraftDeviceGravityLite.png/revision/latest?cb=20240801023011) | Updraft Device: Gravity Lite | Tinkerer | Facility Boost: Updraft Device | Gravity is reduced around the Updraft Cannon, and Movement Speed is increased for 5s. | 20/25/30/35 |\\r\\n| [WoodStructuresToughPlant](https://static.wikia.nocookie.net/once-human/images/6/67/WoodStructuresToughPlant.png/revision/latest?cb=20240801023107) | Wood Structures: Tough Plant | Tinkerer | Facility Boost: Wood Structures | Structures built from wood gain the Tough Plant effect, and Durability \\\\+ 150%. | 5/10/15 |\\r\\n| [GatlingCannonPowerBlast](https://static.wikia.nocookie.net/once-human/images/5/5f/GatlingCannonPowerBlast.png/revision/latest?cb=20240908154010) | Gatling Cannon: Power Blast | Artillery Marshall | Facility Boost: Gatling Cannon | Gatling Cannons deal \\\\+30% DMG. When your Territory exits combat, Durability recovers to 100%. | 40/45/50 |\\r\\n#### Crafting\\\\[]\\r\\n| Image | Name | Category | Effect | Details | Possible levels |\\r\\n| --- | --- | --- | --- | --- | --- |\\r\\n| [ClaymoreMine Warrior\\'s Resolve](https://static.wikia.nocookie.net/once-human/images/1/13/ClaymoreMine_Warrior%27s_Resolve.png/revision/latest?cb=20240809120048) [ClaymoreMine Warrior\\'s Resolve](https://static.wikia.nocookie.net/once-human/images/1/13/ClaymoreMine_Warrior%27s_Resolve.png/revision/latest?cb=20240809120048) | Claymore Mine: Warrior\\'s Resolve | Demolition Expert | Improved Formula: Claymore Mine | Deals an additional 4000 \\\\+400% Psi Intensity  damage and increases Max HP by 400% Psi Intensity | 20/25/30/35 |\\r\\n| [AdrenalineShotPhoenix](https://static.wikia.nocookie.net/once-human/images/6/68/AdrenalineShotPhoenix.png/revision/latest?cb=20240801023305) | Adrenaline Shot: Phoenix | Master Craftsman | Improved Formula: Adrenaline Shot | Take less DMG for the first 10s after respawning and slowly recover HP. | 20/25/30/35 |\\r\\n| [BiomassMissileAmpleMunition](https://static.wikia.nocookie.net/once-human/images/e/ec/BiomassMissileAmpleMunition.png/revision/latest?cb=20240801022042) | Biomass Missile: Ample Munition | Artillery Marshall | Improved Formula: Biomass Missile | Plasma Missiles \\\\-80% Weight, and \\\\+2 Crafting Yield. | 20/25/30/35 |\\r\\n| [BackpackExpansion](https://static.wikia.nocookie.net/once-human/images/e/e7/BackpackExpansion.png/revision/latest?cb=20240801023424) | Backpack Expansion | Master Craftsman | Unlock New Formula: Backpack Expansion | When in your Backpack, increase Max Load by 40\\\\-80\\\\. Effect cannot stack. | 5/10/15 |\\r\\n| [DisassemblyBenchElectronicRecycling](https://static.wikia.nocookie.net/once-human/images/7/7c/DisassemblyBenchElectronicRecycling.png/revision/latest?cb=20240801023540) | Disassembly Bench: Electronic Recycling | Machinist | Facility Boost: Disassembly Bench | Yield \\\\+50% for Metal Scraps and Electronic Parts. | 5/10/15 |\\r\\n| [ElectronicsGrabber](https://static.wikia.nocookie.net/once-human/images/6/64/ElectronicsGrabber.png/revision/latest?cb=20240801023644) | Electronics Grabber | Machinist | Unlock New Formula: Electronics Grabber | When in your Backpack, there is a small to medium chance to receive additional electronic modules when opening a Storage Crate. Effect cannot stack. | 5/10/15 |\\r\\n| [ExplosiveOn-the-Go](https://static.wikia.nocookie.net/once-human/images/7/74/ExplosiveOn-the-Go.png/revision/latest?cb=20240801023748) | Explosive On\\\\-the\\\\-Go | Demolition Expert | Unlock New Formula: Explosive On\\\\-the\\\\-Go | When in your Backpack, reduce the weight of Grenades, Molotov Cocktails, High Explosives, Shrapnel Grenades, Thermite Grenades, Rocket Launcher Rockets, and Grenade Launcher Grenades by 30%\\\\-60%. After using a throwable, increase Sprint Speed by 20% for 2s. Effect cannot stack. | 5/10/15 |\\r\\n| [ExplosiveSack](https://static.wikia.nocookie.net/once-human/images/a/a8/ExplosiveSack.png/revision/latest?cb=20240801023855) | Explosive Sack | Demolition Expert | Unlock New Formula: Explosive Sack | When in your Backpack, there is a 30%\\\\-60% chance to salvage Explosive Compound after using High\\\\-Explosive Grenades, Shrapnel Grenades, and Simple Explosives. There is a 30%\\\\-60% chance to salvage Sulfur after using Molotov Cocktails and Thermite Grenades. Effect cannot stack. | 5/10/15 |\\r\\n| [ExplosiveThrowablesEchoBlast](https://static.wikia.nocookie.net/once-human/images/7/75/ExplosiveThrowablesEchoBlast.png/revision/latest?cb=20240801024018) | Explosive Throwables: Echo Blast | Demolition Expert | Improved Formula: Explosive Throwables | Increase the DMG of High\\\\-Explosive Grenades, Shrapnel Grenades, Molotov Cocktails, and Thermite DMG by 30%. The first target killed will trigger 1 extra explosion, dealing damage equal to 400% Psi Intensity. | 20/25/30/35 |\\r\\n| [GearWorkbenchCustomization](https://static.wikia.nocookie.net/once-human/images/5/5d/GearWorkbenchCustomization.png/revision/latest?cb=20240801024119) | Gear Workbench: Customization | Master Craftsman | Facility Boost: Gear Workbench | Weapons and Armor crafted using the Gear Workbench enjoy \\\\+30% Max Durability. | 5/10/15 |\\r\\n| [JumpBooster](https://static.wikia.nocookie.net/once-human/images/4/4b/JumpBooster.png/revision/latest?cb=20240801024214) | Jump Booster | Machinist | Unlock New Formula: Jump Booster | Use to gain the double jump ability for 30 seconds. Can use up to 5 times. | 5/10/15 |\\r\\n| [PortableMGTurretBarrageofBullets](https://static.wikia.nocookie.net/once-human/images/2/28/PortableMGTurretBarrageofBullets.png/revision/latest?cb=20240801024328) | Portable MG Turret: Barrage of Bullets | Machinist | Improved Formula: Portable MG Turret | Firing the MG Turret can trigger the Bounce effect, increasing HP and DMG by 30%. The MG Turret is now a reusable item, with up to 5 uses max. | 20/25/30/35 |\\r\\n| [PortableUpdraftDevice](https://static.wikia.nocookie.net/once-human/images/b/b4/PortableUpdraftDevice.png/revision/latest?cb=20240801024440) | Portable Updraft Device | Machinist | Unlock New Formula: Portable Updraft Device | Use to temporarily summon an updraft at the location for 30s. When inside the updraft, jump height is increased. Can use up to 10 times. | 20/25/30/35 |\\r\\n| [SuppliesWorkbenchAmmoFactory](https://static.wikia.nocookie.net/once-human/images/c/ce/SuppliesWorkbenchAmmoFactory.png/revision/latest?cb=20240801024556) | Supplies Workbench: Ammo Factory | Master Craftsman | Facility Boost: Supplies Workbench | Crafting Output \\\\+50% when crafting regular Ammunition. | 5/10/15 |\\r\\n| [SuppliesWorkbenchHealingBoost](https://static.wikia.nocookie.net/once-human/images/a/a8/SuppliesWorkbenchHealingBoost.png/revision/latest?cb=20240801024759) | Supplies Workbench: Healing Boost | Master Craftsman | Facility Boost: Supplies Workbench | HP Recovery \\\\+10% when crafting Activators, and Output \\\\+1\\\\. | 20/25/30/35 |\\r\\n| [SynthesisBenchRecycle&Reuse](https://static.wikia.nocookie.net/once-human/images/b/b2/SynthesisBenchRecycle%26Reuse.png/revision/latest?cb=20240801024857) | Synthesis Bench: Recycle \\\\& Reuse | Master Craftsman | Facility Boost: Synthesis Bench | When crafting Drones, Turrets, Stardust Shields, Spectrum Generators, and Projection Generators, increase their use count by 1\\\\. | 20/25/30/35 |\\r\\n| [ThrowingDaggerBullseye](https://static.wikia.nocookie.net/once-human/images/2/2a/ThrowingDaggerBullseye.png/revision/latest?cb=20240801025025) | Throwing Dagger: Bullseye | Demolition Expert | Improved Formula: Throwing Dagger | Throwing Dagger \\\\+30% DMG. After killing an enemy with a Throwing Dagger, the next throw \\\\+100% DMG. | 5/10/15 |\\r\\n| [UltraGrenade](https://static.wikia.nocookie.net/once-human/images/4/42/UltraGrenade.png/revision/latest?cb=20240801025128) | Ultra Grenade | Demolition Expert | Unlock New Formula: Ultra Grenade | Higher Blast DMG, and additional bonus DMG against buildings and vehicles. | 40/45/50 |\\r\\n| [SuppliesWorkbenchAntiArmor](https://static.wikia.nocookie.net/once-human/images/0/01/SuppliesWorkbenchAntiArmor.png/revision/latest?cb=20240908152540) | Supplies Workbench: Anti\\\\-Armor | Master Craftsman | Facility Boost: Supplies Workbench | Yield \\\\+30% when crafting AP Ammo, and Crafting Time \\\\-50% | 40/45/50 |\\r\\n| [RedPlasmaRounds](https://static.wikia.nocookie.net/once-human/images/6/6d/RedPlasmaRounds.png/revision/latest?cb=20240908153411) | Red Plasma Rounds | Artillery Marshal | Unlock New Formula: Red Plasma Rounds | Craft Red Plasma Rounds which deal large amounts of damage to enemies, especially silver shields of Prime Wars bosses. Rounds kept for 24 hours. | 40/45/50 |\\r\\n| [StardustRegulator](https://static.wikia.nocookie.net/once-human/images/f/f1/StardustRegulator.png/revision/latest?cb=20240908155101) | [Stardust Regulator](/wiki/Stardust_Regulator \"Stardust Regulator\") | Master Craftsman | Unlock New Formula: Stardust Regulator | Recover 70% of HP immediately and gain a Shield equal to 30% Max HP. This has a 30s cooldown (independent of Activators\\' cooldowns) and can be used up to 15 times. | 40/45/50 |\\r\\n#### Gathering\\\\[]\\r\\n| Image | Name | Category | Effect | Details | Possible levels |\\r\\n| --- | --- | --- | --- | --- | --- |\\r\\n| [ArtofStardustDecay](https://static.wikia.nocookie.net/once-human/images/1/10/ArtofStardustDecay.png/revision/latest?cb=20240731205314) | Art of Stardust Decay | Smelter | Unlock New Formula: Art of Stardust Decay | Consume Stardust Source to craft Acid using the Electric Furnace. (4 Source \\\\= 1 Acid) | 40/45/50 |\\r\\n| [ChainsawHorrorShow](https://static.wikia.nocookie.net/once-human/images/3/39/ChainsawHorrorShow.png/revision/latest?cb=20240731205743) | Chainsaw: Chainsaw Horror Show | Prospector | Improved Formula: Chainsaw | Chainsaw Durability cap \\\\+50%, Chainsaw Attack Speed \\\\+30%, and Chainsaw Melee DMG \\\\+100%. | 20/25/30/35 |\\r\\n| [DisassemblyBenchCarefulDisassembly](https://static.wikia.nocookie.net/once-human/images/e/e0/DisassemblyBenchCarefulDisassembly.png/revision/latest?cb=20240731210058) | Disassembly Bench: Careful Disassembly | Smelter | Facility Boost: Disassembly Bench | Yield \\\\+30% when disassembling Parts, Fabrics and Plastic. | 5/10/15 |\\r\\n| [ElectricDrillTreasureHunter](https://static.wikia.nocookie.net/once-human/images/1/1b/ElectricDrillTreasureHunter.png/revision/latest?cb=20240731210404) | Electric Drill: Treasure Hunter | Prospector | Improved Formula: Electric Drill | Enjoy \\\\+100% yield when mining for Gold Ore, Silver Ore, and Stardust Ore with an Electric Drill. | 20/25/30/35 |\\r\\n| [ElectricFurnaceEfficiencyLover](https://static.wikia.nocookie.net/once-human/images/9/9a/ElectricFurnaceEfficiencyLover.png/revision/latest?cb=20240731211112) | Electric Furnace: Efficiency Lover | Smelter | Facility Boost: Electric Furnace | Power Consumption \\\\-50%, and Crafting Time \\\\-60%. | 20/25/30/35 |\\r\\n| [FurnacePrecisionRefining](https://static.wikia.nocookie.net/once-human/images/9/91/FurnacePrecisionRefining.png/revision/latest?cb=20240731211327) | Furnace: Precision Refining | Smelter | Facility Boost: Furnace | Resource Consumption \\\\-30%, and Smelting Time \\\\-30% when smelting Copper, Bronze, Steel, Aluminum, and Tungsten Ingots using a Furnace or Electric Furnace. | 5/10/15 |\\r\\n| [GravelandLogontheGo](https://static.wikia.nocookie.net/once-human/images/6/6e/GravelandLogontheGo.png/revision/latest?cb=20240731211529) | Gravel and Log On\\\\-the\\\\-Go | Prospector | Unlock New Formula: Gravel and Log On\\\\-the\\\\-Go | When in your Backpack, it reduces the weight of Logs, Gravels, and Ores you carry by 40%\\\\-80%. Effect cannot stack. | 5/10/15 |\\r\\n| [PickaxeForestFoe](https://static.wikia.nocookie.net/once-human/images/a/a9/PickaxeForestFoe.png/revision/latest?cb=20240731211846) | Pickaxe: Forest Foe | Prospector | Improved Formula: Pickaxe | Pickaxe Durability is doubled. Enjoy \\\\+ 30% yield when logging with the Pickaxe, and gain 150% of the resources when you completely destroy a tree. | 5/10/15 |\\r\\n| [PickaxeMoonlightMining](https://static.wikia.nocookie.net/once-human/images/f/f9/PickaxeMoonlightMining.png/revision/latest?cb=20240731212020) | Pickaxe: Moonlight Mining | Prospector | Improved Formula: Pickaxe | When using the Pickaxe for Mining, increase the yield of Copper Ore, Tin Ore, Iron Ore, Aluminum Ore, and Tungsten by 25%. Effect doubles at night (21:00\\\\-06:00\\\\). | 5/10/15 |\\r\\n| [PreciousMetalRefining](https://static.wikia.nocookie.net/once-human/images/3/3b/PreciousMetalRefining.png/revision/latest?cb=20240731212203) | Precious Metal Refining | Smelter | Unlock New Formula: Precious Metal Refining | Smelt Gold and Silver Ores into Ingots using the Electric Furnace. The Ingots can be sold for a large number of Energy Links. | 20/25/30/35 |\\r\\n| [SolarDrill](https://static.wikia.nocookie.net/once-human/images/d/de/SolarDrill.png/revision/latest?cb=20240731212505) | Solar Drill | Prospector | Unlock New Formula: Solar Drill | The Solar Drill charges itself on sunny days. Enjoy \\\\+15%\\\\-40% yields of Copper Ore, Tin Ore, Iron Ore, Aluminum Ore and Tungsten Ore. | 20/25/30/35 |\\r\\n| [SuperRefinery](https://static.wikia.nocookie.net/once-human/images/2/2a/SuperRefinery.png/revision/latest?cb=20240801021407) | Super Refinery | Smelter | Unlock New Facility: Super Refinery | Transform Acid into Portable Mixed Fuel more efficiently. | 5/10/15 |\\r\\n| [ElectricFurnaceElectrolysis](https://static.wikia.nocookie.net/once-human/images/6/6c/ElectricFurnaceElectrolysis.png/revision/latest?cb=20240908154544) | Electric Furnace: Electrolysis | Smelter | Facility Boost: Electric Furnace | Doubles Yield when smelting Aluminum and Tungsten Ingots using the Electric Furnace. | 40/45/50 |\\r\\n|  | Stardust Mining Platform | Prospector | New Facility: Stardust Mining Platform | Increase Mining yield by 20%. Can mine Stardust when in a Pollution Zone. | 40/45/50 |\\r\\n#### Management\\\\[]\\r\\n| Image | Name | Category | Effect | Details | Possible levels |\\r\\n| --- | --- | --- | --- | --- | --- |\\r\\n|  | Chef\\'s Knife | Star Chef | New Formula: Chef\\'s Knife | When this item is in your Backpack, you gain \\\\+1 meat when butchering animals, and you have a 30\\\\-60% chance of getting additional by\\\\-products. | 5/10/15 |\\r\\n|  | Biomass Generator: Sustained Output | Sparksmith | Facility Boost: Biomass Generator | Biomass Generator Power Output \\\\+5w, and Fuel Burn Duration \\\\+150%. | 20/25/30/35 |\\r\\n| [ActivatedCarbonFilter](https://static.wikia.nocookie.net/once-human/images/c/cd/ActivatedCarbonFilter.png/revision/latest?cb=20240801025253) | Activated Carbon Filter | Hydro Engineer | Unlock New Formula: Activated Carbon Purifier | When in your Backpack, when gathering water by the water with a flask, there is a 30% chance to receive Boiled Water or Pure Water. Effect cannot stack. | 5/10/15 |\\r\\n| [CannedGoodsMiniCanner](https://static.wikia.nocookie.net/once-human/images/3/32/CannedGoodsMiniCanner.png/revision/latest?cb=20240801025413) | Canned Goods: Mini Canner | Star Chef | Improved Formula: Canned Goods | \\\\+1 Yield when crafting Canned Goods. | 20/25/30/35 |\\r\\n| [CompostBin](https://static.wikia.nocookie.net/once-human/images/a/a1/CompostBin.png/revision/latest?cb=20240801025538) | Compost Bin | Child of the Earth | Unlock New Formula: Compost Bin | When in your Backpack, if there is Spoiled Food in your Backpack, 1\\\\-3 Spoiled Foods will be consumed every 10\\\\-5 minutes, and be turned into Mushrooms or random Fertilizer. Effect cannot stack. | 5/10/15 |\\r\\n| [GardeningGloves](https://static.wikia.nocookie.net/once-human/images/2/25/GardeningGloves.png/revision/latest?cb=20240801025653) | Gardening Gloves | Child of the Earth | Unlock New Formula: Gardening Gloves | When in your Backpack, there is a 6%\\\\-12% chance to double the seeds when acquiring plant seeds. Effect cannot stack. | 5/10/15 |\\r\\n| [GeneratorElectricalExpert](https://static.wikia.nocookie.net/once-human/images/0/0e/GeneratorElectricalExpert.png/revision/latest?cb=20240801025753) | Generator: Electrical Expert | Sparksmith | Facility Boost: Generator | Maximum Number of Generators \\\\+1, and \\\\+2w Power Output. | 20/25/30/35 |\\r\\n| [HarvestingSickle](https://static.wikia.nocookie.net/once-human/images/b/b1/HarvestingSickle.png/revision/latest?cb=20240801025854) | Harvesting Sickle | Child of the Earth | Unlock New Formula: Harvesting Sickle | When in your Backpack, there is a 20%\\\\-40% chance to double the yield when gathering in the wilderness. Effect cannot stack. | 20/25/30/35 |\\r\\n| [HydraulicGeneratorOnewiththeTides](https://static.wikia.nocookie.net/once-human/images/1/14/HydraulicGeneratorOnewiththeTides.png/revision/latest?cb=20240801025957) | Hydraulic Generator: One with the Tides | Sparksmith | Facility Boost: Hydraulic Generator | Maximum Number of Generators \\\\+1\\\\. Power Output \\\\+0\\\\-7w, depending on the speed of water flow. | 40/45/50 |\\r\\n| [IcedTreatBrainFreeze](https://static.wikia.nocookie.net/once-human/images/7/73/IcedTreatBrainFreeze.png/revision/latest?cb=20240801030057) | Iced Treat: Brain Freeze | Star Chef | Improved Formula: Iced Treat | Iced Treat Effect Duration \\\\+200%, and Potency \\\\+30%. | 20/25/30/35 |\\r\\n| [PortableDivingGear](https://static.wikia.nocookie.net/once-human/images/1/15/PortableDivingGear.png/revision/latest?cb=20240801030149) | Portable Diving Gear | Hydro Engineer | Unlock New Formula: Portable Diving Gear | When in your Backpack, increase Oxygen by 40%\\\\-100% and Swimming Speed by 20%\\\\-40% when diving. Effect cannot stack. | 5/10/15 |\\r\\n| [PortableFridge](https://static.wikia.nocookie.net/once-human/images/c/c9/PortableFridge.png/revision/latest?cb=20240801030244) | Portable Fridge | Star Chef | Unlock New Formula: Portable Fridge | When in your Backpack, reduce the spoilage speed of Food in your Backpack by 70%\\\\-90%. Effect cannot stack. | 20/25/30/35 |\\r\\n| [PortableRainwaterCollectionSystem](https://static.wikia.nocookie.net/once-human/images/9/94/PortableRainwaterCollectionSystem.png/revision/latest?cb=20240801030341) | Portable Rainwater Collection System | Hydro Engineer | Unlock New Formula: Portable Rainwater Collection System | When in your Backpack, slowly recover Hydration, and a 30%\\\\-60% chance to receive 1 Dirty Water, Pure Water, or Acid every minute when it rains. Effect cannot stack. | 5/10/15 |\\r\\n| [Roasted&DriedLowandSlow](https://static.wikia.nocookie.net/once-human/images/4/4f/Roasted%26DriedLowandSlow.png/revision/latest?cb=20240801030454) | Roasted \\\\& Dried: Low and Slow | Star Chef | Improved Formula: Roasted \\\\& Dried | Roasted and Dried Dishes now provide \\\\+15 Energy and \\\\+10% Sanity. | 5/10/15 |\\r\\n| [Show (41)](https://static.wikia.nocookie.net/once-human/images/b/b5/Show_%2841%29.png/revision/latest?cb=20240801030601) | Solar Generator: Photon Power | Sparksmith | Facility Boost: Solar Generator | Solar Generator Power Output \\\\+ 10w. | 20/25/30/35 |\\r\\n| [StardustWaterPump](https://static.wikia.nocookie.net/once-human/images/9/95/StardustWaterPump.png/revision/latest?cb=20240801030937) | Stardust Water Pump | Hydro Engineer | Unlock New Facility: Stardust Water Pump | A special Water Pump that can extract Stardust Source from polluted soil when supplied with enough power. | 20/25/30/35 |\\r\\n| [StoveLong-TermStorage](https://static.wikia.nocookie.net/once-human/images/c/ca/StoveLong-TermStorage.png/revision/latest?cb=20240801031042) | Stove: Long\\\\-Term Storage | Star Chef | Facility Boost: Stove | Doubles the shelf life of Dishes you cook yourself. | 5/10/15 |\\r\\n|  | Kitchen Set: Gourmand | Star Chef | Facility Boost: Kitchen Set | Based effects of all Dishes \\\\+30% when prepared using a Kitchen Set, Effect Duration \\\\+50% and Crafting Speed \\\\-50%. | 40/45/50 |\\r\\n  '}, {'date_scraped': '2024-09-18 16:17:45', 'title': 'Boss & Monsters | Once Human Wiki | Fandom', 'source_url': 'https://once-human.fandom.com/wiki/Boss_%26_Monsters', 'text': '---\\r\\n**NPCs**\\\\[]\\r\\n===========\\r\\n[![Veronica](https://static.wikia.nocookie.net/once-human/images/8/83/Veronica.png/revision/latest/scale-to-width-down/200?cb=20230527131311 \"Veronica (87 KB)\")![Veronica](data:image/gif;base64,R0lGODlhAQABAIABAAAAAP///yH5BAEAAAEALAAAAAABAAEAQAICTAEAOw%3D%3D \"Veronica (87 KB)\")](/wiki/Veronica \"Veronica (87 KB)\")**Veronica**[![Victor](https://static.wikia.nocookie.net/once-human/images/9/90/Victor.png/revision/latest/scale-to-width-down/200?cb=20230527131355 \"Victor (81 KB)\")![Victor](data:image/gif;base64,R0lGODlhAQABAIABAAAAAP///yH5BAEAAAEALAAAAAABAAEAQAICTAEAOw%3D%3D \"Victor (81 KB)\")](/wiki/Victor \"Victor (81 KB)\")**Victor**[![Pauline](https://static.wikia.nocookie.net/once-human/images/f/fd/Pauline_Avatar.png/revision/latest/scale-to-width-down/200?cb=20230527131421 \"Pauline (91 KB)\")![Pauline](data:image/gif;base64,R0lGODlhAQABAIABAAAAAP///yH5BAEAAAEALAAAAAABAAEAQAICTAEAOw%3D%3D \"Pauline (91 KB)\")](/wiki/Pauline \"Pauline (91 KB)\")**Pauline**[![Mary](https://static.wikia.nocookie.net/ucp-internal-test-starter-commons/images/7/70/Example.png/revision/latest/scale-to-width-down/222?cb=20211129152538 \"Mary (461 KB)\")![Mary](data:image/gif;base64,R0lGODlhAQABAIABAAAAAP///yH5BAEAAAEALAAAAAABAAEAQAICTAEAOw%3D%3D \"Mary (461 KB)\")](/wiki/Mary \"Mary (461 KB)\")**Mary**\\r\\n  \\r\\n**Bosses**\\\\[]\\r\\n=============\\r\\n[![Foul Shadowhunter](https://static.wikia.nocookie.net/ucp-internal-test-starter-commons/images/7/70/Example.png/revision/latest/scale-to-width-down/222?cb=20211129152538 \"Foul Shadowhunter (461 KB)\")![Foul Shadowhunter](data:image/gif;base64,R0lGODlhAQABAIABAAAAAP///yH5BAEAAAEALAAAAAABAAEAQAICTAEAOw%3D%3D \"Foul Shadowhunter (461 KB)\")](/wiki/Foul_Shadowhunter \"Foul Shadowhunter (461 KB)\")**Foul Shadowhunter**[![Rabizex](https://static.wikia.nocookie.net/ucp-internal-test-starter-commons/images/7/70/Example.png/revision/latest/scale-to-width-down/222?cb=20211129152538 \"Rabizex (461 KB)\")![Rabizex](data:image/gif;base64,R0lGODlhAQABAIABAAAAAP///yH5BAEAAAEALAAAAAABAAEAQAICTAEAOw%3D%3D \"Rabizex (461 KB)\")](/wiki/Rabizex \"Rabizex (461 KB)\")**Rabizex**[![Arachsiam](https://static.wikia.nocookie.net/ucp-internal-test-starter-commons/images/7/70/Example.png/revision/latest/scale-to-width-down/222?cb=20211129152538 \"Arachsiam (461 KB)\")![Arachsiam](data:image/gif;base64,R0lGODlhAQABAIABAAAAAP///yH5BAEAAAEALAAAAAABAAEAQAICTAEAOw%3D%3D \"Arachsiam (461 KB)\")](/wiki/Arachsiam \"Arachsiam (461 KB)\")**Arachsiam**[![Treant](https://static.wikia.nocookie.net/ucp-internal-test-starter-commons/images/7/70/Example.png/revision/latest/scale-to-width-down/222?cb=20211129152538 \"Treant (461 KB)\")![Treant](data:image/gif;base64,R0lGODlhAQABAIABAAAAAP///yH5BAEAAAEALAAAAAABAAEAQAICTAEAOw%3D%3D \"Treant (461 KB)\")](/wiki/Treant \"Treant (461 KB)\")**Treant**\\r\\n  \\r\\n**Elite Deviants**\\\\[]\\r\\n=====================\\r\\n[![Rainfall Reaper](https://static.wikia.nocookie.net/once-human/images/3/3f/Elite_Deviants_-_Rainfall_Reaper.png/revision/latest/scale-to-width-down/200?cb=20240903180851 \"Rainfall Reaper (686 KB)\")![Rainfall Reaper](data:image/gif;base64,R0lGODlhAQABAIABAAAAAP///yH5BAEAAAEALAAAAAABAAEAQAICTAEAOw%3D%3D \"Rainfall Reaper (686 KB)\")](/wiki/Rainfall_Reaper \"Rainfall Reaper (686 KB)\")**Rainfall Reaper**'}]\n"
     ]
    }
   ],
   "source": [
    "with open('data\\\\data.json', 'r', encoding='utf-8') as f:\n",
    "    data = json.load(f)\n",
    "\n",
    "print(data[:5])"
   ]
  },
  {
   "cell_type": "code",
   "execution_count": 4,
   "metadata": {},
   "outputs": [
    {
     "data": {
      "text/html": [
       "<div>\n",
       "<style scoped>\n",
       "    .dataframe tbody tr th:only-of-type {\n",
       "        vertical-align: middle;\n",
       "    }\n",
       "\n",
       "    .dataframe tbody tr th {\n",
       "        vertical-align: top;\n",
       "    }\n",
       "\n",
       "    .dataframe thead th {\n",
       "        text-align: right;\n",
       "    }\n",
       "</style>\n",
       "<table border=\"1\" class=\"dataframe\">\n",
       "  <thead>\n",
       "    <tr style=\"text-align: right;\">\n",
       "      <th></th>\n",
       "      <th>date_scraped</th>\n",
       "      <th>title</th>\n",
       "      <th>source_url</th>\n",
       "      <th>text</th>\n",
       "    </tr>\n",
       "  </thead>\n",
       "  <tbody>\n",
       "    <tr>\n",
       "      <th>0</th>\n",
       "      <td>2024-09-18 16:17:40</td>\n",
       "      <td>Once Human Wiki | Fandom</td>\n",
       "      <td>https://once-human.fandom.com/wiki/Main_Page</td>\n",
       "      <td>**Welcome to the Once Human Wiki**\\[]\\r\\n=====...</td>\n",
       "    </tr>\n",
       "    <tr>\n",
       "      <th>1</th>\n",
       "      <td>2024-09-18 16:17:41</td>\n",
       "      <td>Once Human | Once Human Wiki | Fandom</td>\n",
       "      <td>https://once-human.fandom.com/wiki/Once_Human</td>\n",
       "      <td>**BACKGROUND STORY**\\[]\\r\\n-------------------...</td>\n",
       "    </tr>\n",
       "    <tr>\n",
       "      <th>2</th>\n",
       "      <td>2024-09-18 16:17:43</td>\n",
       "      <td>Wish Machine | Once Human Wiki | Fandom</td>\n",
       "      <td>https://once-human.fandom.com/wiki/Wish_Machine</td>\n",
       "      <td>&gt; \"Behold, mortal, before you is the great wil...</td>\n",
       "    </tr>\n",
       "    <tr>\n",
       "      <th>3</th>\n",
       "      <td>2024-09-18 16:17:44</td>\n",
       "      <td>Memetics | Once Human Wiki | Fandom</td>\n",
       "      <td>https://once-human.fandom.com/wiki/Memetics</td>\n",
       "      <td>Memetics grant Formulas that players can use t...</td>\n",
       "    </tr>\n",
       "    <tr>\n",
       "      <th>4</th>\n",
       "      <td>2024-09-18 16:17:45</td>\n",
       "      <td>Boss &amp; Monsters | Once Human Wiki | Fandom</td>\n",
       "      <td>https://once-human.fandom.com/wiki/Boss_%26_Mo...</td>\n",
       "      <td>---\\r\\n**NPCs**\\[]\\r\\n===========\\r\\n[![Veroni...</td>\n",
       "    </tr>\n",
       "  </tbody>\n",
       "</table>\n",
       "</div>"
      ],
      "text/plain": [
       "          date_scraped                                       title  \\\n",
       "0  2024-09-18 16:17:40                    Once Human Wiki | Fandom   \n",
       "1  2024-09-18 16:17:41       Once Human | Once Human Wiki | Fandom   \n",
       "2  2024-09-18 16:17:43     Wish Machine | Once Human Wiki | Fandom   \n",
       "3  2024-09-18 16:17:44         Memetics | Once Human Wiki | Fandom   \n",
       "4  2024-09-18 16:17:45  Boss & Monsters | Once Human Wiki | Fandom   \n",
       "\n",
       "                                          source_url  \\\n",
       "0       https://once-human.fandom.com/wiki/Main_Page   \n",
       "1      https://once-human.fandom.com/wiki/Once_Human   \n",
       "2    https://once-human.fandom.com/wiki/Wish_Machine   \n",
       "3        https://once-human.fandom.com/wiki/Memetics   \n",
       "4  https://once-human.fandom.com/wiki/Boss_%26_Mo...   \n",
       "\n",
       "                                                text  \n",
       "0  **Welcome to the Once Human Wiki**\\[]\\r\\n=====...  \n",
       "1  **BACKGROUND STORY**\\[]\\r\\n-------------------...  \n",
       "2  > \"Behold, mortal, before you is the great wil...  \n",
       "3  Memetics grant Formulas that players can use t...  \n",
       "4  ---\\r\\n**NPCs**\\[]\\r\\n===========\\r\\n[![Veroni...  "
      ]
     },
     "execution_count": 4,
     "metadata": {},
     "output_type": "execute_result"
    }
   ],
   "source": [
    "df = pd.DataFrame(data)\n",
    "df.head(5)"
   ]
  },
  {
   "cell_type": "code",
   "execution_count": 10,
   "metadata": {},
   "outputs": [
    {
     "name": "stdout",
     "output_type": "stream",
     "text": [
      "> \"Behold, mortal, before you is the great will of the Great One, the almighty Wish Machine! He enjoys granting the wishes of others and has taken interest in the ravings of the Ancient One in Chaotic Cortex.\"\n",
      "Wish Machine\n",
      "------------\n",
      "[![Wish Machine](https://static.wikia.nocookie.net/once-human/images/1/10/Wish_Machine.png/revision/latest?cb=20240819110322)](https://static.wikia.nocookie.net/once-human/images/1/10/Wish_Machine.png/revision/latest?cb=20240819110322 \"Wish Machine\")\n",
      "### Facility\n",
      "[Special](/wiki/Category:Special_Function_Facility \"Category:Special Function Facility\")  \n",
      "([Function Facility](/wiki/Category:Function_Facility \"Category:Function Facility\"))\n",
      "How To Get\n",
      "----------\n",
      "[Build Mode](/wiki/Build_Mode \"Build Mode\")[Memetic Unlock](/wiki/Memetics \"Memetics\")  \n",
      "Contents\n",
      "--------\n",
      "* [1 How To Get](#How_To_Get)\n",
      "\t+ [1\\.1 Formula Requirements](#Formula_Requirements)\n",
      "* [2 How To Use](#How_To_Use)\n",
      "How To Get\\[]\n",
      "-------------\n",
      "Unlock Memetic in the Logistics sub\\-tab\n",
      "To unlock memetic you would need\n",
      "1. 3 Ciphers\n",
      "2. 200 Energy Links\n",
      "#### Formula Requirements\\[]\n",
      "[Build Mode](/wiki/Build_Mode \"Build Mode\")\n",
      "| 25 | [Copper Ingot](/wiki/Copper_Ingot \"Copper Ingot\") |\n",
      "| --- | --- |\n",
      "| 10 | [Rusted Part](/wiki/Rusted_Part \"Rusted Part\") |\n",
      "| 5 | [Metal Scraps](/wiki/Metal_Scraps \"Metal Scraps\") |\n",
      "| 3 | [Rubber](/wiki/Rubber \"Rubber\") |\n",
      "| 5 | [Glass](/wiki/Glass \"Glass\") |\n",
      "How To Use\\[]\n",
      "-------------\n",
      "This article is a [stub](/wiki/Category:Article_stubs \"Category:Article stubs\").\n",
      "You can help the Once Human Wiki by [expanding it](https://once-human.fandom.com/wiki/Wish_Machine?action=edit).\n"
     ]
    }
   ],
   "source": [
    "print(df.iloc[2]['text'])"
   ]
  },
  {
   "cell_type": "code",
   "execution_count": 16,
   "metadata": {},
   "outputs": [
    {
     "data": {
      "text/markdown": [
       "> \"Behold, mortal, before you is the great will of the Great One, the almighty Wish Machine! He enjoys granting the wishes of others and has taken interest in the ravings of the Ancient One in Chaotic Cortex.\"\r\n",
       "Wish Machine\r\n",
       "------------\r\n",
       "[![Wish Machine](https://static.wikia.nocookie.net/once-human/images/1/10/Wish_Machine.png/revision/latest?cb=20240819110322)](https://static.wikia.nocookie.net/once-human/images/1/10/Wish_Machine.png/revision/latest?cb=20240819110322 \"Wish Machine\")\r\n",
       "### Facility\r\n",
       "[Special](/wiki/Category:Special_Function_Facility \"Category:Special Function Facility\")  \r\n",
       "([Function Facility](/wiki/Category:Function_Facility \"Category:Function Facility\"))\r\n",
       "How To Get\r\n",
       "----------\r\n",
       "[Build Mode](/wiki/Build_Mode \"Build Mode\")[Memetic Unlock](/wiki/Memetics \"Memetics\")  \r\n",
       "Contents\r\n",
       "--------\r\n",
       "* [1 How To Get](#How_To_Get)\r\n",
       "\t+ [1\\.1 Formula Requirements](#Formula_Requirements)\r\n",
       "* [2 How To Use](#How_To_Use)\r\n",
       "How To Get\\[]\r\n",
       "-------------\r\n",
       "Unlock Memetic in the Logistics sub\\-tab\r\n",
       "To unlock memetic you would need\r\n",
       "1. 3 Ciphers\r\n",
       "2. 200 Energy Links\r\n",
       "#### Formula Requirements\\[]\r\n",
       "[Build Mode](/wiki/Build_Mode \"Build Mode\")\r\n",
       "| 25 | [Copper Ingot](/wiki/Copper_Ingot \"Copper Ingot\") |\r\n",
       "| --- | --- |\r\n",
       "| 10 | [Rusted Part](/wiki/Rusted_Part \"Rusted Part\") |\r\n",
       "| 5 | [Metal Scraps](/wiki/Metal_Scraps \"Metal Scraps\") |\r\n",
       "| 3 | [Rubber](/wiki/Rubber \"Rubber\") |\r\n",
       "| 5 | [Glass](/wiki/Glass \"Glass\") |\r\n",
       "How To Use\\[]\r\n",
       "-------------\r\n",
       "This article is a [stub](/wiki/Category:Article_stubs \"Category:Article stubs\").\r\n",
       "You can help the Once Human Wiki by [expanding it](https://once-human.fandom.com/wiki/Wish_Machine?action=edit)."
      ],
      "text/plain": [
       "<IPython.core.display.Markdown object>"
      ]
     },
     "metadata": {},
     "output_type": "display_data"
    }
   ],
   "source": [
    "from IPython.display import display, Markdown\n",
    "\n",
    "display(Markdown(df.iloc[2]['text']))"
   ]
  },
  {
   "cell_type": "code",
   "execution_count": 5,
   "metadata": {},
   "outputs": [
    {
     "data": {
      "text/html": [
       "<div>\n",
       "<style scoped>\n",
       "    .dataframe tbody tr th:only-of-type {\n",
       "        vertical-align: middle;\n",
       "    }\n",
       "\n",
       "    .dataframe tbody tr th {\n",
       "        vertical-align: top;\n",
       "    }\n",
       "\n",
       "    .dataframe thead th {\n",
       "        text-align: right;\n",
       "    }\n",
       "</style>\n",
       "<table border=\"1\" class=\"dataframe\">\n",
       "  <thead>\n",
       "    <tr style=\"text-align: right;\">\n",
       "      <th></th>\n",
       "      <th>date_scraped</th>\n",
       "      <th>title</th>\n",
       "      <th>source_url</th>\n",
       "      <th>text</th>\n",
       "      <th>token_length</th>\n",
       "    </tr>\n",
       "  </thead>\n",
       "  <tbody>\n",
       "    <tr>\n",
       "      <th>0</th>\n",
       "      <td>2024-09-18 16:17:40</td>\n",
       "      <td>Once Human Wiki | Fandom</td>\n",
       "      <td>https://once-human.fandom.com/wiki/Main_Page</td>\n",
       "      <td>**Welcome to the Once Human Wiki**\\[]\\r\\n=====...</td>\n",
       "      <td>2325</td>\n",
       "    </tr>\n",
       "    <tr>\n",
       "      <th>1</th>\n",
       "      <td>2024-09-18 16:17:41</td>\n",
       "      <td>Once Human | Once Human Wiki | Fandom</td>\n",
       "      <td>https://once-human.fandom.com/wiki/Once_Human</td>\n",
       "      <td>**BACKGROUND STORY**\\[]\\r\\n-------------------...</td>\n",
       "      <td>1051</td>\n",
       "    </tr>\n",
       "    <tr>\n",
       "      <th>2</th>\n",
       "      <td>2024-09-18 16:17:43</td>\n",
       "      <td>Wish Machine | Once Human Wiki | Fandom</td>\n",
       "      <td>https://once-human.fandom.com/wiki/Wish_Machine</td>\n",
       "      <td>&gt; \"Behold, mortal, before you is the great wil...</td>\n",
       "      <td>361</td>\n",
       "    </tr>\n",
       "    <tr>\n",
       "      <th>3</th>\n",
       "      <td>2024-09-18 16:17:44</td>\n",
       "      <td>Memetics | Once Human Wiki | Fandom</td>\n",
       "      <td>https://once-human.fandom.com/wiki/Memetics</td>\n",
       "      <td>Memetics grant Formulas that players can use t...</td>\n",
       "      <td>3891</td>\n",
       "    </tr>\n",
       "    <tr>\n",
       "      <th>4</th>\n",
       "      <td>2024-09-18 16:17:45</td>\n",
       "      <td>Boss &amp; Monsters | Once Human Wiki | Fandom</td>\n",
       "      <td>https://once-human.fandom.com/wiki/Boss_%26_Mo...</td>\n",
       "      <td>---\\r\\n**NPCs**\\[]\\r\\n===========\\r\\n[![Veroni...</td>\n",
       "      <td>573</td>\n",
       "    </tr>\n",
       "  </tbody>\n",
       "</table>\n",
       "</div>"
      ],
      "text/plain": [
       "          date_scraped                                       title  \\\n",
       "0  2024-09-18 16:17:40                    Once Human Wiki | Fandom   \n",
       "1  2024-09-18 16:17:41       Once Human | Once Human Wiki | Fandom   \n",
       "2  2024-09-18 16:17:43     Wish Machine | Once Human Wiki | Fandom   \n",
       "3  2024-09-18 16:17:44         Memetics | Once Human Wiki | Fandom   \n",
       "4  2024-09-18 16:17:45  Boss & Monsters | Once Human Wiki | Fandom   \n",
       "\n",
       "                                          source_url  \\\n",
       "0       https://once-human.fandom.com/wiki/Main_Page   \n",
       "1      https://once-human.fandom.com/wiki/Once_Human   \n",
       "2    https://once-human.fandom.com/wiki/Wish_Machine   \n",
       "3        https://once-human.fandom.com/wiki/Memetics   \n",
       "4  https://once-human.fandom.com/wiki/Boss_%26_Mo...   \n",
       "\n",
       "                                                text  token_length  \n",
       "0  **Welcome to the Once Human Wiki**\\[]\\r\\n=====...          2325  \n",
       "1  **BACKGROUND STORY**\\[]\\r\\n-------------------...          1051  \n",
       "2  > \"Behold, mortal, before you is the great wil...           361  \n",
       "3  Memetics grant Formulas that players can use t...          3891  \n",
       "4  ---\\r\\n**NPCs**\\[]\\r\\n===========\\r\\n[![Veroni...           573  "
      ]
     },
     "execution_count": 5,
     "metadata": {},
     "output_type": "execute_result"
    }
   ],
   "source": [
    "import nltk\n",
    "# nltk.download('punkt_tab') # for first time only\n",
    "from nltk.tokenize import word_tokenize\n",
    "\n",
    "def token_length(text):\n",
    "    return len(word_tokenize(text))\n",
    "\n",
    "df['token_length'] = df['text'].apply(token_length)\n",
    "df.head(5)"
   ]
  },
  {
   "cell_type": "code",
   "execution_count": 6,
   "metadata": {},
   "outputs": [
    {
     "data": {
      "text/plain": [
       "count     505.000000\n",
       "mean      383.992079\n",
       "std       628.717995\n",
       "min         7.000000\n",
       "25%       167.000000\n",
       "50%       209.000000\n",
       "75%       381.000000\n",
       "max      8800.000000\n",
       "Name: token_length, dtype: float64"
      ]
     },
     "execution_count": 6,
     "metadata": {},
     "output_type": "execute_result"
    }
   ],
   "source": [
    "df['token_length'].describe()"
   ]
  },
  {
   "cell_type": "code",
   "execution_count": 19,
   "metadata": {},
   "outputs": [
    {
     "data": {
      "text/plain": [
       "<Axes: >"
      ]
     },
     "execution_count": 19,
     "metadata": {},
     "output_type": "execute_result"
    },
    {
     "data": {
      "image/png": "[encoded data removed]",
      "text/plain": [
       "<Figure size 640x480 with 1 Axes>"
      ]
     },
     "metadata": {},
     "output_type": "display_data"
    }
   ],
   "source": [
    "df['token_length'].hist()"
   ]
  },
  {
   "cell_type": "code",
   "execution_count": 22,
   "metadata": {},
   "outputs": [
    {
     "data": {
      "text/markdown": [
       "Memetics grant Formulas that players can use to build and craft in [Once Human](/wiki/Once_Human \"Once Human\").\r\n",
       "Memetics are obtained by spending Meme Points (also known as Ciphers), which players earn by Leveling, completing Season Goals (Phase Rewards), and occasionally by completing [Story Tasks](/wiki/Category:Story_Task \"Category:Story Task\").\r\n",
       "Contents\r\n",
       "--------\r\n",
       "* [1 Memetics](#Memetics)\r\n",
       "* [2 Memetic Specializations](#Memetic_Specializations)\r\n",
       "\t+ [2\\.1 Identities](#Identities)\r\n",
       "\t+ [2\\.2 Specialization Branches](#Specialization_Branches)\r\n",
       "\t\t- [2\\.2\\.1 Building](#Building)\r\n",
       "\t\t- [2\\.2\\.2 Crafting](#Crafting)\r\n",
       "\t\t- [2\\.2\\.3 Gathering](#Gathering)\r\n",
       "\t\t- [2\\.2\\.4 Management](#Management)\r\n",
       "Memetics\\[]\r\n",
       "-----------\r\n",
       "Work In Progress..\r\n",
       "This is a \"Work In Progress\" and may display incomplete, partial, or inaccurate information.\r\n",
       "  \r\n",
       "[Memetic Specializations](/wiki/Memetic_Specialization \"Memetic Specialization\")\\[]\r\n",
       "-----------------------------------------------------------------------------------\r\n",
       "There are four branches of [Memetic Specializations](/wiki/Memetic_Specialization \"Memetic Specialization\"): Building, Crafting, Gathering, and Management. \r\n",
       "Every 5 levels, a [Memetic Specialization](/wiki/Memetic_Specialization \"Memetic Specialization\") node will be unlocked, which offers a choice among 4 randomly generated [Specializations](/wiki/Category:Memetic_Specialization \"Category:Memetic Specialization\").\r\n",
       "### Identities\\[]\r\n",
       "Unlocking 2 [Memetic Specializations](/wiki/Memetic_Specialization \"Memetic Specialization\") within the same branch grants you a unique \"Identity\" related to that branch, which you can showcase to other players.\r\n",
       "| Specialization Branch | Identities |\r\n",
       "| --- | --- |\r\n",
       "| Building | Tinkerer, Artillery Marshal |\r\n",
       "| Crafting | Machinist, Demolition Expert, Master Craftsman |\r\n",
       "| Gathering | Prospector, Smelter |\r\n",
       "| Management | Child of Earth, Sparksmith, Hydro Engineer, Star Chef |\r\n",
       "### Specialization Branches\\[]\r\n",
       "#### Building\\[]\r\n",
       "| Image | Name | Category | Effect | Details | Possible levels |\r\n",
       "| --- | --- | --- | --- | --- | --- |\r\n",
       "| [BasicDefenseBattleHardened](https://static.wikia.nocookie.net/once-human/images/2/27/BasicDefenseBattleHardened.png/revision/latest?cb=20240801021734) | Basic Defense: Battle\\-Hardened | Artillery Marshall | Facility Boost: Basic Defense | Sandbags, Shelters, and High Fortifications gain the Battle\\-Hardened effect, Durability \\+100%. When your Territory exits combat, Durability recovers to 100%. | 5/10/15 |\r\n",
       "| [BedAPlacetoCallHome](https://static.wikia.nocookie.net/once-human/images/e/ef/BedAPlacetoCallHome.png/revision/latest?cb=20240801021917) | Bed: A Place to Call Home | Tinkerer | Facility Boost: Bed | Sleep for more than 10s to cure all diseases and reduce Stamina depletion for the next 10 minutes. | 5/10/15 |\r\n",
       "| [DeluxeStorageCrate](https://static.wikia.nocookie.net/once-human/images/1/1d/DeluxeStorageCrate.png/revision/latest?cb=20240801022201) | Deluxe Storage Crate | Tinkerer | Unlock New Facility: Deluxe Storage Crate | A large Storage Crate with 64 item slots. | 5/10/15 |\r\n",
       "| [FlamethrowerTrapScorchingBlast](https://static.wikia.nocookie.net/once-human/images/b/ba/FlamethrowerTrapScorchingBlast.png/revision/latest?cb=20240801022316) | Flamethrower Trap: Scorching Blast | Artillery Marshall | Facility Boost: Flamethrower Trap | Flamethrower Trap DMG \\+30%. When the Flamethrower Trap kills an enemy, an explosion is triggered, dealing AoE Blast DMG to all nearby units (1s cooldown). | 5/10/15 |\r\n",
       "| [FurnaceSintering](https://static.wikia.nocookie.net/once-human/images/2/23/FurnaceSintering.png/revision/latest?cb=20240801022426) | Furnace: Sintering | Tinkerer | Facility Boost: Furnace | Sintered Brick and Glass Crafting Time \\-50%, Yield \\+100%. | 20/25/30/35 |\r\n",
       "| [GravitationalGripBondsofGuidance](https://static.wikia.nocookie.net/once-human/images/6/6f/GravitationalGripBondsofGuidance.png/revision/latest?cb=20240801022556) | Gravitational Grip: Bonds of Guidance | Artillery Marshall | Facility Boost: Gravitational Grip | When the Gravitational Grip trap is triggered by an enemy, there's a 20% chance that it will also inflict \"The Bull's Eye\". | 20/25/30/35 |\r\n",
       "| [RifleTurretTwoBirdsOneStone](https://static.wikia.nocookie.net/once-human/images/d/d0/RifleTurretTwoBirdsOneStone.png/revision/latest?cb=20240801022658) | Rifle Turret: Two Birds One Stone | Artillery Marshall | Facility Boost: Rifle Turret | Rifle Turret DMG \\+30%, Durability \\+ 30%, and attacks on target trigger a Bounce effect. | 40/45/50 |\r\n",
       "| [RoboticsFacilitySkilledMechanician](https://static.wikia.nocookie.net/once-human/images/d/d6/RoboticsFacilitySkilledMechanician.png/revision/latest?cb=20240801022759) | Robotics Facility: Skilled Mechanician | Artillery Marshall | Facility Boost: Robotics Facility | Increase the Durability of Traps and Rifle Turret type facilities by 50%. | 5/10/15 |\r\n",
       "| [ShotgunTurretVolleyFire](https://static.wikia.nocookie.net/once-human/images/3/37/ShotgunTurretVolleyFire.png/revision/latest?cb=20240801022911) | Shotgun Turret: Volley Fire | Artillery Marshall | Facility Boost: Shotgun Turret | Shotgun Turret DMG \\+30%, Power Consumption \\-30%, with a 30% chance to trigger the shrapnel effect. | 20/25/30/35 |\r\n",
       "| [UpdraftDeviceGravityLite](https://static.wikia.nocookie.net/once-human/images/6/65/UpdraftDeviceGravityLite.png/revision/latest?cb=20240801023011) | Updraft Device: Gravity Lite | Tinkerer | Facility Boost: Updraft Device | Gravity is reduced around the Updraft Cannon, and Movement Speed is increased for 5s. | 20/25/30/35 |\r\n",
       "| [WoodStructuresToughPlant](https://static.wikia.nocookie.net/once-human/images/6/67/WoodStructuresToughPlant.png/revision/latest?cb=20240801023107) | Wood Structures: Tough Plant | Tinkerer | Facility Boost: Wood Structures | Structures built from wood gain the Tough Plant effect, and Durability \\+ 150%. | 5/10/15 |\r\n",
       "| [GatlingCannonPowerBlast](https://static.wikia.nocookie.net/once-human/images/5/5f/GatlingCannonPowerBlast.png/revision/latest?cb=20240908154010) | Gatling Cannon: Power Blast | Artillery Marshall | Facility Boost: Gatling Cannon | Gatling Cannons deal \\+30% DMG. When your Territory exits combat, Durability recovers to 100%. | 40/45/50 |\r\n",
       "#### Crafting\\[]\r\n",
       "| Image | Name | Category | Effect | Details | Possible levels |\r\n",
       "| --- | --- | --- | --- | --- | --- |\r\n",
       "| [ClaymoreMine Warrior's Resolve](https://static.wikia.nocookie.net/once-human/images/1/13/ClaymoreMine_Warrior%27s_Resolve.png/revision/latest?cb=20240809120048) [ClaymoreMine Warrior's Resolve](https://static.wikia.nocookie.net/once-human/images/1/13/ClaymoreMine_Warrior%27s_Resolve.png/revision/latest?cb=20240809120048) | Claymore Mine: Warrior's Resolve | Demolition Expert | Improved Formula: Claymore Mine | Deals an additional 4000 \\+400% Psi Intensity  damage and increases Max HP by 400% Psi Intensity | 20/25/30/35 |\r\n",
       "| [AdrenalineShotPhoenix](https://static.wikia.nocookie.net/once-human/images/6/68/AdrenalineShotPhoenix.png/revision/latest?cb=20240801023305) | Adrenaline Shot: Phoenix | Master Craftsman | Improved Formula: Adrenaline Shot | Take less DMG for the first 10s after respawning and slowly recover HP. | 20/25/30/35 |\r\n",
       "| [BiomassMissileAmpleMunition](https://static.wikia.nocookie.net/once-human/images/e/ec/BiomassMissileAmpleMunition.png/revision/latest?cb=20240801022042) | Biomass Missile: Ample Munition | Artillery Marshall | Improved Formula: Biomass Missile | Plasma Missiles \\-80% Weight, and \\+2 Crafting Yield. | 20/25/30/35 |\r\n",
       "| [BackpackExpansion](https://static.wikia.nocookie.net/once-human/images/e/e7/BackpackExpansion.png/revision/latest?cb=20240801023424) | Backpack Expansion | Master Craftsman | Unlock New Formula: Backpack Expansion | When in your Backpack, increase Max Load by 40\\-80\\. Effect cannot stack. | 5/10/15 |\r\n",
       "| [DisassemblyBenchElectronicRecycling](https://static.wikia.nocookie.net/once-human/images/7/7c/DisassemblyBenchElectronicRecycling.png/revision/latest?cb=20240801023540) | Disassembly Bench: Electronic Recycling | Machinist | Facility Boost: Disassembly Bench | Yield \\+50% for Metal Scraps and Electronic Parts. | 5/10/15 |\r\n",
       "| [ElectronicsGrabber](https://static.wikia.nocookie.net/once-human/images/6/64/ElectronicsGrabber.png/revision/latest?cb=20240801023644) | Electronics Grabber | Machinist | Unlock New Formula: Electronics Grabber | When in your Backpack, there is a small to medium chance to receive additional electronic modules when opening a Storage Crate. Effect cannot stack. | 5/10/15 |\r\n",
       "| [ExplosiveOn-the-Go](https://static.wikia.nocookie.net/once-human/images/7/74/ExplosiveOn-the-Go.png/revision/latest?cb=20240801023748) | Explosive On\\-the\\-Go | Demolition Expert | Unlock New Formula: Explosive On\\-the\\-Go | When in your Backpack, reduce the weight of Grenades, Molotov Cocktails, High Explosives, Shrapnel Grenades, Thermite Grenades, Rocket Launcher Rockets, and Grenade Launcher Grenades by 30%\\-60%. After using a throwable, increase Sprint Speed by 20% for 2s. Effect cannot stack. | 5/10/15 |\r\n",
       "| [ExplosiveSack](https://static.wikia.nocookie.net/once-human/images/a/a8/ExplosiveSack.png/revision/latest?cb=20240801023855) | Explosive Sack | Demolition Expert | Unlock New Formula: Explosive Sack | When in your Backpack, there is a 30%\\-60% chance to salvage Explosive Compound after using High\\-Explosive Grenades, Shrapnel Grenades, and Simple Explosives. There is a 30%\\-60% chance to salvage Sulfur after using Molotov Cocktails and Thermite Grenades. Effect cannot stack. | 5/10/15 |\r\n",
       "| [ExplosiveThrowablesEchoBlast](https://static.wikia.nocookie.net/once-human/images/7/75/ExplosiveThrowablesEchoBlast.png/revision/latest?cb=20240801024018) | Explosive Throwables: Echo Blast | Demolition Expert | Improved Formula: Explosive Throwables | Increase the DMG of High\\-Explosive Grenades, Shrapnel Grenades, Molotov Cocktails, and Thermite DMG by 30%. The first target killed will trigger 1 extra explosion, dealing damage equal to 400% Psi Intensity. | 20/25/30/35 |\r\n",
       "| [GearWorkbenchCustomization](https://static.wikia.nocookie.net/once-human/images/5/5d/GearWorkbenchCustomization.png/revision/latest?cb=20240801024119) | Gear Workbench: Customization | Master Craftsman | Facility Boost: Gear Workbench | Weapons and Armor crafted using the Gear Workbench enjoy \\+30% Max Durability. | 5/10/15 |\r\n",
       "| [JumpBooster](https://static.wikia.nocookie.net/once-human/images/4/4b/JumpBooster.png/revision/latest?cb=20240801024214) | Jump Booster | Machinist | Unlock New Formula: Jump Booster | Use to gain the double jump ability for 30 seconds. Can use up to 5 times. | 5/10/15 |\r\n",
       "| [PortableMGTurretBarrageofBullets](https://static.wikia.nocookie.net/once-human/images/2/28/PortableMGTurretBarrageofBullets.png/revision/latest?cb=20240801024328) | Portable MG Turret: Barrage of Bullets | Machinist | Improved Formula: Portable MG Turret | Firing the MG Turret can trigger the Bounce effect, increasing HP and DMG by 30%. The MG Turret is now a reusable item, with up to 5 uses max. | 20/25/30/35 |\r\n",
       "| [PortableUpdraftDevice](https://static.wikia.nocookie.net/once-human/images/b/b4/PortableUpdraftDevice.png/revision/latest?cb=20240801024440) | Portable Updraft Device | Machinist | Unlock New Formula: Portable Updraft Device | Use to temporarily summon an updraft at the location for 30s. When inside the updraft, jump height is increased. Can use up to 10 times. | 20/25/30/35 |\r\n",
       "| [SuppliesWorkbenchAmmoFactory](https://static.wikia.nocookie.net/once-human/images/c/ce/SuppliesWorkbenchAmmoFactory.png/revision/latest?cb=20240801024556) | Supplies Workbench: Ammo Factory | Master Craftsman | Facility Boost: Supplies Workbench | Crafting Output \\+50% when crafting regular Ammunition. | 5/10/15 |\r\n",
       "| [SuppliesWorkbenchHealingBoost](https://static.wikia.nocookie.net/once-human/images/a/a8/SuppliesWorkbenchHealingBoost.png/revision/latest?cb=20240801024759) | Supplies Workbench: Healing Boost | Master Craftsman | Facility Boost: Supplies Workbench | HP Recovery \\+10% when crafting Activators, and Output \\+1\\. | 20/25/30/35 |\r\n",
       "| [SynthesisBenchRecycle&Reuse](https://static.wikia.nocookie.net/once-human/images/b/b2/SynthesisBenchRecycle%26Reuse.png/revision/latest?cb=20240801024857) | Synthesis Bench: Recycle \\& Reuse | Master Craftsman | Facility Boost: Synthesis Bench | When crafting Drones, Turrets, Stardust Shields, Spectrum Generators, and Projection Generators, increase their use count by 1\\. | 20/25/30/35 |\r\n",
       "| [ThrowingDaggerBullseye](https://static.wikia.nocookie.net/once-human/images/2/2a/ThrowingDaggerBullseye.png/revision/latest?cb=20240801025025) | Throwing Dagger: Bullseye | Demolition Expert | Improved Formula: Throwing Dagger | Throwing Dagger \\+30% DMG. After killing an enemy with a Throwing Dagger, the next throw \\+100% DMG. | 5/10/15 |\r\n",
       "| [UltraGrenade](https://static.wikia.nocookie.net/once-human/images/4/42/UltraGrenade.png/revision/latest?cb=20240801025128) | Ultra Grenade | Demolition Expert | Unlock New Formula: Ultra Grenade | Higher Blast DMG, and additional bonus DMG against buildings and vehicles. | 40/45/50 |\r\n",
       "| [SuppliesWorkbenchAntiArmor](https://static.wikia.nocookie.net/once-human/images/0/01/SuppliesWorkbenchAntiArmor.png/revision/latest?cb=20240908152540) | Supplies Workbench: Anti\\-Armor | Master Craftsman | Facility Boost: Supplies Workbench | Yield \\+30% when crafting AP Ammo, and Crafting Time \\-50% | 40/45/50 |\r\n",
       "| [RedPlasmaRounds](https://static.wikia.nocookie.net/once-human/images/6/6d/RedPlasmaRounds.png/revision/latest?cb=20240908153411) | Red Plasma Rounds | Artillery Marshal | Unlock New Formula: Red Plasma Rounds | Craft Red Plasma Rounds which deal large amounts of damage to enemies, especially silver shields of Prime Wars bosses. Rounds kept for 24 hours. | 40/45/50 |\r\n",
       "| [StardustRegulator](https://static.wikia.nocookie.net/once-human/images/f/f1/StardustRegulator.png/revision/latest?cb=20240908155101) | [Stardust Regulator](/wiki/Stardust_Regulator \"Stardust Regulator\") | Master Craftsman | Unlock New Formula: Stardust Regulator | Recover 70% of HP immediately and gain a Shield equal to 30% Max HP. This has a 30s cooldown (independent of Activators' cooldowns) and can be used up to 15 times. | 40/45/50 |\r\n",
       "#### Gathering\\[]\r\n",
       "| Image | Name | Category | Effect | Details | Possible levels |\r\n",
       "| --- | --- | --- | --- | --- | --- |\r\n",
       "| [ArtofStardustDecay](https://static.wikia.nocookie.net/once-human/images/1/10/ArtofStardustDecay.png/revision/latest?cb=20240731205314) | Art of Stardust Decay | Smelter | Unlock New Formula: Art of Stardust Decay | Consume Stardust Source to craft Acid using the Electric Furnace. (4 Source \\= 1 Acid) | 40/45/50 |\r\n",
       "| [ChainsawHorrorShow](https://static.wikia.nocookie.net/once-human/images/3/39/ChainsawHorrorShow.png/revision/latest?cb=20240731205743) | Chainsaw: Chainsaw Horror Show | Prospector | Improved Formula: Chainsaw | Chainsaw Durability cap \\+50%, Chainsaw Attack Speed \\+30%, and Chainsaw Melee DMG \\+100%. | 20/25/30/35 |\r\n",
       "| [DisassemblyBenchCarefulDisassembly](https://static.wikia.nocookie.net/once-human/images/e/e0/DisassemblyBenchCarefulDisassembly.png/revision/latest?cb=20240731210058) | Disassembly Bench: Careful Disassembly | Smelter | Facility Boost: Disassembly Bench | Yield \\+30% when disassembling Parts, Fabrics and Plastic. | 5/10/15 |\r\n",
       "| [ElectricDrillTreasureHunter](https://static.wikia.nocookie.net/once-human/images/1/1b/ElectricDrillTreasureHunter.png/revision/latest?cb=20240731210404) | Electric Drill: Treasure Hunter | Prospector | Improved Formula: Electric Drill | Enjoy \\+100% yield when mining for Gold Ore, Silver Ore, and Stardust Ore with an Electric Drill. | 20/25/30/35 |\r\n",
       "| [ElectricFurnaceEfficiencyLover](https://static.wikia.nocookie.net/once-human/images/9/9a/ElectricFurnaceEfficiencyLover.png/revision/latest?cb=20240731211112) | Electric Furnace: Efficiency Lover | Smelter | Facility Boost: Electric Furnace | Power Consumption \\-50%, and Crafting Time \\-60%. | 20/25/30/35 |\r\n",
       "| [FurnacePrecisionRefining](https://static.wikia.nocookie.net/once-human/images/9/91/FurnacePrecisionRefining.png/revision/latest?cb=20240731211327) | Furnace: Precision Refining | Smelter | Facility Boost: Furnace | Resource Consumption \\-30%, and Smelting Time \\-30% when smelting Copper, Bronze, Steel, Aluminum, and Tungsten Ingots using a Furnace or Electric Furnace. | 5/10/15 |\r\n",
       "| [GravelandLogontheGo](https://static.wikia.nocookie.net/once-human/images/6/6e/GravelandLogontheGo.png/revision/latest?cb=20240731211529) | Gravel and Log On\\-the\\-Go | Prospector | Unlock New Formula: Gravel and Log On\\-the\\-Go | When in your Backpack, it reduces the weight of Logs, Gravels, and Ores you carry by 40%\\-80%. Effect cannot stack. | 5/10/15 |\r\n",
       "| [PickaxeForestFoe](https://static.wikia.nocookie.net/once-human/images/a/a9/PickaxeForestFoe.png/revision/latest?cb=20240731211846) | Pickaxe: Forest Foe | Prospector | Improved Formula: Pickaxe | Pickaxe Durability is doubled. Enjoy \\+ 30% yield when logging with the Pickaxe, and gain 150% of the resources when you completely destroy a tree. | 5/10/15 |\r\n",
       "| [PickaxeMoonlightMining](https://static.wikia.nocookie.net/once-human/images/f/f9/PickaxeMoonlightMining.png/revision/latest?cb=20240731212020) | Pickaxe: Moonlight Mining | Prospector | Improved Formula: Pickaxe | When using the Pickaxe for Mining, increase the yield of Copper Ore, Tin Ore, Iron Ore, Aluminum Ore, and Tungsten by 25%. Effect doubles at night (21:00\\-06:00\\). | 5/10/15 |\r\n",
       "| [PreciousMetalRefining](https://static.wikia.nocookie.net/once-human/images/3/3b/PreciousMetalRefining.png/revision/latest?cb=20240731212203) | Precious Metal Refining | Smelter | Unlock New Formula: Precious Metal Refining | Smelt Gold and Silver Ores into Ingots using the Electric Furnace. The Ingots can be sold for a large number of Energy Links. | 20/25/30/35 |\r\n",
       "| [SolarDrill](https://static.wikia.nocookie.net/once-human/images/d/de/SolarDrill.png/revision/latest?cb=20240731212505) | Solar Drill | Prospector | Unlock New Formula: Solar Drill | The Solar Drill charges itself on sunny days. Enjoy \\+15%\\-40% yields of Copper Ore, Tin Ore, Iron Ore, Aluminum Ore and Tungsten Ore. | 20/25/30/35 |\r\n",
       "| [SuperRefinery](https://static.wikia.nocookie.net/once-human/images/2/2a/SuperRefinery.png/revision/latest?cb=20240801021407) | Super Refinery | Smelter | Unlock New Facility: Super Refinery | Transform Acid into Portable Mixed Fuel more efficiently. | 5/10/15 |\r\n",
       "| [ElectricFurnaceElectrolysis](https://static.wikia.nocookie.net/once-human/images/6/6c/ElectricFurnaceElectrolysis.png/revision/latest?cb=20240908154544) | Electric Furnace: Electrolysis | Smelter | Facility Boost: Electric Furnace | Doubles Yield when smelting Aluminum and Tungsten Ingots using the Electric Furnace. | 40/45/50 |\r\n",
       "|  | Stardust Mining Platform | Prospector | New Facility: Stardust Mining Platform | Increase Mining yield by 20%. Can mine Stardust when in a Pollution Zone. | 40/45/50 |\r\n",
       "#### Management\\[]\r\n",
       "| Image | Name | Category | Effect | Details | Possible levels |\r\n",
       "| --- | --- | --- | --- | --- | --- |\r\n",
       "|  | Chef's Knife | Star Chef | New Formula: Chef's Knife | When this item is in your Backpack, you gain \\+1 meat when butchering animals, and you have a 30\\-60% chance of getting additional by\\-products. | 5/10/15 |\r\n",
       "|  | Biomass Generator: Sustained Output | Sparksmith | Facility Boost: Biomass Generator | Biomass Generator Power Output \\+5w, and Fuel Burn Duration \\+150%. | 20/25/30/35 |\r\n",
       "| [ActivatedCarbonFilter](https://static.wikia.nocookie.net/once-human/images/c/cd/ActivatedCarbonFilter.png/revision/latest?cb=20240801025253) | Activated Carbon Filter | Hydro Engineer | Unlock New Formula: Activated Carbon Purifier | When in your Backpack, when gathering water by the water with a flask, there is a 30% chance to receive Boiled Water or Pure Water. Effect cannot stack. | 5/10/15 |\r\n",
       "| [CannedGoodsMiniCanner](https://static.wikia.nocookie.net/once-human/images/3/32/CannedGoodsMiniCanner.png/revision/latest?cb=20240801025413) | Canned Goods: Mini Canner | Star Chef | Improved Formula: Canned Goods | \\+1 Yield when crafting Canned Goods. | 20/25/30/35 |\r\n",
       "| [CompostBin](https://static.wikia.nocookie.net/once-human/images/a/a1/CompostBin.png/revision/latest?cb=20240801025538) | Compost Bin | Child of the Earth | Unlock New Formula: Compost Bin | When in your Backpack, if there is Spoiled Food in your Backpack, 1\\-3 Spoiled Foods will be consumed every 10\\-5 minutes, and be turned into Mushrooms or random Fertilizer. Effect cannot stack. | 5/10/15 |\r\n",
       "| [GardeningGloves](https://static.wikia.nocookie.net/once-human/images/2/25/GardeningGloves.png/revision/latest?cb=20240801025653) | Gardening Gloves | Child of the Earth | Unlock New Formula: Gardening Gloves | When in your Backpack, there is a 6%\\-12% chance to double the seeds when acquiring plant seeds. Effect cannot stack. | 5/10/15 |\r\n",
       "| [GeneratorElectricalExpert](https://static.wikia.nocookie.net/once-human/images/0/0e/GeneratorElectricalExpert.png/revision/latest?cb=20240801025753) | Generator: Electrical Expert | Sparksmith | Facility Boost: Generator | Maximum Number of Generators \\+1, and \\+2w Power Output. | 20/25/30/35 |\r\n",
       "| [HarvestingSickle](https://static.wikia.nocookie.net/once-human/images/b/b1/HarvestingSickle.png/revision/latest?cb=20240801025854) | Harvesting Sickle | Child of the Earth | Unlock New Formula: Harvesting Sickle | When in your Backpack, there is a 20%\\-40% chance to double the yield when gathering in the wilderness. Effect cannot stack. | 20/25/30/35 |\r\n",
       "| [HydraulicGeneratorOnewiththeTides](https://static.wikia.nocookie.net/once-human/images/1/14/HydraulicGeneratorOnewiththeTides.png/revision/latest?cb=20240801025957) | Hydraulic Generator: One with the Tides | Sparksmith | Facility Boost: Hydraulic Generator | Maximum Number of Generators \\+1\\. Power Output \\+0\\-7w, depending on the speed of water flow. | 40/45/50 |\r\n",
       "| [IcedTreatBrainFreeze](https://static.wikia.nocookie.net/once-human/images/7/73/IcedTreatBrainFreeze.png/revision/latest?cb=20240801030057) | Iced Treat: Brain Freeze | Star Chef | Improved Formula: Iced Treat | Iced Treat Effect Duration \\+200%, and Potency \\+30%. | 20/25/30/35 |\r\n",
       "| [PortableDivingGear](https://static.wikia.nocookie.net/once-human/images/1/15/PortableDivingGear.png/revision/latest?cb=20240801030149) | Portable Diving Gear | Hydro Engineer | Unlock New Formula: Portable Diving Gear | When in your Backpack, increase Oxygen by 40%\\-100% and Swimming Speed by 20%\\-40% when diving. Effect cannot stack. | 5/10/15 |\r\n",
       "| [PortableFridge](https://static.wikia.nocookie.net/once-human/images/c/c9/PortableFridge.png/revision/latest?cb=20240801030244) | Portable Fridge | Star Chef | Unlock New Formula: Portable Fridge | When in your Backpack, reduce the spoilage speed of Food in your Backpack by 70%\\-90%. Effect cannot stack. | 20/25/30/35 |\r\n",
       "| [PortableRainwaterCollectionSystem](https://static.wikia.nocookie.net/once-human/images/9/94/PortableRainwaterCollectionSystem.png/revision/latest?cb=20240801030341) | Portable Rainwater Collection System | Hydro Engineer | Unlock New Formula: Portable Rainwater Collection System | When in your Backpack, slowly recover Hydration, and a 30%\\-60% chance to receive 1 Dirty Water, Pure Water, or Acid every minute when it rains. Effect cannot stack. | 5/10/15 |\r\n",
       "| [Roasted&DriedLowandSlow](https://static.wikia.nocookie.net/once-human/images/4/4f/Roasted%26DriedLowandSlow.png/revision/latest?cb=20240801030454) | Roasted \\& Dried: Low and Slow | Star Chef | Improved Formula: Roasted \\& Dried | Roasted and Dried Dishes now provide \\+15 Energy and \\+10% Sanity. | 5/10/15 |\r\n",
       "| [Show (41)](https://static.wikia.nocookie.net/once-human/images/b/b5/Show_%2841%29.png/revision/latest?cb=20240801030601) | Solar Generator: Photon Power | Sparksmith | Facility Boost: Solar Generator | Solar Generator Power Output \\+ 10w. | 20/25/30/35 |\r\n",
       "| [StardustWaterPump](https://static.wikia.nocookie.net/once-human/images/9/95/StardustWaterPump.png/revision/latest?cb=20240801030937) | Stardust Water Pump | Hydro Engineer | Unlock New Facility: Stardust Water Pump | A special Water Pump that can extract Stardust Source from polluted soil when supplied with enough power. | 20/25/30/35 |\r\n",
       "| [StoveLong-TermStorage](https://static.wikia.nocookie.net/once-human/images/c/ca/StoveLong-TermStorage.png/revision/latest?cb=20240801031042) | Stove: Long\\-Term Storage | Star Chef | Facility Boost: Stove | Doubles the shelf life of Dishes you cook yourself. | 5/10/15 |\r\n",
       "|  | Kitchen Set: Gourmand | Star Chef | Facility Boost: Kitchen Set | Based effects of all Dishes \\+30% when prepared using a Kitchen Set, Effect Duration \\+50% and Crafting Speed \\-50%. | 40/45/50 |\r\n",
       "  "
      ],
      "text/plain": [
       "<IPython.core.display.Markdown object>"
      ]
     },
     "metadata": {},
     "output_type": "display_data"
    }
   ],
   "source": [
    "display(Markdown(df.loc[df['token_length'] > 1000]['text'].values[2]))"
   ]
  },
  {
   "cell_type": "code",
   "execution_count": null,
   "metadata": {},
   "outputs": [],
   "source": []
  },
  {
   "cell_type": "code",
   "execution_count": null,
   "metadata": {},
   "outputs": [],
   "source": []
  }
 ],
 "metadata": {
  "kernelspec": {
   "display_name": "venv",
   "language": "python",
   "name": "python3"
  },
  "language_info": {
   "codemirror_mode": {
    "name": "ipython",
    "version": 3
   },
   "file_extension": ".py",
   "mimetype": "text/x-python",
   "name": "python",
   "nbconvert_exporter": "python",
   "pygments_lexer": "ipython3",
   "version": "3.10.9"
  }
 },
 "nbformat": 4,
 "nbformat_minor": 2
}
