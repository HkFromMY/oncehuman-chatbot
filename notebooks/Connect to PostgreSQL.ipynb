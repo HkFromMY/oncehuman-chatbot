{
 "cells": [
  {
   "cell_type": "code",
   "execution_count": 11,
   "metadata": {},
   "outputs": [
    {
     "data": {
      "text/html": [
       "<div>\n",
       "<style scoped>\n",
       "    .dataframe tbody tr th:only-of-type {\n",
       "        vertical-align: middle;\n",
       "    }\n",
       "\n",
       "    .dataframe tbody tr th {\n",
       "        vertical-align: top;\n",
       "    }\n",
       "\n",
       "    .dataframe thead th {\n",
       "        text-align: right;\n",
       "    }\n",
       "</style>\n",
       "<table border=\"1\" class=\"dataframe\">\n",
       "  <thead>\n",
       "    <tr style=\"text-align: right;\">\n",
       "      <th></th>\n",
       "      <th>id</th>\n",
       "      <th>selftext</th>\n",
       "      <th>title</th>\n",
       "      <th>created_utc</th>\n",
       "      <th>upvote_ratio</th>\n",
       "      <th>num_comments</th>\n",
       "      <th>permalink</th>\n",
       "    </tr>\n",
       "  </thead>\n",
       "  <tbody>\n",
       "    <tr>\n",
       "      <th>0</th>\n",
       "      <td>1ft9yze</td>\n",
       "      <td>Anyone else getting depressed when leaving the...</td>\n",
       "      <td>Server Leaving Blues</td>\n",
       "      <td>2024-09-30 23:32:21</td>\n",
       "      <td>0.82</td>\n",
       "      <td>11</td>\n",
       "      <td>/r/OnceHumanOfficial/comments/1ft9yze/server_l...</td>\n",
       "    </tr>\n",
       "    <tr>\n",
       "      <th>1</th>\n",
       "      <td>1ft5aab</td>\n",
       "      <td>I've stood outside another Rosetta's sealed up...</td>\n",
       "      <td>Is there a point in helping people guard devia...</td>\n",
       "      <td>2024-09-30 20:11:58</td>\n",
       "      <td>1.00</td>\n",
       "      <td>10</td>\n",
       "      <td>/r/OnceHumanOfficial/comments/1ft5aab/is_there...</td>\n",
       "    </tr>\n",
       "    <tr>\n",
       "      <th>2</th>\n",
       "      <td>1ft0ksl</td>\n",
       "      <td>Is it me or the server is very laggy sometimes...</td>\n",
       "      <td>Server Lag?</td>\n",
       "      <td>2024-09-30 16:59:48</td>\n",
       "      <td>0.80</td>\n",
       "      <td>17</td>\n",
       "      <td>/r/OnceHumanOfficial/comments/1ft0ksl/server_lag/</td>\n",
       "    </tr>\n",
       "    <tr>\n",
       "      <th>3</th>\n",
       "      <td>1fsrsfw</td>\n",
       "      <td>on theory it replace V and let u glide horizon...</td>\n",
       "      <td>prism clash: DO NOT get exploring drone</td>\n",
       "      <td>2024-09-30 09:53:24</td>\n",
       "      <td>0.75</td>\n",
       "      <td>16</td>\n",
       "      <td>/r/OnceHumanOfficial/comments/1fsrsfw/prism_cl...</td>\n",
       "    </tr>\n",
       "    <tr>\n",
       "      <th>4</th>\n",
       "      <td>1ftdsjr</td>\n",
       "      <td></td>\n",
       "      <td>My \"rare pattern\" collection so far...got abou...</td>\n",
       "      <td>2024-10-01 02:41:58</td>\n",
       "      <td>0.88</td>\n",
       "      <td>5</td>\n",
       "      <td>/r/OnceHumanOfficial/comments/1ftdsjr/my_rare_...</td>\n",
       "    </tr>\n",
       "  </tbody>\n",
       "</table>\n",
       "</div>"
      ],
      "text/plain": [
       "        id                                           selftext  \\\n",
       "0  1ft9yze  Anyone else getting depressed when leaving the...   \n",
       "1  1ft5aab  I've stood outside another Rosetta's sealed up...   \n",
       "2  1ft0ksl  Is it me or the server is very laggy sometimes...   \n",
       "3  1fsrsfw  on theory it replace V and let u glide horizon...   \n",
       "4  1ftdsjr                                                      \n",
       "\n",
       "                                               title          created_utc  \\\n",
       "0                               Server Leaving Blues  2024-09-30 23:32:21   \n",
       "1  Is there a point in helping people guard devia...  2024-09-30 20:11:58   \n",
       "2                                        Server Lag?  2024-09-30 16:59:48   \n",
       "3           prism clash: DO NOT get exploring drone   2024-09-30 09:53:24   \n",
       "4  My \"rare pattern\" collection so far...got abou...  2024-10-01 02:41:58   \n",
       "\n",
       "   upvote_ratio  num_comments  \\\n",
       "0          0.82            11   \n",
       "1          1.00            10   \n",
       "2          0.80            17   \n",
       "3          0.75            16   \n",
       "4          0.88             5   \n",
       "\n",
       "                                           permalink  \n",
       "0  /r/OnceHumanOfficial/comments/1ft9yze/server_l...  \n",
       "1  /r/OnceHumanOfficial/comments/1ft5aab/is_there...  \n",
       "2  /r/OnceHumanOfficial/comments/1ft0ksl/server_lag/  \n",
       "3  /r/OnceHumanOfficial/comments/1fsrsfw/prism_cl...  \n",
       "4  /r/OnceHumanOfficial/comments/1ftdsjr/my_rare_...  "
      ]
     },
     "execution_count": 11,
     "metadata": {},
     "output_type": "execute_result"
    }
   ],
   "source": [
    "import pandas as pd\n",
    "\n",
    "df = pd.read_json('data\\\\post.json')\n",
    "df.head(5)"
   ]
  },
  {
   "cell_type": "code",
   "execution_count": 15,
   "metadata": {},
   "outputs": [],
   "source": [
    "from sqlalchemy import create_engine\n",
    "\n",
    "USERNAME = 'reddit'\n",
    "PASSWORD = 'reddit'\n",
    "DB = 'reddit'\n",
    "HOST = 'localhost'\n",
    "PORT = '5432'\n",
    "\n",
    "engine = create_engine(f'postgresql://{USERNAME}:{PASSWORD}@{HOST}:{PORT}/{DB}')"
   ]
  },
  {
   "cell_type": "code",
   "execution_count": 16,
   "metadata": {},
   "outputs": [
    {
     "data": {
      "text/plain": [
       "16"
      ]
     },
     "execution_count": 16,
     "metadata": {},
     "output_type": "execute_result"
    }
   ],
   "source": [
    "TABLE_NAME = 'reddit_posts'\n",
    "\n",
    "\n",
    "df.to_sql(name=TABLE_NAME, con=engine, if_exists='append', index=False)"
   ]
  },
  {
   "cell_type": "code",
   "execution_count": null,
   "metadata": {},
   "outputs": [],
   "source": []
  },
  {
   "cell_type": "markdown",
   "metadata": {},
   "source": [
    "### Add Previous Data Before the Pipeline is fully built"
   ]
  },
  {
   "cell_type": "code",
   "execution_count": 21,
   "metadata": {},
   "outputs": [],
   "source": [
    "import pandas as pd \n",
    "\n",
    "posts = pd.read_json('data\\\\posts.json')\n",
    "comments = pd.read_json('data\\\\comments.json')"
   ]
  },
  {
   "cell_type": "code",
   "execution_count": 22,
   "metadata": {},
   "outputs": [],
   "source": [
    "from sqlalchemy import create_engine\n",
    "\n",
    "USERNAME = 'reddit'\n",
    "PASSWORD = 'reddit'\n",
    "DB = 'reddit'\n",
    "HOST = 'localhost'\n",
    "PORT = '5432'\n",
    "\n",
    "engine = create_engine(f'postgresql://{USERNAME}:{PASSWORD}@{HOST}:{PORT}/{DB}')"
   ]
  },
  {
   "cell_type": "code",
   "execution_count": 23,
   "metadata": {},
   "outputs": [
    {
     "data": {
      "text/plain": [
       "16"
      ]
     },
     "execution_count": 23,
     "metadata": {},
     "output_type": "execute_result"
    }
   ],
   "source": [
    "posts.to_sql(name='reddit_posts', con=engine, if_exists='append', index=False)"
   ]
  },
  {
   "cell_type": "code",
   "execution_count": 24,
   "metadata": {},
   "outputs": [
    {
     "data": {
      "text/plain": [
       "119"
      ]
     },
     "execution_count": 24,
     "metadata": {},
     "output_type": "execute_result"
    }
   ],
   "source": [
    "comments.to_sql(name='reddit_comments', con=engine, if_exists='append', index=False)"
   ]
  },
  {
   "cell_type": "code",
   "execution_count": 34,
   "metadata": {},
   "outputs": [],
   "source": [
    "# past month data\n",
    "comments_build = pd.read_json('data\\\\comments_build_20241002.json')\n",
    "comments_discussion = pd.read_json('data\\\\comments_discussion_20241002.json')\n",
    "posts_build = pd.read_json('data\\\\posts_build_20241002.json')\n",
    "posts_discussion = pd.read_json('data\\\\posts_discussion_20241002.json')"
   ]
  },
  {
   "cell_type": "code",
   "execution_count": 26,
   "metadata": {},
   "outputs": [
    {
     "data": {
      "text/plain": [
       "28"
      ]
     },
     "execution_count": 26,
     "metadata": {},
     "output_type": "execute_result"
    }
   ],
   "source": [
    "posts_build.to_sql(name='reddit_posts', con=engine, if_exists='append', index=False)"
   ]
  },
  {
   "cell_type": "code",
   "execution_count": 43,
   "metadata": {},
   "outputs": [
    {
     "data": {
      "text/plain": [
       "set()"
      ]
     },
     "execution_count": 43,
     "metadata": {},
     "output_type": "execute_result"
    }
   ],
   "source": [
    "# ensure that there's no intersection between discussion and build topics (because there's violation of primary key when loading data)\n",
    "discussion_ids = set(posts_discussion['id'].values)\n",
    "build_ids = set(posts_build['id'].values)\n",
    "discussion_ids.intersection(build_ids)"
   ]
  },
  {
   "cell_type": "code",
   "execution_count": 48,
   "metadata": {},
   "outputs": [
    {
     "data": {
      "text/plain": [
       "array(['1ftzssg', '1fu2yhu', '1ftm79i', '1ftx33d', '1ftyblc', '1fu62d2',\n",
       "       '1fu9xt6', '1fu0d17', '1fu2hir', '1ftllod', '1fu5moa', '1fu564x',\n",
       "       '1fu67an', '1ftzs26', '1ftxp3y', '1ftuqea', '1fu0ldl', '1ftp8n3',\n",
       "       '1ftluuy', '1ft9yze', '1ft5aab', '1ft0ksl', '1fsrsfw', '1ftdsjr',\n",
       "       '1ftdcuf', '1ft5d16', '1fsst6j', '1ft3q8e', '1ft48p3', '1ft8pm4',\n",
       "       '1ft0yq9', '1fteerv', '1ft2hmv', '1ft5wri', '1fteype', '1f8fefx',\n",
       "       '1fnxgds', '1fccv7q', '1fdf3xa', '1fa7ecn', '1fi1nep', '1f8xuxi',\n",
       "       '1fakl3r', '1f7vman', '1fcih3c', '1fcclhh', '1fdaxwu', '1fe61jd',\n",
       "       '1fs63sz', '1fln7ha', '1f712gz', '1f72had', '1fazf2m', '1fo5i4l',\n",
       "       '1fitizx', '1fbj4p8', '1fe2q59', '1f80yxp', '1fq4hnv', '1fs4ju0',\n",
       "       '1frkmjx', '1fpn3k5', '1fkf62m'], dtype=object)"
      ]
     },
     "execution_count": 48,
     "metadata": {},
     "output_type": "execute_result"
    }
   ],
   "source": [
    "import numpy as np \n",
    "\n",
    "# some posts are already in the database so need to remove\n",
    "excluded_ids = pd.read_sql_query('SELECT id FROM reddit_posts;', con=engine)\n",
    "excluded_ids = excluded_ids.values.flatten()\n",
    "excluded_ids"
   ]
  },
  {
   "cell_type": "code",
   "execution_count": 50,
   "metadata": {},
   "outputs": [],
   "source": [
    "posts_discussion = posts_discussion[~posts_discussion['id'].isin(excluded_ids)]"
   ]
  },
  {
   "cell_type": "code",
   "execution_count": 51,
   "metadata": {},
   "outputs": [
    {
     "data": {
      "text/plain": [
       "96"
      ]
     },
     "execution_count": 51,
     "metadata": {},
     "output_type": "execute_result"
    }
   ],
   "source": [
    "posts_discussion.to_sql(name='reddit_posts', con=engine, if_exists='append', index=False)"
   ]
  },
  {
   "cell_type": "code",
   "execution_count": 52,
   "metadata": {},
   "outputs": [
    {
     "data": {
      "text/plain": [
       "410"
      ]
     },
     "execution_count": 52,
     "metadata": {},
     "output_type": "execute_result"
    }
   ],
   "source": [
    "# same process for comments \n",
    "comments_build.to_sql(name='reddit_comments', con=engine, if_exists='append', index=False)"
   ]
  },
  {
   "cell_type": "code",
   "execution_count": 53,
   "metadata": {},
   "outputs": [
    {
     "data": {
      "text/plain": [
       "459"
      ]
     },
     "execution_count": 53,
     "metadata": {},
     "output_type": "execute_result"
    }
   ],
   "source": [
    "comments_discussion = comments_discussion[~comments_discussion['post_id'].isin(excluded_ids)]\n",
    "comments_discussion.to_sql(name='reddit_comments', con=engine, if_exists='append', index=False)"
   ]
  },
  {
   "cell_type": "code",
   "execution_count": null,
   "metadata": {},
   "outputs": [],
   "source": []
  },
  {
   "cell_type": "code",
   "execution_count": null,
   "metadata": {},
   "outputs": [],
   "source": []
  },
  {
   "cell_type": "code",
   "execution_count": null,
   "metadata": {},
   "outputs": [],
   "source": []
  }
 ],
 "metadata": {
  "kernelspec": {
   "display_name": "venv",
   "language": "python",
   "name": "python3"
  },
  "language_info": {
   "codemirror_mode": {
    "name": "ipython",
    "version": 3
   },
   "file_extension": ".py",
   "mimetype": "text/x-python",
   "name": "python",
   "nbconvert_exporter": "python",
   "pygments_lexer": "ipython3",
   "version": "3.10.9"
  }
 },
 "nbformat": 4,
 "nbformat_minor": 2
}
