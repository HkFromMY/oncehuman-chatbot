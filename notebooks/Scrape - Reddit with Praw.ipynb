{
 "cells": [
  {
   "cell_type": "code",
   "execution_count": 1,
   "metadata": {},
   "outputs": [],
   "source": [
    "from dotenv import load_dotenv\n",
    "import os \n",
    "from praw.models import MoreComments\n",
    "\n",
    "load_dotenv()\n",
    "\n",
    "REDDIT_CLIENT_ID = os.getenv(\"REDDIT_CLIENT_ID\")\n",
    "REDDIT_CLIENT_SECRET = os.getenv(\"REDDIT_SECRET_KEY\")"
   ]
  },
  {
   "cell_type": "code",
   "execution_count": 2,
   "metadata": {},
   "outputs": [
    {
     "data": {
      "text/plain": [
       "<praw.reddit.Reddit at 0x14fa0778310>"
      ]
     },
     "execution_count": 2,
     "metadata": {},
     "output_type": "execute_result"
    }
   ],
   "source": [
    "import praw \n",
    "from praw import Reddit \n",
    "\n",
    "reddit = Reddit(\n",
    "    client_id=REDDIT_CLIENT_ID,\n",
    "    client_secret=REDDIT_CLIENT_SECRET,\n",
    "    user_agent=\"Mozilla/5.0 (Windows NT 10.0; Win64; x64) AppleWebKit/537.36 (KHTML, like Gecko) Chrome/129.0.0.0 Safari/537.36\"\n",
    ")\n",
    "\n",
    "reddit"
   ]
  },
  {
   "cell_type": "code",
   "execution_count": 3,
   "metadata": {},
   "outputs": [
    {
     "data": {
      "text/plain": [
       "{'comment_limit': 2048,\n",
       " 'comment_sort': 'confidence',\n",
       " '_reddit': <praw.reddit.Reddit at 0x14fa0778310>,\n",
       " 'approved_at_utc': None,\n",
       " 'subreddit': Subreddit(display_name='OnceHumanOfficial'),\n",
       " 'selftext': 'Just got this beauty. Anyone know the exact function of a golden digby? There’s no description whatsoever, only “can get additional ores”. What ores?',\n",
       " 'author_fullname': 't2_7yetey0s',\n",
       " 'saved': False,\n",
       " 'mod_reason_title': None,\n",
       " 'gilded': 0,\n",
       " 'clicked': False,\n",
       " 'title': 'Golden Digby Level 5',\n",
       " 'link_flair_richtext': [{'a': ':Chat:',\n",
       "   'e': 'emoji',\n",
       "   'u': 'https://emoji.redditmedia.com/pa6x7jtiuded1_t5_7x3trg/Chat'},\n",
       "  {'e': 'text', 't': '\\u2002Discussion'}],\n",
       " 'subreddit_name_prefixed': 'r/OnceHumanOfficial',\n",
       " 'hidden': False,\n",
       " 'pwls': 6,\n",
       " 'link_flair_css_class': '',\n",
       " 'downs': 0,\n",
       " 'thumbnail_height': 112,\n",
       " 'top_awarded_type': None,\n",
       " 'hide_score': False,\n",
       " 'name': 't3_1f8sut6',\n",
       " 'quarantine': False,\n",
       " 'link_flair_text_color': 'light',\n",
       " 'upvote_ratio': 0.98,\n",
       " 'author_flair_background_color': None,\n",
       " 'ups': 371,\n",
       " 'total_awards_received': 0,\n",
       " 'media_embed': {},\n",
       " 'thumbnail_width': 140,\n",
       " 'author_flair_template_id': None,\n",
       " 'is_original_content': False,\n",
       " 'user_reports': [],\n",
       " 'secure_media': None,\n",
       " 'is_reddit_media_domain': True,\n",
       " 'is_meta': False,\n",
       " 'category': None,\n",
       " 'secure_media_embed': {},\n",
       " 'link_flair_text': ':Chat:\\u2002Discussion',\n",
       " 'can_mod_post': False,\n",
       " 'score': 371,\n",
       " 'approved_by': None,\n",
       " 'is_created_from_ads_ui': False,\n",
       " 'author_premium': False,\n",
       " 'thumbnail': 'https://b.thumbs.redditmedia.com/SKk7HKjNRHqSSDhD8OcEmAGLD66iWWGeKKmPNhxuzSg.jpg',\n",
       " 'edited': False,\n",
       " 'author_flair_css_class': None,\n",
       " 'author_flair_richtext': [],\n",
       " 'gildings': {},\n",
       " 'post_hint': 'image',\n",
       " 'content_categories': None,\n",
       " 'is_self': False,\n",
       " 'subreddit_type': 'public',\n",
       " 'created': 1725455210.0,\n",
       " 'link_flair_type': 'richtext',\n",
       " 'wls': 6,\n",
       " 'removed_by_category': None,\n",
       " 'banned_by': None,\n",
       " 'author_flair_type': 'text',\n",
       " 'domain': 'i.redd.it',\n",
       " 'allow_live_comments': False,\n",
       " 'selftext_html': '<!-- SC_OFF --><div class=\"md\"><p>Just got this beauty. Anyone know the exact function of a golden digby? There’s no description whatsoever, only “can get additional ores”. What ores?</p>\\n</div><!-- SC_ON -->',\n",
       " 'likes': None,\n",
       " 'suggested_sort': None,\n",
       " 'banned_at_utc': None,\n",
       " 'url_overridden_by_dest': 'https://i.redd.it/weca8ha7ksmd1.jpeg',\n",
       " 'view_count': None,\n",
       " 'archived': False,\n",
       " 'no_follow': False,\n",
       " 'is_crosspostable': False,\n",
       " 'pinned': False,\n",
       " 'over_18': False,\n",
       " 'preview': {'images': [{'source': {'url': 'https://preview.redd.it/weca8ha7ksmd1.jpeg?auto=webp&s=559b1c84e76ccaedc0acd03010f4b07567ad04f8',\n",
       "     'width': 1201,\n",
       "     'height': 962},\n",
       "    'resolutions': [{'url': 'https://preview.redd.it/weca8ha7ksmd1.jpeg?width=108&crop=smart&auto=webp&s=325bda343563712347fcb429bcc6c5e6e869b276',\n",
       "      'width': 108,\n",
       "      'height': 86},\n",
       "     {'url': 'https://preview.redd.it/weca8ha7ksmd1.jpeg?width=216&crop=smart&auto=webp&s=cff3c7220634323546807827d4293577889f5286',\n",
       "      'width': 216,\n",
       "      'height': 173},\n",
       "     {'url': 'https://preview.redd.it/weca8ha7ksmd1.jpeg?width=320&crop=smart&auto=webp&s=9f0b53579f639a0023395d51e3132dbe78057965',\n",
       "      'width': 320,\n",
       "      'height': 256},\n",
       "     {'url': 'https://preview.redd.it/weca8ha7ksmd1.jpeg?width=640&crop=smart&auto=webp&s=bb0ca74f9e741d694c8ab95a4995aad7db3cfd79',\n",
       "      'width': 640,\n",
       "      'height': 512},\n",
       "     {'url': 'https://preview.redd.it/weca8ha7ksmd1.jpeg?width=960&crop=smart&auto=webp&s=9c98c5ee25c7797645a3a43e0537fe4cfe91c211',\n",
       "      'width': 960,\n",
       "      'height': 768},\n",
       "     {'url': 'https://preview.redd.it/weca8ha7ksmd1.jpeg?width=1080&crop=smart&auto=webp&s=55faf55aa9f0c986e634fc080bf1ea2d4a55f4a2',\n",
       "      'width': 1080,\n",
       "      'height': 865}],\n",
       "    'variants': {},\n",
       "    'id': 'RP0UDpNJwYV637ySuMnKqfkAJLZ8PAgZwdYIv5jVbLk'}],\n",
       "  'enabled': True},\n",
       " 'all_awardings': [],\n",
       " 'awarders': [],\n",
       " 'media_only': False,\n",
       " 'link_flair_template_id': '9a24087a-4993-11ef-9556-9ecc78607785',\n",
       " 'can_gild': False,\n",
       " 'spoiler': False,\n",
       " 'locked': False,\n",
       " 'author_flair_text': None,\n",
       " 'treatment_tags': [],\n",
       " 'visited': False,\n",
       " 'removed_by': None,\n",
       " 'mod_note': None,\n",
       " 'distinguished': None,\n",
       " 'subreddit_id': 't5_7x3trg',\n",
       " 'author_is_blocked': False,\n",
       " 'mod_reason_by': None,\n",
       " 'num_reports': None,\n",
       " 'removal_reason': None,\n",
       " 'link_flair_background_color': '#648be4',\n",
       " 'id': '1f8sut6',\n",
       " 'is_robot_indexable': True,\n",
       " 'report_reasons': None,\n",
       " 'author': Redditor(name='citizenkane0'),\n",
       " 'discussion_type': None,\n",
       " 'num_comments': 86,\n",
       " 'send_replies': True,\n",
       " 'whitelist_status': 'all_ads',\n",
       " 'contest_mode': False,\n",
       " 'mod_reports': [],\n",
       " 'author_patreon_flair': False,\n",
       " 'author_flair_text_color': None,\n",
       " 'permalink': '/r/OnceHumanOfficial/comments/1f8sut6/golden_digby_level_5/',\n",
       " 'parent_whitelist_status': 'all_ads',\n",
       " 'stickied': False,\n",
       " 'url': 'https://i.redd.it/weca8ha7ksmd1.jpeg',\n",
       " 'subreddit_subscribers': 59487,\n",
       " 'created_utc': 1725455210.0,\n",
       " 'num_crossposts': 0,\n",
       " 'media': None,\n",
       " 'is_video': False,\n",
       " '_fetched': False,\n",
       " '_additional_fetch_params': {},\n",
       " '_comments_by_id': {}}"
      ]
     },
     "execution_count": 3,
     "metadata": {},
     "output_type": "execute_result"
    }
   ],
   "source": [
    "subreddit = reddit.subreddit('OnceHumanOfficial')\n",
    "posts = subreddit.search(query='flair:Build OR flair:Discussion', sort='top', time_filter='month', limit=10) # also flair:Discussion\n",
    "\n",
    "posts_list = []\n",
    "for post in posts:\n",
    "    post_dic = vars(post)\n",
    "    posts_list.append(post_dic)\n",
    "\n",
    "posts_list[1]"
   ]
  },
  {
   "cell_type": "code",
   "execution_count": 4,
   "metadata": {},
   "outputs": [
    {
     "data": {
      "text/plain": [
       "datetime.datetime(2024, 9, 4, 21, 6, 50)"
      ]
     },
     "execution_count": 4,
     "metadata": {},
     "output_type": "execute_result"
    }
   ],
   "source": [
    "import datetime \n",
    "timestamp = int(posts_list[1]['created_utc'])\n",
    "date = datetime.datetime.fromtimestamp(timestamp)\n",
    "date"
   ]
  },
  {
   "cell_type": "code",
   "execution_count": 6,
   "metadata": {},
   "outputs": [
    {
     "data": {
      "text/plain": [
       "'Mitsuko cosplay by 01Mika '"
      ]
     },
     "execution_count": 6,
     "metadata": {},
     "output_type": "execute_result"
    }
   ],
   "source": [
    "POST_ID = 0\n",
    "\n",
    "posts_list[POST_ID]['title']"
   ]
  },
  {
   "cell_type": "code",
   "execution_count": 7,
   "metadata": {},
   "outputs": [
    {
     "data": {
      "text/plain": [
       "\"Haven't been cosplaying super long but I shot and made this look myself! Yes I spray painted the butterfly and glued it to my eye with eyelash glue 😂\""
      ]
     },
     "execution_count": 7,
     "metadata": {},
     "output_type": "execute_result"
    }
   ],
   "source": [
    "posts_list[POST_ID]['selftext']"
   ]
  },
  {
   "cell_type": "code",
   "execution_count": 8,
   "metadata": {},
   "outputs": [
    {
     "data": {
      "text/plain": [
       "'/r/OnceHumanOfficial/comments/1fd61ft/mitsuko_cosplay_by_01mika/'"
      ]
     },
     "execution_count": 8,
     "metadata": {},
     "output_type": "execute_result"
    }
   ],
   "source": [
    "posts_list[POST_ID]['permalink']"
   ]
  },
  {
   "cell_type": "code",
   "execution_count": 9,
   "metadata": {},
   "outputs": [
    {
     "name": "stdout",
     "output_type": "stream",
     "text": [
      "I was wondering when I'd start seeing Mitsuko cosplays. Well done\n",
      "Looks great , gj with your other cosplays too\n",
      "Somebody needs to do Mary ahhh lawd I simp for her\n",
      "\"Excuse me, Miss, but you have a butterfly in your eye.\"\n",
      "\n",
      "Looks great, though! Cosplayers rock.\n",
      "Yea but are you barefoot?\n",
      "Looks great! But can you play the piano? 😁\n",
      "Ngl, looks better than I expected… nice \n",
      "\n",
      "\n",
      "\n",
      "Thnx for the reminder btw!\n",
      "Wow Nicee\n",
      "Oh it looks really cute ! Well done ☺️ where did you get the costume from ?\n",
      "good reproduction but I always felt like having the butterfly there instead of an eye was weird af\n",
      "You make a good Mitsuko!\n",
      "Stunning, great cosplay ✌🏻\n",
      "Great work this. I love it!\n",
      "Are your eyelashes okay?! 😅\n",
      "www.twitch.tv/01Mika if you wanna see my gameplay :3\n",
      "i feel like cosplay and only fans ads belong in a different sub\n",
      "D1 once human cosplay\n",
      "Wow😍\n",
      "Mitsucky\n",
      "Well. Helllllooo nurse. Can this meta human meet that human? lol. J/k. Looks great! Nice work!\n",
      "hubba hubba I want to know her insta @\n",
      "![gif](giphy|l3mZrLxM4iZaQlvNe|downsized)\n",
      "[deleted]\n"
     ]
    }
   ],
   "source": [
    "# BREADTH FIRST TRAVERSAL\n",
    "HOST = 'https://reddit.com'\n",
    "permalink = posts_list[POST_ID]['permalink']\n",
    "submission_url = HOST + permalink\n",
    "submission = reddit.submission(url=submission_url)\n",
    "\n",
    "for top_level_comment in submission.comments:\n",
    "    if isinstance(top_level_comment, MoreComments):\n",
    "        continue\n",
    "\n",
    "    print(top_level_comment.body)"
   ]
  },
  {
   "cell_type": "code",
   "execution_count": 18,
   "metadata": {},
   "outputs": [
    {
     "data": {
      "text/plain": [
       "'1fd61ft'"
      ]
     },
     "execution_count": 18,
     "metadata": {},
     "output_type": "execute_result"
    }
   ],
   "source": [
    "submission.id"
   ]
  },
  {
   "cell_type": "code",
   "execution_count": 21,
   "metadata": {},
   "outputs": [
    {
     "name": "stdout",
     "output_type": "stream",
     "text": [
      "dict_keys(['_replies', '_submission', '_reddit', 'subreddit_id', 'approved_at_utc', 'author_is_blocked', 'comment_type', 'awarders', 'mod_reason_by', 'banned_by', 'author_flair_type', 'total_awards_received', 'subreddit', 'author_flair_template_id', 'likes', 'user_reports', 'saved', 'id', 'banned_at_utc', 'mod_reason_title', 'gilded', 'archived', 'collapsed_reason_code', 'no_follow', 'author', 'can_mod_post', 'created_utc', 'send_replies', 'parent_id', 'score', 'author_fullname', 'approved_by', 'mod_note', 'all_awardings', 'collapsed', 'body', 'edited', 'top_awarded_type', 'author_flair_css_class', 'name', 'is_submitter', 'downs', 'author_flair_richtext', 'author_patreon_flair', 'body_html', 'removal_reason', 'collapsed_reason', 'distinguished', 'associated_award', 'stickied', 'author_premium', 'can_gild', 'gildings', 'unrepliable_reason', 'author_flair_text_color', 'score_hidden', 'permalink', 'subreddit_type', 'locked', 'report_reasons', 'created', 'author_flair_text', 'treatment_tags', 'link_id', 'subreddit_name_prefixed', 'controversiality', 'depth', 'author_flair_background_color', 'collapsed_because_crowd_control', 'mod_reports', 'num_reports', 'ups', '_fetched'])\n",
      "lmdogjv\n",
      "I was wondering when I'd start seeing Mitsuko cosplays. Well done--------------------------------------------------------\n",
      "\n",
      "dict_keys(['_replies', '_submission', '_reddit', 'subreddit_id', 'approved_at_utc', 'author_is_blocked', 'comment_type', 'awarders', 'mod_reason_by', 'banned_by', 'author_flair_type', 'total_awards_received', 'subreddit', 'author_flair_template_id', 'likes', 'user_reports', 'saved', 'id', 'banned_at_utc', 'mod_reason_title', 'gilded', 'archived', 'collapsed_reason_code', 'no_follow', 'author', 'can_mod_post', 'created_utc', 'send_replies', 'parent_id', 'score', 'author_fullname', 'approved_by', 'mod_note', 'all_awardings', 'collapsed', 'body', 'edited', 'top_awarded_type', 'author_flair_css_class', 'name', 'is_submitter', 'downs', 'author_flair_richtext', 'author_patreon_flair', 'body_html', 'removal_reason', 'collapsed_reason', 'distinguished', 'associated_award', 'stickied', 'author_premium', 'can_gild', 'gildings', 'unrepliable_reason', 'author_flair_text_color', 'score_hidden', 'permalink', 'subreddit_type', 'locked', 'report_reasons', 'created', 'author_flair_text', 'treatment_tags', 'link_id', 'subreddit_name_prefixed', 'controversiality', 'depth', 'author_flair_background_color', 'collapsed_because_crowd_control', 'mod_reports', 'num_reports', 'ups', '_fetched'])\n",
      "lmdh5ir\n",
      "Looks great , gj with your other cosplays too--------------------------------------------------------\n",
      "\n",
      "dict_keys(['_replies', '_submission', '_reddit', 'subreddit_id', 'approved_at_utc', 'author_is_blocked', 'comment_type', 'awarders', 'mod_reason_by', 'banned_by', 'author_flair_type', 'total_awards_received', 'subreddit', 'author_flair_template_id', 'likes', 'user_reports', 'saved', 'id', 'banned_at_utc', 'mod_reason_title', 'gilded', 'archived', 'collapsed_reason_code', 'no_follow', 'author', 'can_mod_post', 'created_utc', 'send_replies', 'parent_id', 'score', 'author_fullname', 'approved_by', 'mod_note', 'all_awardings', 'collapsed', 'body', 'edited', 'top_awarded_type', 'author_flair_css_class', 'name', 'is_submitter', 'downs', 'author_flair_richtext', 'author_patreon_flair', 'body_html', 'removal_reason', 'collapsed_reason', 'distinguished', 'associated_award', 'stickied', 'author_premium', 'can_gild', 'gildings', 'unrepliable_reason', 'author_flair_text_color', 'score_hidden', 'permalink', 'subreddit_type', 'locked', 'report_reasons', 'created', 'author_flair_text', 'treatment_tags', 'link_id', 'subreddit_name_prefixed', 'controversiality', 'depth', 'author_flair_background_color', 'collapsed_because_crowd_control', 'mod_reports', 'num_reports', 'ups', '_fetched'])\n",
      "lmhah3h\n",
      "Somebody needs to do Mary ahhh lawd I simp for her--------------------------------------------------------\n",
      "\n",
      "dict_keys(['_replies', '_submission', '_reddit', 'subreddit_id', 'approved_at_utc', 'author_is_blocked', 'comment_type', 'awarders', 'mod_reason_by', 'banned_by', 'author_flair_type', 'total_awards_received', 'subreddit', 'author_flair_template_id', 'likes', 'user_reports', 'saved', 'id', 'banned_at_utc', 'mod_reason_title', 'gilded', 'archived', 'collapsed_reason_code', 'no_follow', 'author', 'can_mod_post', 'created_utc', 'send_replies', 'parent_id', 'score', 'author_fullname', 'approved_by', 'mod_note', 'all_awardings', 'collapsed', 'body', 'edited', 'top_awarded_type', 'author_flair_css_class', 'name', 'is_submitter', 'downs', 'author_flair_richtext', 'author_patreon_flair', 'body_html', 'removal_reason', 'collapsed_reason', 'distinguished', 'associated_award', 'stickied', 'author_premium', 'can_gild', 'gildings', 'unrepliable_reason', 'author_flair_text_color', 'score_hidden', 'permalink', 'subreddit_type', 'locked', 'report_reasons', 'created', 'author_flair_text', 'treatment_tags', 'link_id', 'subreddit_name_prefixed', 'controversiality', 'depth', 'author_flair_background_color', 'collapsed_because_crowd_control', 'mod_reports', 'num_reports', 'ups', '_fetched'])\n",
      "lmedlcv\n",
      "\"Excuse me, Miss, but you have a butterfly in your eye.\"\n",
      "\n",
      "Looks great, though! Cosplayers rock.--------------------------------------------------------\n",
      "\n",
      "dict_keys(['_replies', '_submission', '_reddit', 'subreddit_id', 'approved_at_utc', 'author_is_blocked', 'comment_type', 'awarders', 'mod_reason_by', 'banned_by', 'author_flair_type', 'total_awards_received', 'subreddit', 'author_flair_template_id', 'likes', 'user_reports', 'saved', 'id', 'banned_at_utc', 'mod_reason_title', 'gilded', 'archived', 'collapsed_reason_code', 'no_follow', 'author', 'can_mod_post', 'created_utc', 'send_replies', 'parent_id', 'score', 'author_fullname', 'approved_by', 'mod_note', 'all_awardings', 'collapsed', 'body', 'edited', 'top_awarded_type', 'author_flair_css_class', 'name', 'is_submitter', 'downs', 'author_flair_richtext', 'author_patreon_flair', 'body_html', 'removal_reason', 'collapsed_reason', 'distinguished', 'associated_award', 'stickied', 'author_premium', 'can_gild', 'gildings', 'unrepliable_reason', 'author_flair_text_color', 'score_hidden', 'permalink', 'subreddit_type', 'locked', 'report_reasons', 'created', 'author_flair_text', 'treatment_tags', 'link_id', 'subreddit_name_prefixed', 'controversiality', 'depth', 'author_flair_background_color', 'collapsed_because_crowd_control', 'mod_reports', 'num_reports', 'ups', '_fetched'])\n",
      "lmdzk36\n",
      "Yea but are you barefoot?--------------------------------------------------------\n",
      "\n",
      "dict_keys(['_replies', '_submission', '_reddit', 'subreddit_id', 'approved_at_utc', 'author_is_blocked', 'comment_type', 'awarders', 'mod_reason_by', 'banned_by', 'author_flair_type', 'total_awards_received', 'subreddit', 'author_flair_template_id', 'likes', 'user_reports', 'saved', 'id', 'banned_at_utc', 'mod_reason_title', 'gilded', 'archived', 'collapsed_reason_code', 'no_follow', 'author', 'can_mod_post', 'created_utc', 'send_replies', 'parent_id', 'score', 'author_fullname', 'approved_by', 'mod_note', 'all_awardings', 'collapsed', 'body', 'edited', 'top_awarded_type', 'author_flair_css_class', 'name', 'is_submitter', 'downs', 'author_flair_richtext', 'author_patreon_flair', 'body_html', 'removal_reason', 'collapsed_reason', 'distinguished', 'associated_award', 'stickied', 'author_premium', 'can_gild', 'gildings', 'unrepliable_reason', 'author_flair_text_color', 'score_hidden', 'permalink', 'subreddit_type', 'locked', 'report_reasons', 'created', 'author_flair_text', 'treatment_tags', 'link_id', 'subreddit_name_prefixed', 'controversiality', 'depth', 'author_flair_background_color', 'collapsed_because_crowd_control', 'mod_reports', 'num_reports', 'ups', '_fetched'])\n",
      "lmeo680\n",
      "Looks great! But can you play the piano? 😁--------------------------------------------------------\n",
      "\n",
      "dict_keys(['_replies', '_submission', '_reddit', 'subreddit_id', 'approved_at_utc', 'author_is_blocked', 'comment_type', 'awarders', 'mod_reason_by', 'banned_by', 'author_flair_type', 'total_awards_received', 'subreddit', 'author_flair_template_id', 'likes', 'user_reports', 'saved', 'id', 'banned_at_utc', 'mod_reason_title', 'gilded', 'archived', 'collapsed_reason_code', 'no_follow', 'author', 'can_mod_post', 'created_utc', 'send_replies', 'parent_id', 'score', 'author_fullname', 'approved_by', 'mod_note', 'all_awardings', 'collapsed', 'body', 'edited', 'top_awarded_type', 'author_flair_css_class', 'name', 'is_submitter', 'downs', 'author_flair_richtext', 'author_patreon_flair', 'body_html', 'removal_reason', 'collapsed_reason', 'distinguished', 'associated_award', 'stickied', 'author_premium', 'can_gild', 'gildings', 'unrepliable_reason', 'author_flair_text_color', 'score_hidden', 'permalink', 'subreddit_type', 'locked', 'report_reasons', 'created', 'author_flair_text', 'treatment_tags', 'link_id', 'subreddit_name_prefixed', 'controversiality', 'depth', 'author_flair_background_color', 'collapsed_because_crowd_control', 'mod_reports', 'num_reports', 'ups', '_fetched'])\n",
      "lmdusxi\n",
      "Ngl, looks better than I expected… nice \n",
      "\n",
      "\n",
      "\n",
      "Thnx for the reminder btw!--------------------------------------------------------\n",
      "\n",
      "dict_keys(['_replies', '_submission', '_reddit', 'subreddit_id', 'approved_at_utc', 'author_is_blocked', 'comment_type', 'awarders', 'mod_reason_by', 'banned_by', 'author_flair_type', 'total_awards_received', 'subreddit', 'author_flair_template_id', 'likes', 'user_reports', 'saved', 'id', 'banned_at_utc', 'mod_reason_title', 'gilded', 'archived', 'collapsed_reason_code', 'no_follow', 'author', 'can_mod_post', 'created_utc', 'send_replies', 'parent_id', 'score', 'author_fullname', 'approved_by', 'mod_note', 'all_awardings', 'collapsed', 'body', 'edited', 'top_awarded_type', 'author_flair_css_class', 'name', 'is_submitter', 'downs', 'author_flair_richtext', 'author_patreon_flair', 'body_html', 'removal_reason', 'collapsed_reason', 'distinguished', 'associated_award', 'stickied', 'author_premium', 'can_gild', 'gildings', 'unrepliable_reason', 'author_flair_text_color', 'score_hidden', 'permalink', 'subreddit_type', 'locked', 'report_reasons', 'created', 'author_flair_text', 'treatment_tags', 'link_id', 'subreddit_name_prefixed', 'controversiality', 'depth', 'author_flair_background_color', 'collapsed_because_crowd_control', 'mod_reports', 'num_reports', 'ups', '_fetched'])\n",
      "lmeoh5t\n",
      "Wow Nicee--------------------------------------------------------\n",
      "\n",
      "dict_keys(['_replies', '_submission', '_reddit', 'subreddit_id', 'approved_at_utc', 'author_is_blocked', 'comment_type', 'awarders', 'mod_reason_by', 'banned_by', 'author_flair_type', 'total_awards_received', 'subreddit', 'author_flair_template_id', 'likes', 'user_reports', 'saved', 'id', 'banned_at_utc', 'mod_reason_title', 'gilded', 'archived', 'collapsed_reason_code', 'no_follow', 'author', 'can_mod_post', 'created_utc', 'send_replies', 'parent_id', 'score', 'author_fullname', 'approved_by', 'mod_note', 'all_awardings', 'collapsed', 'body', 'edited', 'top_awarded_type', 'author_flair_css_class', 'name', 'is_submitter', 'downs', 'author_flair_richtext', 'author_patreon_flair', 'body_html', 'removal_reason', 'collapsed_reason', 'distinguished', 'associated_award', 'stickied', 'author_premium', 'can_gild', 'gildings', 'unrepliable_reason', 'author_flair_text_color', 'score_hidden', 'permalink', 'subreddit_type', 'locked', 'report_reasons', 'created', 'author_flair_text', 'treatment_tags', 'link_id', 'subreddit_name_prefixed', 'controversiality', 'depth', 'author_flair_background_color', 'collapsed_because_crowd_control', 'mod_reports', 'num_reports', 'ups', '_fetched'])\n",
      "lmerr1m\n",
      "Oh it looks really cute ! Well done ☺️ where did you get the costume from ?--------------------------------------------------------\n",
      "\n",
      "dict_keys(['_replies', '_submission', '_reddit', 'subreddit_id', 'approved_at_utc', 'author_is_blocked', 'comment_type', 'awarders', 'mod_reason_by', 'banned_by', 'author_flair_type', 'total_awards_received', 'subreddit', 'author_flair_template_id', 'likes', 'user_reports', 'saved', 'id', 'banned_at_utc', 'mod_reason_title', 'gilded', 'archived', 'collapsed_reason_code', 'no_follow', 'author', 'can_mod_post', 'created_utc', 'send_replies', 'parent_id', 'score', 'author_fullname', 'approved_by', 'mod_note', 'all_awardings', 'collapsed', 'body', 'edited', 'top_awarded_type', 'author_flair_css_class', 'name', 'is_submitter', 'downs', 'author_flair_richtext', 'author_patreon_flair', 'body_html', 'removal_reason', 'collapsed_reason', 'distinguished', 'associated_award', 'stickied', 'author_premium', 'can_gild', 'gildings', 'unrepliable_reason', 'author_flair_text_color', 'score_hidden', 'permalink', 'subreddit_type', 'locked', 'report_reasons', 'created', 'author_flair_text', 'treatment_tags', 'link_id', 'subreddit_name_prefixed', 'controversiality', 'depth', 'author_flair_background_color', 'collapsed_because_crowd_control', 'mod_reports', 'num_reports', 'ups', '_fetched'])\n",
      "lmghhiq\n",
      "good reproduction but I always felt like having the butterfly there instead of an eye was weird af--------------------------------------------------------\n",
      "\n",
      "dict_keys(['_replies', '_submission', '_reddit', 'subreddit_id', 'approved_at_utc', 'author_is_blocked', 'comment_type', 'awarders', 'mod_reason_by', 'banned_by', 'author_flair_type', 'total_awards_received', 'subreddit', 'author_flair_template_id', 'likes', 'user_reports', 'saved', 'id', 'banned_at_utc', 'mod_reason_title', 'gilded', 'archived', 'collapsed_reason_code', 'no_follow', 'author', 'can_mod_post', 'created_utc', 'send_replies', 'parent_id', 'score', 'author_fullname', 'approved_by', 'mod_note', 'all_awardings', 'collapsed', 'body', 'edited', 'top_awarded_type', 'author_flair_css_class', 'name', 'is_submitter', 'downs', 'author_flair_richtext', 'author_patreon_flair', 'body_html', 'removal_reason', 'collapsed_reason', 'distinguished', 'associated_award', 'stickied', 'author_premium', 'can_gild', 'gildings', 'unrepliable_reason', 'author_flair_text_color', 'score_hidden', 'permalink', 'subreddit_type', 'locked', 'report_reasons', 'created', 'author_flair_text', 'treatment_tags', 'link_id', 'subreddit_name_prefixed', 'controversiality', 'depth', 'author_flair_background_color', 'collapsed_because_crowd_control', 'mod_reports', 'num_reports', 'ups', '_fetched'])\n",
      "lmhj87c\n",
      "You make a good Mitsuko!--------------------------------------------------------\n",
      "\n",
      "dict_keys(['_replies', '_submission', '_reddit', 'subreddit_id', 'approved_at_utc', 'author_is_blocked', 'comment_type', 'awarders', 'mod_reason_by', 'banned_by', 'author_flair_type', 'total_awards_received', 'subreddit', 'author_flair_template_id', 'likes', 'user_reports', 'saved', 'id', 'banned_at_utc', 'mod_reason_title', 'gilded', 'archived', 'collapsed_reason_code', 'no_follow', 'author', 'can_mod_post', 'created_utc', 'send_replies', 'parent_id', 'score', 'author_fullname', 'approved_by', 'mod_note', 'all_awardings', 'collapsed', 'body', 'edited', 'top_awarded_type', 'author_flair_css_class', 'name', 'is_submitter', 'downs', 'author_flair_richtext', 'author_patreon_flair', 'body_html', 'removal_reason', 'collapsed_reason', 'distinguished', 'associated_award', 'stickied', 'author_premium', 'can_gild', 'gildings', 'unrepliable_reason', 'author_flair_text_color', 'score_hidden', 'permalink', 'subreddit_type', 'locked', 'report_reasons', 'created', 'author_flair_text', 'treatment_tags', 'link_id', 'subreddit_name_prefixed', 'controversiality', 'depth', 'author_flair_background_color', 'collapsed_because_crowd_control', 'mod_reports', 'num_reports', 'ups', '_fetched'])\n",
      "lmixvsd\n",
      "Stunning, great cosplay ✌🏻--------------------------------------------------------\n",
      "\n",
      "dict_keys(['_replies', '_submission', '_reddit', 'subreddit_id', 'approved_at_utc', 'author_is_blocked', 'comment_type', 'awarders', 'mod_reason_by', 'banned_by', 'author_flair_type', 'total_awards_received', 'subreddit', 'author_flair_template_id', 'likes', 'user_reports', 'saved', 'id', 'banned_at_utc', 'mod_reason_title', 'gilded', 'archived', 'collapsed_reason_code', 'no_follow', 'author', 'can_mod_post', 'created_utc', 'send_replies', 'parent_id', 'score', 'author_fullname', 'approved_by', 'mod_note', 'all_awardings', 'collapsed', 'body', 'edited', 'top_awarded_type', 'author_flair_css_class', 'name', 'is_submitter', 'downs', 'author_flair_richtext', 'author_patreon_flair', 'body_html', 'removal_reason', 'collapsed_reason', 'distinguished', 'associated_award', 'stickied', 'author_premium', 'can_gild', 'gildings', 'unrepliable_reason', 'author_flair_text_color', 'score_hidden', 'permalink', 'subreddit_type', 'locked', 'report_reasons', 'created', 'author_flair_text', 'treatment_tags', 'link_id', 'subreddit_name_prefixed', 'controversiality', 'depth', 'author_flair_background_color', 'collapsed_because_crowd_control', 'mod_reports', 'num_reports', 'ups', '_fetched'])\n",
      "lmng89a\n",
      "Great work this. I love it!--------------------------------------------------------\n",
      "\n",
      "dict_keys(['_replies', '_submission', '_reddit', 'subreddit_id', 'approved_at_utc', 'author_is_blocked', 'comment_type', 'awarders', 'mod_reason_by', 'banned_by', 'author_flair_type', 'total_awards_received', 'subreddit', 'author_flair_template_id', 'likes', 'user_reports', 'saved', 'id', 'banned_at_utc', 'mod_reason_title', 'gilded', 'archived', 'collapsed_reason_code', 'no_follow', 'author', 'can_mod_post', 'created_utc', 'send_replies', 'parent_id', 'score', 'author_fullname', 'approved_by', 'mod_note', 'all_awardings', 'collapsed', 'body', 'edited', 'top_awarded_type', 'author_flair_css_class', 'name', 'is_submitter', 'downs', 'author_flair_richtext', 'author_patreon_flair', 'body_html', 'removal_reason', 'collapsed_reason', 'distinguished', 'associated_award', 'stickied', 'author_premium', 'can_gild', 'gildings', 'unrepliable_reason', 'author_flair_text_color', 'score_hidden', 'permalink', 'subreddit_type', 'locked', 'report_reasons', 'created', 'author_flair_text', 'treatment_tags', 'link_id', 'subreddit_name_prefixed', 'controversiality', 'depth', 'author_flair_background_color', 'collapsed_because_crowd_control', 'mod_reports', 'num_reports', 'ups', '_fetched'])\n",
      "lmdzxqe\n",
      "Are your eyelashes okay?! 😅--------------------------------------------------------\n",
      "\n",
      "dict_keys(['_replies', '_submission', '_reddit', 'subreddit_id', 'approved_at_utc', 'author_is_blocked', 'comment_type', 'awarders', 'mod_reason_by', 'banned_by', 'author_flair_type', 'total_awards_received', 'subreddit', 'author_flair_template_id', 'likes', 'user_reports', 'saved', 'id', 'banned_at_utc', 'mod_reason_title', 'gilded', 'archived', 'collapsed_reason_code', 'no_follow', 'author', 'can_mod_post', 'created_utc', 'send_replies', 'parent_id', 'score', 'author_fullname', 'approved_by', 'mod_note', 'all_awardings', 'collapsed', 'body', 'edited', 'top_awarded_type', 'author_flair_css_class', 'name', 'is_submitter', 'downs', 'author_flair_richtext', 'author_patreon_flair', 'body_html', 'removal_reason', 'collapsed_reason', 'distinguished', 'associated_award', 'stickied', 'author_premium', 'can_gild', 'gildings', 'unrepliable_reason', 'author_flair_text_color', 'score_hidden', 'permalink', 'subreddit_type', 'locked', 'report_reasons', 'created', 'author_flair_text', 'treatment_tags', 'link_id', 'subreddit_name_prefixed', 'controversiality', 'depth', 'author_flair_background_color', 'collapsed_because_crowd_control', 'mod_reports', 'num_reports', 'ups', '_fetched'])\n",
      "lmgwjgb\n",
      "www.twitch.tv/01Mika if you wanna see my gameplay :3--------------------------------------------------------\n",
      "\n",
      "dict_keys(['_replies', '_submission', '_reddit', 'subreddit_id', 'approved_at_utc', 'author_is_blocked', 'comment_type', 'awarders', 'mod_reason_by', 'banned_by', 'author_flair_type', 'total_awards_received', 'subreddit', 'author_flair_template_id', 'likes', 'user_reports', 'saved', 'id', 'banned_at_utc', 'mod_reason_title', 'gilded', 'archived', 'collapsed_reason_code', 'no_follow', 'author', 'can_mod_post', 'created_utc', 'send_replies', 'parent_id', 'score', 'author_fullname', 'approved_by', 'mod_note', 'all_awardings', 'collapsed', 'body', 'edited', 'top_awarded_type', 'author_flair_css_class', 'name', 'is_submitter', 'downs', 'author_flair_richtext', 'author_patreon_flair', 'body_html', 'removal_reason', 'collapsed_reason', 'distinguished', 'associated_award', 'stickied', 'author_premium', 'can_gild', 'gildings', 'unrepliable_reason', 'author_flair_text_color', 'score_hidden', 'permalink', 'subreddit_type', 'locked', 'report_reasons', 'created', 'author_flair_text', 'treatment_tags', 'link_id', 'subreddit_name_prefixed', 'controversiality', 'depth', 'author_flair_background_color', 'collapsed_because_crowd_control', 'mod_reports', 'num_reports', 'ups', '_fetched'])\n",
      "lmf94dp\n",
      "i feel like cosplay and only fans ads belong in a different sub--------------------------------------------------------\n",
      "\n",
      "dict_keys(['_replies', '_submission', '_reddit', 'subreddit_id', 'approved_at_utc', 'author_is_blocked', 'comment_type', 'awarders', 'mod_reason_by', 'banned_by', 'author_flair_type', 'total_awards_received', 'subreddit', 'author_flair_template_id', 'likes', 'user_reports', 'saved', 'id', 'banned_at_utc', 'mod_reason_title', 'gilded', 'archived', 'collapsed_reason_code', 'no_follow', 'author', 'can_mod_post', 'created_utc', 'send_replies', 'parent_id', 'score', 'author_fullname', 'approved_by', 'mod_note', 'all_awardings', 'collapsed', 'body', 'edited', 'top_awarded_type', 'author_flair_css_class', 'name', 'is_submitter', 'downs', 'author_flair_richtext', 'author_patreon_flair', 'body_html', 'removal_reason', 'collapsed_reason', 'distinguished', 'associated_award', 'stickied', 'author_premium', 'can_gild', 'gildings', 'unrepliable_reason', 'author_flair_text_color', 'score_hidden', 'permalink', 'subreddit_type', 'locked', 'report_reasons', 'created', 'author_flair_text', 'treatment_tags', 'link_id', 'subreddit_name_prefixed', 'controversiality', 'depth', 'author_flair_background_color', 'collapsed_because_crowd_control', 'mod_reports', 'num_reports', 'ups', '_fetched'])\n",
      "lmduddb\n",
      "D1 once human cosplay--------------------------------------------------------\n",
      "\n",
      "dict_keys(['_replies', '_submission', '_reddit', 'subreddit_id', 'approved_at_utc', 'author_is_blocked', 'comment_type', 'awarders', 'mod_reason_by', 'banned_by', 'author_flair_type', 'total_awards_received', 'subreddit', 'author_flair_template_id', 'likes', 'user_reports', 'saved', 'id', 'banned_at_utc', 'mod_reason_title', 'gilded', 'archived', 'collapsed_reason_code', 'no_follow', 'author', 'can_mod_post', 'created_utc', 'send_replies', 'parent_id', 'score', 'author_fullname', 'approved_by', 'mod_note', 'all_awardings', 'collapsed', 'body', 'edited', 'top_awarded_type', 'author_flair_css_class', 'name', 'is_submitter', 'downs', 'author_flair_richtext', 'author_patreon_flair', 'body_html', 'removal_reason', 'collapsed_reason', 'distinguished', 'associated_award', 'stickied', 'author_premium', 'can_gild', 'gildings', 'unrepliable_reason', 'author_flair_text_color', 'score_hidden', 'permalink', 'subreddit_type', 'locked', 'report_reasons', 'created', 'author_flair_text', 'treatment_tags', 'link_id', 'subreddit_name_prefixed', 'controversiality', 'depth', 'author_flair_background_color', 'collapsed_because_crowd_control', 'mod_reports', 'num_reports', 'ups', '_fetched'])\n",
      "lmelxwe\n",
      "Wow😍--------------------------------------------------------\n",
      "\n",
      "dict_keys(['_replies', '_submission', '_reddit', 'subreddit_id', 'approved_at_utc', 'author_is_blocked', 'comment_type', 'awarders', 'mod_reason_by', 'banned_by', 'author_flair_type', 'total_awards_received', 'subreddit', 'author_flair_template_id', 'likes', 'user_reports', 'saved', 'id', 'banned_at_utc', 'mod_reason_title', 'gilded', 'archived', 'collapsed_reason_code', 'no_follow', 'author', 'can_mod_post', 'created_utc', 'send_replies', 'parent_id', 'score', 'author_fullname', 'approved_by', 'mod_note', 'all_awardings', 'collapsed', 'body', 'edited', 'top_awarded_type', 'author_flair_css_class', 'name', 'is_submitter', 'downs', 'author_flair_richtext', 'author_patreon_flair', 'body_html', 'removal_reason', 'collapsed_reason', 'distinguished', 'associated_award', 'stickied', 'author_premium', 'can_gild', 'gildings', 'unrepliable_reason', 'author_flair_text_color', 'score_hidden', 'permalink', 'subreddit_type', 'locked', 'report_reasons', 'created', 'author_flair_text', 'treatment_tags', 'link_id', 'subreddit_name_prefixed', 'controversiality', 'depth', 'author_flair_background_color', 'collapsed_because_crowd_control', 'mod_reports', 'num_reports', 'ups', '_fetched'])\n",
      "lmj4clw\n",
      "Mitsucky--------------------------------------------------------\n",
      "\n",
      "dict_keys(['_replies', '_submission', '_reddit', 'subreddit_id', 'approved_at_utc', 'author_is_blocked', 'comment_type', 'awarders', 'mod_reason_by', 'banned_by', 'author_flair_type', 'total_awards_received', 'subreddit', 'author_flair_template_id', 'likes', 'user_reports', 'saved', 'id', 'banned_at_utc', 'mod_reason_title', 'gilded', 'archived', 'collapsed_reason_code', 'no_follow', 'author', 'can_mod_post', 'created_utc', 'send_replies', 'parent_id', 'score', 'author_fullname', 'approved_by', 'mod_note', 'all_awardings', 'collapsed', 'body', 'edited', 'top_awarded_type', 'author_flair_css_class', 'name', 'is_submitter', 'downs', 'author_flair_richtext', 'author_patreon_flair', 'body_html', 'removal_reason', 'collapsed_reason', 'distinguished', 'associated_award', 'stickied', 'author_premium', 'can_gild', 'gildings', 'unrepliable_reason', 'author_flair_text_color', 'score_hidden', 'permalink', 'subreddit_type', 'locked', 'report_reasons', 'created', 'author_flair_text', 'treatment_tags', 'link_id', 'subreddit_name_prefixed', 'controversiality', 'depth', 'author_flair_background_color', 'collapsed_because_crowd_control', 'mod_reports', 'num_reports', 'ups', '_fetched'])\n",
      "lmm03bm\n",
      "Well. Helllllooo nurse. Can this meta human meet that human? lol. J/k. Looks great! Nice work!--------------------------------------------------------\n",
      "\n",
      "dict_keys(['_replies', '_submission', '_reddit', 'subreddit_id', 'approved_at_utc', 'author_is_blocked', 'comment_type', 'awarders', 'mod_reason_by', 'banned_by', 'author_flair_type', 'total_awards_received', 'subreddit', 'author_flair_template_id', 'likes', 'user_reports', 'saved', 'id', 'banned_at_utc', 'mod_reason_title', 'gilded', 'archived', 'collapsed_reason_code', 'no_follow', 'author', 'can_mod_post', 'created_utc', 'send_replies', 'parent_id', 'score', 'author_fullname', 'approved_by', 'mod_note', 'all_awardings', 'collapsed', 'body', 'edited', 'top_awarded_type', 'author_flair_css_class', 'name', 'is_submitter', 'downs', 'author_flair_richtext', 'author_patreon_flair', 'body_html', 'removal_reason', 'collapsed_reason', 'distinguished', 'associated_award', 'stickied', 'author_premium', 'can_gild', 'gildings', 'unrepliable_reason', 'author_flair_text_color', 'score_hidden', 'permalink', 'subreddit_type', 'locked', 'report_reasons', 'created', 'author_flair_text', 'treatment_tags', 'link_id', 'subreddit_name_prefixed', 'controversiality', 'depth', 'author_flair_background_color', 'collapsed_because_crowd_control', 'mod_reports', 'num_reports', 'ups', '_fetched'])\n",
      "lmhae7k\n",
      "hubba hubba I want to know her insta @--------------------------------------------------------\n",
      "\n",
      "dict_keys(['_replies', '_submission', '_reddit', 'subreddit_id', 'approved_at_utc', 'author_is_blocked', 'comment_type', 'awarders', 'mod_reason_by', 'banned_by', 'author_flair_type', 'total_awards_received', 'subreddit', 'author_flair_template_id', 'likes', 'user_reports', 'saved', 'id', 'banned_at_utc', 'mod_reason_title', 'gilded', 'archived', 'collapsed_reason_code', 'no_follow', 'author', 'can_mod_post', 'created_utc', 'send_replies', 'parent_id', 'score', 'author_fullname', 'approved_by', 'mod_note', 'all_awardings', 'collapsed', 'body', 'edited', 'top_awarded_type', 'author_flair_css_class', 'name', 'is_submitter', 'downs', 'author_flair_richtext', 'author_patreon_flair', 'body_html', 'removal_reason', 'collapsed_reason', 'distinguished', 'associated_award', 'stickied', 'author_premium', 'can_gild', 'gildings', 'unrepliable_reason', 'author_flair_text_color', 'score_hidden', 'permalink', 'subreddit_type', 'locked', 'report_reasons', 'created', 'media_metadata', 'author_flair_text', 'treatment_tags', 'link_id', 'subreddit_name_prefixed', 'controversiality', 'depth', 'author_flair_background_color', 'collapsed_because_crowd_control', 'mod_reports', 'num_reports', 'ups', '_fetched'])\n",
      "lmdt4go\n",
      "![gif](giphy|l3mZrLxM4iZaQlvNe|downsized)--------------------------------------------------------\n",
      "\n",
      "dict_keys(['_replies', '_submission', '_reddit', 'total_awards_received', 'approved_at_utc', 'author_is_blocked', 'comment_type', 'awarders', 'mod_reason_by', 'banned_by', 'ups', 'removal_reason', 'link_id', 'author_flair_template_id', 'likes', 'user_reports', 'saved', 'id', 'banned_at_utc', 'mod_reason_title', 'gilded', 'archived', 'collapsed_reason_code', 'no_follow', 'author', 'can_mod_post', 'send_replies', 'parent_id', 'score', 'approved_by', 'report_reasons', 'all_awardings', 'subreddit_id', 'body', 'edited', 'downs', 'author_flair_css_class', 'collapsed', 'is_submitter', 'body_html', 'gildings', 'collapsed_reason', 'associated_award', 'stickied', 'subreddit_type', 'can_gild', 'top_awarded_type', 'unrepliable_reason', 'author_flair_text_color', 'score_hidden', 'permalink', 'num_reports', 'locked', 'name', 'created', 'subreddit', 'author_flair_text', 'treatment_tags', 'created_utc', 'subreddit_name_prefixed', 'controversiality', 'depth', 'author_flair_background_color', 'collapsed_because_crowd_control', 'mod_reports', 'mod_note', 'distinguished', '_fetched'])\n",
      "lmdvnzi\n",
      "[deleted]--------------------------------------------------------\n",
      "\n",
      "dict_keys(['_replies', '_submission', '_reddit', 'subreddit_id', 'approved_at_utc', 'author_is_blocked', 'comment_type', 'awarders', 'mod_reason_by', 'banned_by', 'author_flair_type', 'total_awards_received', 'subreddit', 'author_flair_template_id', 'likes', 'user_reports', 'saved', 'id', 'banned_at_utc', 'mod_reason_title', 'gilded', 'archived', 'collapsed_reason_code', 'no_follow', 'author', 'can_mod_post', 'created_utc', 'send_replies', 'parent_id', 'score', 'author_fullname', 'removal_reason', 'approved_by', 'mod_note', 'all_awardings', 'body', 'edited', 'top_awarded_type', 'author_flair_css_class', 'name', 'is_submitter', 'downs', 'author_flair_richtext', 'author_patreon_flair', 'body_html', 'gildings', 'collapsed_reason', 'distinguished', 'associated_award', 'stickied', 'author_premium', 'can_gild', 'link_id', 'unrepliable_reason', 'author_flair_text_color', 'score_hidden', 'permalink', 'subreddit_type', 'locked', 'report_reasons', 'created', 'author_flair_text', 'treatment_tags', 'collapsed', 'subreddit_name_prefixed', 'controversiality', 'depth', 'author_flair_background_color', 'collapsed_because_crowd_control', 'mod_reports', 'num_reports', 'ups', '_fetched'])\n",
      "lmdizsh\n",
      "Thank you! I love the game so wanted to try:)--------------------------------------------------------\n",
      "\n",
      "dict_keys(['_replies', '_submission', '_reddit', 'subreddit_id', 'approved_at_utc', 'author_is_blocked', 'comment_type', 'awarders', 'mod_reason_by', 'banned_by', 'author_flair_type', 'total_awards_received', 'subreddit', 'author_flair_template_id', 'likes', 'user_reports', 'saved', 'id', 'banned_at_utc', 'mod_reason_title', 'gilded', 'archived', 'collapsed_reason_code', 'no_follow', 'author', 'can_mod_post', 'created_utc', 'send_replies', 'parent_id', 'score', 'author_fullname', 'removal_reason', 'approved_by', 'mod_note', 'all_awardings', 'body', 'edited', 'top_awarded_type', 'author_flair_css_class', 'name', 'is_submitter', 'downs', 'author_flair_richtext', 'author_patreon_flair', 'body_html', 'gildings', 'collapsed_reason', 'distinguished', 'associated_award', 'stickied', 'author_premium', 'can_gild', 'link_id', 'unrepliable_reason', 'author_flair_text_color', 'score_hidden', 'permalink', 'subreddit_type', 'locked', 'report_reasons', 'created', 'author_flair_text', 'treatment_tags', 'collapsed', 'subreddit_name_prefixed', 'controversiality', 'depth', 'author_flair_background_color', 'collapsed_because_crowd_control', 'mod_reports', 'num_reports', 'ups', '_fetched'])\n",
      "lmisdtf\n",
      "I THOUGHT ABOUT THAT!--------------------------------------------------------\n",
      "\n",
      "dict_keys(['_replies', '_submission', '_reddit', 'subreddit_id', 'approved_at_utc', 'author_is_blocked', 'comment_type', 'awarders', 'mod_reason_by', 'banned_by', 'author_flair_type', 'total_awards_received', 'subreddit', 'author_flair_template_id', 'likes', 'user_reports', 'saved', 'id', 'banned_at_utc', 'mod_reason_title', 'gilded', 'archived', 'collapsed_reason_code', 'no_follow', 'author', 'can_mod_post', 'created_utc', 'send_replies', 'parent_id', 'score', 'author_fullname', 'removal_reason', 'approved_by', 'mod_note', 'all_awardings', 'body', 'edited', 'top_awarded_type', 'author_flair_css_class', 'name', 'is_submitter', 'downs', 'author_flair_richtext', 'author_patreon_flair', 'body_html', 'gildings', 'collapsed_reason', 'distinguished', 'associated_award', 'stickied', 'author_premium', 'can_gild', 'link_id', 'unrepliable_reason', 'author_flair_text_color', 'score_hidden', 'permalink', 'subreddit_type', 'locked', 'report_reasons', 'created', 'author_flair_text', 'treatment_tags', 'collapsed', 'subreddit_name_prefixed', 'controversiality', 'depth', 'author_flair_background_color', 'collapsed_because_crowd_control', 'mod_reports', 'num_reports', 'ups', '_fetched'])\n",
      "lmeugc2\n",
      "Is that you Tarantino?--------------------------------------------------------\n",
      "\n",
      "dict_keys(['_replies', '_submission', '_reddit', 'subreddit_id', 'approved_at_utc', 'author_is_blocked', 'comment_type', 'awarders', 'mod_reason_by', 'banned_by', 'author_flair_type', 'total_awards_received', 'subreddit', 'author_flair_template_id', 'likes', 'user_reports', 'saved', 'id', 'banned_at_utc', 'mod_reason_title', 'gilded', 'archived', 'collapsed_reason_code', 'no_follow', 'author', 'can_mod_post', 'created_utc', 'send_replies', 'parent_id', 'score', 'author_fullname', 'removal_reason', 'approved_by', 'mod_note', 'all_awardings', 'body', 'edited', 'top_awarded_type', 'author_flair_css_class', 'name', 'is_submitter', 'downs', 'author_flair_richtext', 'author_patreon_flair', 'body_html', 'gildings', 'collapsed_reason', 'distinguished', 'associated_award', 'stickied', 'author_premium', 'can_gild', 'link_id', 'unrepliable_reason', 'author_flair_text_color', 'score_hidden', 'permalink', 'subreddit_type', 'locked', 'report_reasons', 'created', 'author_flair_text', 'treatment_tags', 'collapsed', 'subreddit_name_prefixed', 'controversiality', 'depth', 'author_flair_background_color', 'collapsed_because_crowd_control', 'mod_reports', 'num_reports', 'ups', '_fetched'])\n",
      "lmf5hgy\n",
      "Yep even with the house arrest looking anklets lol--------------------------------------------------------\n",
      "\n",
      "dict_keys(['_replies', '_submission', '_reddit', 'subreddit_id', 'approved_at_utc', 'author_is_blocked', 'comment_type', 'awarders', 'mod_reason_by', 'banned_by', 'author_flair_type', 'total_awards_received', 'subreddit', 'author_flair_template_id', 'likes', 'user_reports', 'saved', 'id', 'banned_at_utc', 'mod_reason_title', 'gilded', 'archived', 'collapsed_reason_code', 'no_follow', 'author', 'can_mod_post', 'created_utc', 'send_replies', 'parent_id', 'score', 'author_fullname', 'removal_reason', 'approved_by', 'mod_note', 'all_awardings', 'body', 'edited', 'top_awarded_type', 'author_flair_css_class', 'name', 'is_submitter', 'downs', 'author_flair_richtext', 'author_patreon_flair', 'body_html', 'gildings', 'collapsed_reason', 'distinguished', 'associated_award', 'stickied', 'author_premium', 'can_gild', 'link_id', 'unrepliable_reason', 'author_flair_text_color', 'score_hidden', 'permalink', 'subreddit_type', 'locked', 'report_reasons', 'created', 'author_flair_text', 'treatment_tags', 'collapsed', 'subreddit_name_prefixed', 'controversiality', 'depth', 'author_flair_background_color', 'collapsed_because_crowd_control', 'mod_reports', 'num_reports', 'ups', '_fetched'])\n",
      "lmfnris\n",
      "Is that you Dhy (it's the guy who sells mitsuko feet picks on our server)--------------------------------------------------------\n",
      "\n",
      "dict_keys(['_replies', '_submission', '_reddit', 'subreddit_id', 'approved_at_utc', 'author_is_blocked', 'comment_type', 'awarders', 'mod_reason_by', 'banned_by', 'author_flair_type', 'total_awards_received', 'subreddit', 'author_flair_template_id', 'likes', 'user_reports', 'saved', 'id', 'banned_at_utc', 'mod_reason_title', 'gilded', 'archived', 'collapsed_reason_code', 'no_follow', 'author', 'can_mod_post', 'created_utc', 'send_replies', 'parent_id', 'score', 'author_fullname', 'removal_reason', 'approved_by', 'mod_note', 'all_awardings', 'body', 'edited', 'top_awarded_type', 'author_flair_css_class', 'name', 'is_submitter', 'downs', 'author_flair_richtext', 'author_patreon_flair', 'body_html', 'gildings', 'collapsed_reason', 'distinguished', 'associated_award', 'stickied', 'author_premium', 'can_gild', 'link_id', 'unrepliable_reason', 'author_flair_text_color', 'score_hidden', 'permalink', 'subreddit_type', 'locked', 'report_reasons', 'created', 'author_flair_text', 'treatment_tags', 'collapsed', 'subreddit_name_prefixed', 'controversiality', 'depth', 'author_flair_background_color', 'collapsed_because_crowd_control', 'mod_reports', 'num_reports', 'ups', '_fetched'])\n",
      "lmf5fbb\n",
      "I put it together myself since I couldn't find her cosplay yet! It's more detailed than you can see in this photo--------------------------------------------------------\n",
      "\n",
      "dict_keys(['_replies', '_submission', '_reddit', 'subreddit_id', 'approved_at_utc', 'author_is_blocked', 'comment_type', 'awarders', 'mod_reason_by', 'banned_by', 'author_flair_type', 'total_awards_received', 'subreddit', 'author_flair_template_id', 'likes', 'user_reports', 'saved', 'id', 'banned_at_utc', 'mod_reason_title', 'gilded', 'archived', 'collapsed_reason_code', 'no_follow', 'author', 'can_mod_post', 'created_utc', 'send_replies', 'parent_id', 'score', 'author_fullname', 'removal_reason', 'approved_by', 'mod_note', 'all_awardings', 'body', 'edited', 'top_awarded_type', 'author_flair_css_class', 'name', 'is_submitter', 'downs', 'author_flair_richtext', 'author_patreon_flair', 'body_html', 'gildings', 'collapsed_reason', 'distinguished', 'associated_award', 'stickied', 'author_premium', 'can_gild', 'link_id', 'unrepliable_reason', 'author_flair_text_color', 'score_hidden', 'permalink', 'subreddit_type', 'locked', 'report_reasons', 'created', 'author_flair_text', 'treatment_tags', 'collapsed', 'subreddit_name_prefixed', 'controversiality', 'depth', 'author_flair_background_color', 'collapsed_because_crowd_control', 'mod_reports', 'num_reports', 'ups', '_fetched'])\n",
      "lmhaksy\n",
      "thanks Mika!--------------------------------------------------------\n",
      "\n",
      "dict_keys(['_replies', '_submission', '_reddit', 'subreddit_id', 'approved_at_utc', 'author_is_blocked', 'comment_type', 'awarders', 'mod_reason_by', 'banned_by', 'author_flair_type', 'total_awards_received', 'subreddit', 'author_flair_template_id', 'likes', 'user_reports', 'saved', 'id', 'banned_at_utc', 'mod_reason_title', 'gilded', 'archived', 'collapsed_reason_code', 'no_follow', 'author', 'can_mod_post', 'created_utc', 'send_replies', 'parent_id', 'score', 'author_fullname', 'removal_reason', 'approved_by', 'mod_note', 'all_awardings', 'body', 'edited', 'top_awarded_type', 'author_flair_css_class', 'name', 'is_submitter', 'downs', 'author_flair_richtext', 'author_patreon_flair', 'body_html', 'gildings', 'collapsed_reason', 'distinguished', 'associated_award', 'stickied', 'author_premium', 'can_gild', 'link_id', 'unrepliable_reason', 'author_flair_text_color', 'score_hidden', 'permalink', 'subreddit_type', 'locked', 'report_reasons', 'created', 'author_flair_text', 'treatment_tags', 'collapsed', 'subreddit_name_prefixed', 'controversiality', 'depth', 'author_flair_background_color', 'collapsed_because_crowd_control', 'mod_reports', 'num_reports', 'ups', '_fetched'])\n",
      "lnd4d1i\n",
      "Why not both same place--------------------------------------------------------\n",
      "\n",
      "dict_keys(['_replies', '_submission', '_reddit', 'subreddit_id', 'approved_at_utc', 'author_is_blocked', 'comment_type', 'awarders', 'mod_reason_by', 'banned_by', 'author_flair_type', 'total_awards_received', 'subreddit', 'author_flair_template_id', 'likes', 'user_reports', 'saved', 'id', 'banned_at_utc', 'mod_reason_title', 'gilded', 'archived', 'collapsed_reason_code', 'no_follow', 'author', 'can_mod_post', 'created_utc', 'send_replies', 'parent_id', 'score', 'author_fullname', 'removal_reason', 'approved_by', 'mod_note', 'all_awardings', 'body', 'edited', 'top_awarded_type', 'author_flair_css_class', 'name', 'is_submitter', 'downs', 'author_flair_richtext', 'author_patreon_flair', 'body_html', 'gildings', 'collapsed_reason', 'distinguished', 'associated_award', 'stickied', 'author_premium', 'can_gild', 'link_id', 'unrepliable_reason', 'author_flair_text_color', 'score_hidden', 'permalink', 'subreddit_type', 'locked', 'report_reasons', 'created', 'author_flair_text', 'treatment_tags', 'collapsed', 'subreddit_name_prefixed', 'controversiality', 'depth', 'author_flair_background_color', 'collapsed_because_crowd_control', 'mod_reports', 'num_reports', 'ups', '_fetched'])\n",
      "lmdzi2x\n",
      "Cringe--------------------------------------------------------\n",
      "\n",
      "dict_keys(['_replies', '_submission', '_reddit', 'subreddit_id', 'approved_at_utc', 'author_is_blocked', 'comment_type', 'awarders', 'mod_reason_by', 'banned_by', 'author_flair_type', 'total_awards_received', 'subreddit', 'author_flair_template_id', 'likes', 'user_reports', 'saved', 'id', 'banned_at_utc', 'mod_reason_title', 'gilded', 'archived', 'collapsed_reason_code', 'no_follow', 'author', 'can_mod_post', 'send_replies', 'parent_id', 'score', 'author_fullname', 'removal_reason', 'approved_by', 'mod_note', 'all_awardings', 'body', 'edited', 'top_awarded_type', 'downs', 'author_flair_css_class', 'name', 'is_submitter', 'collapsed', 'author_flair_richtext', 'author_patreon_flair', 'body_html', 'gildings', 'collapsed_reason', 'distinguished', 'associated_award', 'stickied', 'author_premium', 'can_gild', 'link_id', 'unrepliable_reason', 'author_flair_text_color', 'score_hidden', 'permalink', 'subreddit_type', 'locked', 'report_reasons', 'created', 'author_flair_text', 'treatment_tags', 'created_utc', 'subreddit_name_prefixed', 'controversiality', 'depth', 'author_flair_background_color', 'collapsed_because_crowd_control', 'mod_reports', 'num_reports', 'ups', '_fetched'])\n",
      "lmn161g\n",
      "next one maybe? but this one is hawt too. Well done--------------------------------------------------------\n",
      "\n",
      "dict_keys(['_replies', '_submission', '_reddit', 'subreddit_id', 'approved_at_utc', 'author_is_blocked', 'comment_type', 'awarders', 'mod_reason_by', 'banned_by', 'author_flair_type', 'total_awards_received', 'subreddit', 'author_flair_template_id', 'likes', 'user_reports', 'saved', 'id', 'banned_at_utc', 'mod_reason_title', 'gilded', 'archived', 'collapsed_reason_code', 'no_follow', 'author', 'can_mod_post', 'send_replies', 'parent_id', 'score', 'author_fullname', 'removal_reason', 'approved_by', 'mod_note', 'all_awardings', 'body', 'edited', 'top_awarded_type', 'downs', 'author_flair_css_class', 'name', 'is_submitter', 'collapsed', 'author_flair_richtext', 'author_patreon_flair', 'body_html', 'gildings', 'collapsed_reason', 'distinguished', 'associated_award', 'stickied', 'author_premium', 'can_gild', 'link_id', 'unrepliable_reason', 'author_flair_text_color', 'score_hidden', 'permalink', 'subreddit_type', 'locked', 'report_reasons', 'created', 'author_flair_text', 'treatment_tags', 'created_utc', 'subreddit_name_prefixed', 'controversiality', 'depth', 'author_flair_background_color', 'collapsed_because_crowd_control', 'mod_reports', 'num_reports', 'ups', '_fetched'])\n",
      "lmjxxr3\n",
      "Proof or it didn't happen 👀--------------------------------------------------------\n",
      "\n",
      "dict_keys(['_replies', '_submission', '_reddit', 'subreddit_id', 'approved_at_utc', 'author_is_blocked', 'comment_type', 'awarders', 'mod_reason_by', 'banned_by', 'author_flair_type', 'total_awards_received', 'subreddit', 'author_flair_template_id', 'likes', 'user_reports', 'saved', 'id', 'banned_at_utc', 'mod_reason_title', 'gilded', 'archived', 'collapsed_reason_code', 'no_follow', 'author', 'can_mod_post', 'send_replies', 'parent_id', 'score', 'author_fullname', 'removal_reason', 'approved_by', 'mod_note', 'all_awardings', 'body', 'edited', 'top_awarded_type', 'downs', 'author_flair_css_class', 'name', 'is_submitter', 'collapsed', 'author_flair_richtext', 'author_patreon_flair', 'body_html', 'gildings', 'collapsed_reason', 'distinguished', 'associated_award', 'stickied', 'author_premium', 'can_gild', 'link_id', 'unrepliable_reason', 'author_flair_text_color', 'score_hidden', 'permalink', 'subreddit_type', 'locked', 'report_reasons', 'created', 'author_flair_text', 'treatment_tags', 'created_utc', 'subreddit_name_prefixed', 'controversiality', 'depth', 'author_flair_background_color', 'collapsed_because_crowd_control', 'mod_reports', 'num_reports', 'ups', '_fetched'])\n",
      "lmf5ndh\n",
      "You did an amazing job ! You know what would be fun ? Going as maxxine or pearl for halloween. I feel like maxxine got such a distinct look, the horror community would eat that cosplay up--------------------------------------------------------\n",
      "\n",
      "35\n"
     ]
    }
   ],
   "source": [
    "submission.comments.replace_more(limit=None)\n",
    "count = 0\n",
    "for comment in submission.comments.list():\n",
    "    print(vars(comment).keys())\n",
    "    print(comment.id)\n",
    "    print(comment.body, end='--------------------------------------------------------\\n\\n')\n",
    "    count += 1\n",
    "\n",
    "print(count)"
   ]
  },
  {
   "cell_type": "code",
   "execution_count": 10,
   "metadata": {},
   "outputs": [
    {
     "data": {
      "text/plain": [
       "'https://reddit.com/r/OnceHumanOfficial/comments/1fd61ft/mitsuko_cosplay_by_01mika/'"
      ]
     },
     "execution_count": 10,
     "metadata": {},
     "output_type": "execute_result"
    }
   ],
   "source": [
    "submission_url"
   ]
  },
  {
   "cell_type": "code",
   "execution_count": 11,
   "metadata": {},
   "outputs": [
    {
     "name": "stdout",
     "output_type": "stream",
     "text": [
      "dict_keys(['comment_limit', 'comment_sort', '_reddit', 'approved_at_utc', 'subreddit', 'selftext', 'author_fullname', 'saved', 'mod_reason_title', 'gilded', 'clicked', 'title', 'link_flair_richtext', 'subreddit_name_prefixed', 'hidden', 'pwls', 'link_flair_css_class', 'downs', 'thumbnail_height', 'top_awarded_type', 'hide_score', 'name', 'quarantine', 'link_flair_text_color', 'upvote_ratio', 'author_flair_background_color', 'ups', 'total_awards_received', 'media_embed', 'thumbnail_width', 'author_flair_template_id', 'is_original_content', 'user_reports', 'secure_media', 'is_reddit_media_domain', 'is_meta', 'category', 'secure_media_embed', 'link_flair_text', 'can_mod_post', 'score', 'approved_by', 'is_created_from_ads_ui', 'author_premium', 'thumbnail', 'edited', 'author_flair_css_class', 'author_flair_richtext', 'gildings', 'post_hint', 'content_categories', 'is_self', 'subreddit_type', 'created', 'link_flair_type', 'wls', 'removed_by_category', 'banned_by', 'author_flair_type', 'domain', 'allow_live_comments', 'selftext_html', 'likes', 'suggested_sort', 'banned_at_utc', 'url_overridden_by_dest', 'view_count', 'archived', 'no_follow', 'is_crosspostable', 'pinned', 'over_18', 'preview', 'all_awardings', 'awarders', 'media_only', 'link_flair_template_id', 'can_gild', 'spoiler', 'locked', 'author_flair_text', 'treatment_tags', 'visited', 'removed_by', 'mod_note', 'distinguished', 'subreddit_id', 'author_is_blocked', 'mod_reason_by', 'num_reports', 'removal_reason', 'link_flair_background_color', 'id', 'is_robot_indexable', 'report_reasons', 'author', 'discussion_type', 'num_comments', 'send_replies', 'whitelist_status', 'contest_mode', 'mod_reports', 'author_patreon_flair', 'author_flair_text_color', 'permalink', 'parent_whitelist_status', 'stickied', 'url', 'subreddit_subscribers', 'created_utc', 'num_crossposts', 'media', 'is_video', '_fetched', '_additional_fetch_params', '_comments_by_id'])\n"
     ]
    }
   ],
   "source": [
    "print(posts_list[POST_ID].keys())"
   ]
  },
  {
   "cell_type": "markdown",
   "metadata": {},
   "source": [
    "#### Items required\n",
    "- selftext\n",
    "- title\n",
    "- upvote_ratio (can use for filtering reddit when scraping)\n",
    "- num_comments (can use for filtering reddit when scraping)\n",
    "- created_utc (nid parsing)\n",
    "- comments (parse then concatenated)"
   ]
  },
  {
   "cell_type": "markdown",
   "metadata": {},
   "source": [
    "# Getting Data from Past Month"
   ]
  },
  {
   "cell_type": "code",
   "execution_count": 1,
   "metadata": {},
   "outputs": [],
   "source": [
    "from dotenv import load_dotenv\n",
    "import os \n",
    "from praw.models import MoreComments\n",
    "\n",
    "load_dotenv()\n",
    "\n",
    "REDDIT_CLIENT_ID = os.getenv(\"REDDIT_CLIENT_ID\")\n",
    "REDDIT_CLIENT_SECRET = os.getenv(\"REDDIT_SECRET_KEY\")"
   ]
  },
  {
   "cell_type": "code",
   "execution_count": 2,
   "metadata": {},
   "outputs": [
    {
     "data": {
      "text/plain": [
       "<praw.reddit.Reddit at 0x2161aadac20>"
      ]
     },
     "execution_count": 2,
     "metadata": {},
     "output_type": "execute_result"
    }
   ],
   "source": [
    "import praw \n",
    "from praw import Reddit \n",
    "\n",
    "reddit = Reddit(\n",
    "    client_id=REDDIT_CLIENT_ID,\n",
    "    client_secret=REDDIT_CLIENT_SECRET,\n",
    "    user_agent=\"Mozilla/5.0 (Windows NT 10.0; Win64; x64) AppleWebKit/537.36 (KHTML, like Gecko) Chrome/129.0.0.0 Safari/537.36\"\n",
    ")\n",
    "\n",
    "reddit"
   ]
  },
  {
   "cell_type": "code",
   "execution_count": 12,
   "metadata": {},
   "outputs": [],
   "source": [
    "POST_FIELDS = [\n",
    "    'id',\n",
    "    'selftext',\n",
    "    'title',\n",
    "    'created_utc',\n",
    "    'upvote_ratio',\n",
    "    'num_comments',\n",
    "    'permalink',\n",
    "]"
   ]
  },
  {
   "cell_type": "code",
   "execution_count": 16,
   "metadata": {},
   "outputs": [
    {
     "data": {
      "text/plain": [
       "{'id': '1fnxgds',\n",
       " 'selftext': '',\n",
       " 'title': 'Who says you need a metal shelf?',\n",
       " 'created_utc': '2024-09-24 06:35:54',\n",
       " 'upvote_ratio': 0.94,\n",
       " 'num_comments': 45,\n",
       " 'permalink': '/r/OnceHumanOfficial/comments/1fnxgds/who_says_you_need_a_metal_shelf/'}"
      ]
     },
     "execution_count": 16,
     "metadata": {},
     "output_type": "execute_result"
    }
   ],
   "source": [
    "from datetime import datetime\n",
    "\n",
    "subreddit = reddit.subreddit('OnceHumanOfficial')\n",
    "posts_build = subreddit.search(query='flair:Build', sort='top', time_filter='month', limit=100) # also flair:Discussion\n",
    "\n",
    "posts_build_list = []\n",
    "for post in posts_build:\n",
    "    post_dict = vars(post)\n",
    "    post = { field: post_dict[field] for field in POST_FIELDS }\n",
    "    post['created_utc'] = datetime.fromtimestamp(post['created_utc']).strftime('%Y-%m-%d %H:%M:%S')\n",
    "    posts_build_list.append(post)\n",
    "\n",
    "posts_build_list[1]"
   ]
  },
  {
   "cell_type": "code",
   "execution_count": 17,
   "metadata": {},
   "outputs": [
    {
     "data": {
      "text/plain": [
       "{'id': '1f8sut6',\n",
       " 'selftext': 'Just got this beauty. Anyone know the exact function of a golden digby? There’s no description whatsoever, only “can get additional ores”. What ores?',\n",
       " 'title': 'Golden Digby Level 5',\n",
       " 'created_utc': '2024-09-04 21:06:50',\n",
       " 'upvote_ratio': 0.98,\n",
       " 'num_comments': 86,\n",
       " 'permalink': '/r/OnceHumanOfficial/comments/1f8sut6/golden_digby_level_5/'}"
      ]
     },
     "execution_count": 17,
     "metadata": {},
     "output_type": "execute_result"
    }
   ],
   "source": [
    "posts_discussion = subreddit.search(query='flair:Discussion', sort='top', time_filter='month', limit=100)\n",
    "\n",
    "posts_discussion_list = []\n",
    "for post in posts_discussion:\n",
    "    post_dict = vars(post)\n",
    "    post = { field: post_dict[field] for field in POST_FIELDS }\n",
    "    post['created_utc'] = datetime.fromtimestamp(post['created_utc']).strftime('%Y-%m-%d %H:%M:%S')\n",
    "    posts_discussion_list.append(post)\n",
    "\n",
    "posts_discussion_list[1]"
   ]
  },
  {
   "cell_type": "markdown",
   "metadata": {},
   "source": [
    "### Export Raw Posts to JSON"
   ]
  },
  {
   "cell_type": "code",
   "execution_count": 18,
   "metadata": {},
   "outputs": [],
   "source": [
    "import json \n",
    "\n",
    "def write_to_json(data, filename):\n",
    "    with open(filename, 'w') as f:\n",
    "        json.dump(data, f)\n",
    "\n",
    "write_to_json(posts_build_list, 'posts_build.json')\n",
    "write_to_json(posts_discussion_list, 'posts_discussion.json')"
   ]
  },
  {
   "cell_type": "code",
   "execution_count": null,
   "metadata": {},
   "outputs": [],
   "source": []
  },
  {
   "cell_type": "markdown",
   "metadata": {},
   "source": [
    "### Extract comments and export to JSON"
   ]
  },
  {
   "cell_type": "code",
   "execution_count": 21,
   "metadata": {},
   "outputs": [
    {
     "data": {
      "text/plain": [
       "{'id': 'llfpkmn',\n",
       " 'post_id': '1f8fefx',\n",
       " 'text': 'Why are architects playing this game 😭',\n",
       " 'created_utc': '2024-09-04 16:14:31',\n",
       " 'ups': 10,\n",
       " 'downs': 0,\n",
       " 'likes': None}"
      ]
     },
     "execution_count": 21,
     "metadata": {},
     "output_type": "execute_result"
    }
   ],
   "source": [
    "HOST = 'https://reddit.com'\n",
    "\n",
    "comments = []\n",
    "for post in posts_build_list:\n",
    "    permalink = post['permalink']\n",
    "    submission_url = HOST + permalink\n",
    "    submission = reddit.submission(url=submission_url)\n",
    "\n",
    "    submission.comments.replace_more(limit=None)\n",
    "    for comment in submission.comments.list():\n",
    "        cleaned_comment = {\n",
    "            'id': comment.id,\n",
    "            'post_id': post['id'],\n",
    "            'text': comment.body,\n",
    "            'created_utc': datetime.fromtimestamp(comment.created_utc).strftime('%Y-%m-%d %H:%M:%S'),\n",
    "            'ups': comment.ups,\n",
    "            'downs': comment.downs,\n",
    "            'likes': comment.likes\n",
    "        }\n",
    "\n",
    "        comments.append(cleaned_comment)\n",
    "\n",
    "comments[1]"
   ]
  },
  {
   "cell_type": "code",
   "execution_count": 23,
   "metadata": {},
   "outputs": [],
   "source": [
    "write_to_json(comments, 'comments_build.json')"
   ]
  },
  {
   "cell_type": "code",
   "execution_count": 24,
   "metadata": {},
   "outputs": [
    {
     "data": {
      "text/plain": [
       "{'id': 'lmdh5ir',\n",
       " 'post_id': '1fd61ft',\n",
       " 'text': 'Looks great , gj with your other cosplays too',\n",
       " 'created_utc': '2024-09-10 09:43:33',\n",
       " 'ups': 16,\n",
       " 'downs': 0,\n",
       " 'likes': None}"
      ]
     },
     "execution_count": 24,
     "metadata": {},
     "output_type": "execute_result"
    }
   ],
   "source": [
    "HOST = 'https://reddit.com'\n",
    "\n",
    "comments = []\n",
    "for post in posts_discussion_list:\n",
    "    permalink = post['permalink']\n",
    "    submission_url = HOST + permalink\n",
    "    submission = reddit.submission(url=submission_url)\n",
    "\n",
    "    submission.comments.replace_more(limit=None)\n",
    "    for comment in submission.comments.list():\n",
    "        cleaned_comment = {\n",
    "            'id': comment.id,\n",
    "            'post_id': post['id'],\n",
    "            'text': comment.body,\n",
    "            'created_utc': datetime.fromtimestamp(comment.created_utc).strftime('%Y-%m-%d %H:%M:%S'),\n",
    "            'ups': comment.ups,\n",
    "            'downs': comment.downs,\n",
    "            'likes': comment.likes\n",
    "        }\n",
    "\n",
    "        comments.append(cleaned_comment)\n",
    "\n",
    "comments[1]"
   ]
  },
  {
   "cell_type": "code",
   "execution_count": 25,
   "metadata": {},
   "outputs": [
    {
     "data": {
      "text/plain": [
       "5579"
      ]
     },
     "execution_count": 25,
     "metadata": {},
     "output_type": "execute_result"
    }
   ],
   "source": [
    "len(comments)"
   ]
  },
  {
   "cell_type": "code",
   "execution_count": 26,
   "metadata": {},
   "outputs": [],
   "source": [
    "write_to_json(comments, 'comments_discussion.json')"
   ]
  }
 ],
 "metadata": {
  "kernelspec": {
   "display_name": "venv",
   "language": "python",
   "name": "python3"
  },
  "language_info": {
   "codemirror_mode": {
    "name": "ipython",
    "version": 3
   },
   "file_extension": ".py",
   "mimetype": "text/x-python",
   "name": "python",
   "nbconvert_exporter": "python",
   "pygments_lexer": "ipython3",
   "version": "3.10.9"
  }
 },
 "nbformat": 4,
 "nbformat_minor": 2
}
